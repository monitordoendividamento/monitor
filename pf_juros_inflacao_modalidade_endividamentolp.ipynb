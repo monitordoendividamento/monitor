{
 "cells": [
  {
   "cell_type": "code",
   "execution_count": 36,
   "id": "b7060435-e1a8-4994-a920-b1eac6740437",
   "metadata": {
    "tags": []
   },
   "outputs": [
    {
     "name": "stderr",
     "output_type": "stream",
     "text": [
      "/var/folders/cj/_95ntbkj60b_pjvf32tvsh2h0000gn/T/ipykernel_77167/2948664698.py:8: UserWarning: \n",
      "The dash_core_components package is deprecated. Please replace\n",
      "`import dash_core_components as dcc` with `from dash import dcc`\n",
      "  import dash_core_components as dcc\n",
      "/var/folders/cj/_95ntbkj60b_pjvf32tvsh2h0000gn/T/ipykernel_77167/2948664698.py:9: UserWarning: \n",
      "The dash_html_components package is deprecated. Please replace\n",
      "`import dash_html_components as html` with `from dash import html`\n",
      "  import dash_html_components as html\n"
     ]
    }
   ],
   "source": [
    "import zipfile\n",
    "import os\n",
    "import pandas as pd\n",
    "import deflatebr as dbr\n",
    "import requests\n",
    "import plotly.graph_objects as go\n",
    "import dash\n",
    "import dash_core_components as dcc\n",
    "import dash_html_components as html\n",
    "from dash.dependencies import Input, Output"
   ]
  },
  {
   "cell_type": "code",
   "execution_count": 2,
   "id": "a874ff72-be0b-41f4-8649-971f09e3f979",
   "metadata": {
    "tags": []
   },
   "outputs": [],
   "source": [
    "def concatenar_csvs(diretorio):\n",
    "    frames = []\n",
    "\n",
    "    for arquivo in os.listdir(diretorio):\n",
    "        if arquivo.endswith('.csv'):\n",
    "            caminho_arquivo = os.path.join(diretorio, arquivo)\n",
    "            \n",
    "            df = pd.read_csv(caminho_arquivo, encoding='utf-8', delimiter=\";\", decimal=\",\")\n",
    "            df = df.rename(columns={df.columns[0]: \"data_base\"})\n",
    "            df['data_base'] = pd.to_datetime(df['data_base'], format=\"%Y-%m-%d\")\n",
    "            #Filtros:\n",
    "            df = df[df['cliente'] == 'PF']\n",
    "            df['modalidade'] = df['modalidade'].str.replace('PF - ','')\n",
    "            df = df[['data_base', 'modalidade', 'a_vencer_de_361_ate_1080_dias', 'a_vencer_de_1081_ate_1800_dias', 'a_vencer_de_1801_ate_5400_dias', 'a_vencer_acima_de_5400_dias']]\n",
    "            df['longo_prazo'] = df['a_vencer_de_361_ate_1080_dias'] + df['a_vencer_de_1081_ate_1800_dias'] + df['a_vencer_de_1801_ate_5400_dias'] + df['a_vencer_acima_de_5400_dias']\n",
    "            df = df.drop(columns = ['a_vencer_de_361_ate_1080_dias', 'a_vencer_de_1081_ate_1800_dias', 'a_vencer_de_1801_ate_5400_dias', 'a_vencer_acima_de_5400_dias'], axis = 1)\n",
    "            df['data_base'] = df['data_base'].dt.strftime('%Y-%m')\n",
    "            #Agrupamentos para análise\n",
    "            df = df.groupby(['data_base','modalidade'])['longo_prazo'].sum().reset_index()\n",
    "            \n",
    "            frames.append(df)\n",
    "\n",
    "    df_concatenado = pd.concat(frames, ignore_index=True)\n",
    "\n",
    "    return df_concatenado"
   ]
  },
  {
   "cell_type": "code",
   "execution_count": 3,
   "id": "9889a4fb-e8f2-4a7f-aa72-d19a0963da4e",
   "metadata": {
    "tags": []
   },
   "outputs": [],
   "source": [
    "anos = list(range(2012, 2024))\n",
    "dataframes = []\n",
    "\n",
    "for ano in anos:\n",
    "    diretorio = f\"planilha_{ano}\"\n",
    "    dataframe_ano = concatenar_csvs(diretorio)\n",
    "    dataframes.append(dataframe_ano)\n",
    "\n",
    "df_total = pd.concat(dataframes, ignore_index=False)"
   ]
  },
  {
   "cell_type": "code",
   "execution_count": 6,
   "id": "c87ab68c-d892-4862-9dbc-356756e70fd8",
   "metadata": {
    "tags": []
   },
   "outputs": [
    {
     "name": "stderr",
     "output_type": "stream",
     "text": [
      "/Users/brunamoura/anaconda3/lib/python3.11/site-packages/deflatebr/deflate.py:90: FutureWarning: Series.__getitem__ treating keys as positions is deprecated. In a future version, integer keys will always be treated as labels (consistent with DataFrame behavior). To access a value by position, use `ser.iloc[pos]`\n",
      "  df['deflated'] = df[['nom_values', 'VALVALOR']].apply(lambda x: ((real_indx/x[1]) * x[0])[0], axis=1)\n"
     ]
    }
   ],
   "source": [
    "df_total['longo_prazo_deflacionado'] = dbr.deflate(nominal_values=df_total['longo_prazo'], nominal_dates=df_total['data_base'], real_date='2023-01')"
   ]
  },
  {
   "cell_type": "code",
   "execution_count": 62,
   "id": "b2e85b6a-ac90-438d-b76b-190eb32178da",
   "metadata": {
    "tags": []
   },
   "outputs": [],
   "source": [
    "url = 'https://api.bcb.gov.br/dados/serie/bcdata.sgs.25435/dados?formato=json' #Taxa média mensal de juros - Pessoas físicas - Total\n",
    "tx_juros = requests.get(url).json()\n",
    "juros_df = pd.DataFrame(tx_juros)\n",
    "juros_df['data'] = pd.to_datetime(juros_df['data'], format = \"%d/%m/%Y\")\n",
    "juros_df['data'] = juros_df['data'].dt.strftime('%Y-%m')\n",
    "juros_df = juros_df.rename(columns={'data': 'data_base', 'valor': 'Taxa média mensal de juros - PF'})"
   ]
  },
  {
   "cell_type": "code",
   "execution_count": 63,
   "id": "803c3322-b302-426e-bff0-655cfbf23484",
   "metadata": {
    "tags": []
   },
   "outputs": [],
   "source": [
    "url = 'https://api.bcb.gov.br/dados/serie/bcdata.sgs.433/dados?formato=json'\n",
    "inflacao_mensal = requests.get(url).json() \n",
    "inflacao_mensal = pd.DataFrame(inflacao_mensal)\n",
    "inflacao_mensal['data'] = pd.to_datetime(inflacao_mensal['data'], format = \"%d/%m/%Y\")\n",
    "inflacao_mensal['data'] = inflacao_mensal['data'].dt.strftime('%Y-%m')\n",
    "inflacao_mensal = inflacao_mensal.rename(columns={'data': 'data_base', 'valor': 'IPCA'})"
   ]
  },
  {
   "cell_type": "code",
   "execution_count": 64,
   "id": "ed48e267-88bc-40c0-b743-a9cc6afdc2b8",
   "metadata": {
    "tags": []
   },
   "outputs": [],
   "source": [
    "df_modalidade_endividamentolp = pd.merge(inflacao_mensal, juros_df)"
   ]
  },
  {
   "cell_type": "code",
   "execution_count": 65,
   "id": "9af43e1e-c122-4776-90f8-2bd0af26fd5d",
   "metadata": {
    "tags": []
   },
   "outputs": [],
   "source": [
    "df_modalidade_endividamentolp = pd.merge(df_modalidade_endividamentolp, df_total)"
   ]
  },
  {
   "cell_type": "code",
   "execution_count": 66,
   "id": "b51efb04-eebb-4e7c-87c0-6562b7c1e890",
   "metadata": {
    "tags": []
   },
   "outputs": [],
   "source": [
    "df_modalidade_endividamentolp['IPCA'] = df_modalidade_endividamentolp['IPCA'].astype(\"float\")\n",
    "df_modalidade_endividamentolp['Taxa média mensal de juros - PF'] = df_modalidade_endividamentolp['Taxa média mensal de juros - PF'].astype(\"float\")"
   ]
  },
  {
   "cell_type": "code",
   "execution_count": 67,
   "id": "c06aa317-6448-4d2b-9ab0-94b67fee8683",
   "metadata": {
    "tags": []
   },
   "outputs": [],
   "source": [
    "df_modalidade_endividamentolp.to_csv(\"df_juros_inflacao_modalidade.csv\")"
   ]
  },
  {
   "cell_type": "code",
   "execution_count": 68,
   "id": "3b2431b4-2b02-41f6-b451-58c8f56926a4",
   "metadata": {
    "tags": []
   },
   "outputs": [
    {
     "name": "stdout",
     "output_type": "stream",
     "text": [
      "<class 'pandas.core.frame.DataFrame'>\n",
      "RangeIndex: 945 entries, 0 to 944\n",
      "Data columns (total 6 columns):\n",
      " #   Column                           Non-Null Count  Dtype  \n",
      "---  ------                           --------------  -----  \n",
      " 0   data_base                        945 non-null    object \n",
      " 1   IPCA                             945 non-null    float64\n",
      " 2   Taxa média mensal de juros - PF  945 non-null    float64\n",
      " 3   modalidade                       945 non-null    object \n",
      " 4   longo_prazo                      945 non-null    float64\n",
      " 5   longo_prazo_deflacionado         945 non-null    float64\n",
      "dtypes: float64(4), object(2)\n",
      "memory usage: 44.4+ KB\n"
     ]
    }
   ],
   "source": [
    "df_modalidade_endividamentolp.info()"
   ]
  },
  {
   "cell_type": "code",
   "execution_count": 69,
   "id": "c45be46a-b638-4acc-b8be-1d78a98412e1",
   "metadata": {
    "tags": []
   },
   "outputs": [
    {
     "data": {
      "text/html": [
       "\n",
       "        <iframe\n",
       "            width=\"100%\"\n",
       "            height=\"650\"\n",
       "            src=\"http://127.0.0.1:8050/\"\n",
       "            frameborder=\"0\"\n",
       "            allowfullscreen\n",
       "            \n",
       "        ></iframe>\n",
       "        "
      ],
      "text/plain": [
       "<IPython.lib.display.IFrame at 0x168d7e3d0>"
      ]
     },
     "metadata": {},
     "output_type": "display_data"
    }
   ],
   "source": [
    "app = dash.Dash(__name__)\n",
    "\n",
    "app.layout = html.Div([\n",
    "    dcc.Dropdown(\n",
    "        id='yaxis-column',\n",
    "        options=[\n",
    "            {'label': 'Índice de preços ao consumidor (IPCA)', 'value': 'IPCA'},\n",
    "            {'label': 'Taxa média mensal de juros - PF', 'value': 'Taxa média mensal de juros - PF'}\n",
    "        ],\n",
    "        value='IPCA'\n",
    "    ),\n",
    "    dcc.Graph(id='graph-output')\n",
    "])\n",
    "\n",
    "@app.callback(\n",
    "    Output('graph-output', 'figure'),\n",
    "    [Input('yaxis-column', 'value')]\n",
    ")\n",
    "def update_graph(yaxis_column_name):\n",
    "    fig = go.Figure()\n",
    "\n",
    "    # Adicionando linhas da modalidade ao eixo y2\n",
    "    for modalidade in df_modalidade_endividamentolp['modalidade'].unique():\n",
    "        subset = df_modalidade_endividamentolp[df_modalidade_endividamentolp['modalidade'] == modalidade]\n",
    "        fig.add_trace(go.Scatter(x=subset['data_base'],\n",
    "                                 y=subset['longo_prazo_deflacionado'],\n",
    "                                 mode='lines',\n",
    "                                 name=f'{modalidade}',\n",
    "                                 yaxis='y2',\n",
    "                                 line=dict(width=2)))\n",
    "\n",
    "    # Adicionando a coluna selecionada ao eixo y principal\n",
    "    fig.add_trace(go.Scatter(x=df_modalidade_endividamentolp['data_base'],\n",
    "                             y=df_modalidade_endividamentolp[yaxis_column_name],\n",
    "                             mode='lines',\n",
    "                             name=yaxis_column_name,\n",
    "                             line=dict(width=2)))\n",
    "\n",
    "    fig.update_layout(\n",
    "        yaxis2=dict(\n",
    "            overlaying='y',\n",
    "            side='right',\n",
    "            showgrid=False,\n",
    "            title=\"Endividamento de longo prazo\"\n",
    "        ),\n",
    "        template=\"seaborn\",\n",
    "        legend=dict(\n",
    "            x=0.5,\n",
    "            y=-0.3,\n",
    "            orientation='h',\n",
    "            xanchor='center'\n",
    "        ),\n",
    "        xaxis=dict(showgrid=False),\n",
    "        yaxis=dict(\n",
    "            showgrid=False,\n",
    "            title=yaxis_column_name\n",
    "        ),\n",
    "        height=600,\n",
    "        width=700,\n",
    "    )\n",
    "\n",
    "    return fig\n",
    "\n",
    "if __name__ == '__main__':\n",
    "    app.run_server(debug=True)"
   ]
  }
 ],
 "metadata": {
  "kernelspec": {
   "display_name": "Python 3 (ipykernel)",
   "language": "python",
   "name": "python3"
  },
  "language_info": {
   "codemirror_mode": {
    "name": "ipython",
    "version": 3
   },
   "file_extension": ".py",
   "mimetype": "text/x-python",
   "name": "python",
   "nbconvert_exporter": "python",
   "pygments_lexer": "ipython3",
   "version": "3.11.5"
  }
 },
 "nbformat": 4,
 "nbformat_minor": 5
}
