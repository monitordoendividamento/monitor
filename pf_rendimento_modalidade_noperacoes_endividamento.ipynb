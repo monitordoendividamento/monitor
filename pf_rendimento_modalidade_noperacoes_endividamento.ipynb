{
 "cells": [
  {
   "cell_type": "code",
   "execution_count": 2,
   "id": "6a5f8e4d-87a2-46a2-9827-e30dbdd518e9",
   "metadata": {
    "tags": []
   },
   "outputs": [],
   "source": [
    "import zipfile\n",
    "import os\n",
    "import pandas as pd\n",
    "import deflatebr as dbr"
   ]
  },
  {
   "cell_type": "code",
   "execution_count": 3,
   "id": "c74fad77-848a-4af2-bafb-aa939afad446",
   "metadata": {
    "tags": []
   },
   "outputs": [],
   "source": [
    "def concatenar_csvs(diretorio):\n",
    "    frames = []\n",
    "\n",
    "    for arquivo in os.listdir(diretorio):\n",
    "        if arquivo.endswith('.csv'):\n",
    "            caminho_arquivo = os.path.join(diretorio, arquivo)\n",
    "            \n",
    "            df = pd.read_csv(caminho_arquivo, encoding='utf-8', delimiter=\";\", decimal=\",\")\n",
    "            df = df.rename(columns={df.columns[0]: \"data_base\"})\n",
    "            df['data_base'] = pd.to_datetime(df['data_base'], format=\"%Y-%m-%d\")\n",
    "            df = df[df['cliente'] == 'PF']\n",
    "            df['modalidade'] = df['modalidade'].str.replace(\"PF - \", \"\")\n",
    "            df['porte'] = df['porte'].str.replace(' ','')\n",
    "            df['porte'] = df['porte'].str.replace(\"PF-\", \"\")\n",
    "            #Filtros:\n",
    "            df = df[df['cliente'] == 'PF']\n",
    "            df = df[['a_vencer_de_1081_ate_1800_dias','data_base', 'modalidade', 'porte', 'numero_de_operacoes', 'a_vencer_de_361_ate_1080_dias', 'a_vencer_de_1801_ate_5400_dias', 'a_vencer_acima_de_5400_dias']]\n",
    "            df['numero_de_operacoes'] = df['numero_de_operacoes'].astype(str)\n",
    "            df = df[df['numero_de_operacoes'] != '<= 15']\n",
    "            df['numero_de_operacoes'] = df['numero_de_operacoes'].astype(float)\n",
    "            df['longo_prazo'] = df['a_vencer_de_361_ate_1080_dias'] + df['a_vencer_de_1081_ate_1800_dias'] + df['a_vencer_de_1801_ate_5400_dias'] + df['a_vencer_acima_de_5400_dias']\n",
    "            df = df.drop(columns = ['a_vencer_de_361_ate_1080_dias', 'a_vencer_de_1081_ate_1800_dias', 'a_vencer_de_1801_ate_5400_dias', 'a_vencer_acima_de_5400_dias'], axis = 1)\n",
    "            df = df.groupby(['data_base','porte', 'modalidade'])[['longo_prazo', 'numero_de_operacoes']].sum().reset_index()\n",
    "\n",
    "            frames.append(df)\n",
    "\n",
    "    df_concatenado = pd.concat(frames, ignore_index=True)\n",
    "\n",
    "    return df_concatenado"
   ]
  },
  {
   "cell_type": "code",
   "execution_count": 4,
   "id": "8444c970-8be2-4fab-ae6b-32d5e61f13db",
   "metadata": {
    "tags": []
   },
   "outputs": [],
   "source": [
    "anos = list(range(2012, 2024))\n",
    "dataframes = []\n",
    "\n",
    "for ano in anos:\n",
    "    diretorio = f\"planilha_{ano}\"\n",
    "    dataframe_ano = concatenar_csvs(diretorio)\n",
    "    dataframes.append(dataframe_ano)\n",
    "\n",
    "df_total = pd.concat(dataframes, ignore_index=False)"
   ]
  },
  {
   "cell_type": "code",
   "execution_count": 5,
   "id": "897607e4-8836-4499-af55-5ac2ee00a06a",
   "metadata": {
    "tags": []
   },
   "outputs": [],
   "source": [
    "portes = {\n",
    "    'Acimade20saláriosmínimos': 'Acima de 20 salários mínimos',\n",
    "    'Até1saláriomínimo': 'Até 1 salário mínimo',\n",
    "    'Indisponível': 'Indisponível',\n",
    "    'Maisde10a20saláriosmínimos': 'Mais de 10 a 20 salários mínimos',\n",
    "    'Maisde1a2saláriosmínimos': 'Mais de 1 a 2 salários mínimos',\n",
    "    'Maisde2a3saláriosmínimos': 'Mais de 2 a 3 salários mínimos',\n",
    "    'Maisde3a5saláriosmínimos': 'Mais de 3 a 5 salários mínimos',\n",
    "    'Maisde5a10saláriosmínimos': 'Mais de 5 a 10 salários mínimos',\n",
    "    'Semrendimento': 'Sem rendimento'\n",
    "}\n",
    "\n",
    "for porte_sem_espaco, porte_com_espaco in portes.items():\n",
    "    df_total['porte'] = df_total['porte'].str.replace(porte_sem_espaco, porte_com_espaco)"
   ]
  },
  {
   "cell_type": "code",
   "execution_count": 6,
   "id": "8570bec6-5982-4a9a-9de1-057dd7da6174",
   "metadata": {
    "tags": []
   },
   "outputs": [
    {
     "name": "stderr",
     "output_type": "stream",
     "text": [
      "/Users/brunamoura/anaconda3/lib/python3.11/site-packages/deflatebr/deflate.py:90: FutureWarning: Series.__getitem__ treating keys as positions is deprecated. In a future version, integer keys will always be treated as labels (consistent with DataFrame behavior). To access a value by position, use `ser.iloc[pos]`\n",
      "  df['deflated'] = df[['nom_values', 'VALVALOR']].apply(lambda x: ((real_indx/x[1]) * x[0])[0], axis=1)\n"
     ]
    }
   ],
   "source": [
    "df_total['longo_prazo_deflacionado'] = dbr.deflate(nominal_values=df_total['longo_prazo'], nominal_dates=df_total['data_base'], real_date='2023-01',\n",
    "           index='ipca')"
   ]
  },
  {
   "cell_type": "code",
   "execution_count": 7,
   "id": "b2eff64a-67f7-4198-8947-a1439313d3b4",
   "metadata": {
    "tags": []
   },
   "outputs": [
    {
     "name": "stdout",
     "output_type": "stream",
     "text": [
      "<class 'pandas.core.frame.DataFrame'>\n",
      "Index: 8266 entries, 0 to 503\n",
      "Data columns (total 6 columns):\n",
      " #   Column                    Non-Null Count  Dtype         \n",
      "---  ------                    --------------  -----         \n",
      " 0   data_base                 8266 non-null   datetime64[ns]\n",
      " 1   porte                     8266 non-null   object        \n",
      " 2   modalidade                8266 non-null   object        \n",
      " 3   longo_prazo               8266 non-null   float64       \n",
      " 4   numero_de_operacoes       8266 non-null   float64       \n",
      " 5   longo_prazo_deflacionado  8266 non-null   float64       \n",
      "dtypes: datetime64[ns](1), float64(3), object(2)\n",
      "memory usage: 452.0+ KB\n"
     ]
    }
   ],
   "source": [
    "df_total.info()"
   ]
  },
  {
   "cell_type": "code",
   "execution_count": 8,
   "id": "c45170c3-51c5-42dd-9e5a-bc892912f3d8",
   "metadata": {
    "tags": []
   },
   "outputs": [
    {
     "data": {
      "text/plain": [
       "0     2012-06-30\n",
       "1     2012-06-30\n",
       "2     2012-06-30\n",
       "3     2012-06-30\n",
       "4     2012-06-30\n",
       "         ...    \n",
       "499   2023-06-30\n",
       "500   2023-06-30\n",
       "501   2023-06-30\n",
       "502   2023-06-30\n",
       "503   2023-06-30\n",
       "Name: data_base, Length: 8266, dtype: datetime64[ns]"
      ]
     },
     "execution_count": 8,
     "metadata": {},
     "output_type": "execute_result"
    }
   ],
   "source": [
    "df_total['data_base']"
   ]
  },
  {
   "cell_type": "code",
   "execution_count": 9,
   "id": "377727c5-4198-4630-817b-9f11ed52b57d",
   "metadata": {
    "tags": []
   },
   "outputs": [],
   "source": [
    "df_total[\"data_base\"] = pd.to_datetime(df_total[\"data_base\"], format='%Y-%m-%d')"
   ]
  },
  {
   "cell_type": "code",
   "execution_count": 17,
   "id": "e1177fe1-904b-4356-b900-1c0093b8421e",
   "metadata": {
    "tags": []
   },
   "outputs": [],
   "source": [
    "df_total = df_total.sort_values(by='data_base')"
   ]
  },
  {
   "cell_type": "code",
   "execution_count": 19,
   "id": "59d1dc69-383c-404f-93bf-74d76f98aee3",
   "metadata": {
    "tags": []
   },
   "outputs": [],
   "source": [
    "df_total.to_csv(\"pf_rendimento_modalidade_noperacoes_endividamento.csv\")"
   ]
  },
  {
   "cell_type": "code",
   "execution_count": 10,
   "id": "7d93a87e-3457-44a8-a77c-035705a766a6",
   "metadata": {
    "tags": []
   },
   "outputs": [],
   "source": [
    "import dash\n",
    "from dash import Dash, dcc, html, Input, Output\n",
    "import plotly.express as px"
   ]
  },
  {
   "cell_type": "code",
   "execution_count": 18,
   "id": "ec90dfb0-e06d-4eb2-86d3-593efd7d790f",
   "metadata": {
    "tags": []
   },
   "outputs": [
    {
     "data": {
      "text/html": [
       "\n",
       "        <iframe\n",
       "            width=\"100%\"\n",
       "            height=\"650\"\n",
       "            src=\"http://127.0.0.1:8050/\"\n",
       "            frameborder=\"0\"\n",
       "            allowfullscreen\n",
       "            \n",
       "        ></iframe>\n",
       "        "
      ],
      "text/plain": [
       "<IPython.lib.display.IFrame at 0x169289350>"
      ]
     },
     "metadata": {},
     "output_type": "display_data"
    },
    {
     "name": "stderr",
     "output_type": "stream",
     "text": [
      "/Users/brunamoura/anaconda3/lib/python3.11/site-packages/_plotly_utils/basevalidators.py:106: FutureWarning:\n",
      "\n",
      "The behavior of DatetimeProperties.to_pydatetime is deprecated, in a future version this will return a Series containing python datetime objects instead of an ndarray. To retain the old behavior, call `np.array` on the result\n",
      "\n",
      "/Users/brunamoura/anaconda3/lib/python3.11/site-packages/_plotly_utils/basevalidators.py:106: FutureWarning:\n",
      "\n",
      "The behavior of DatetimeProperties.to_pydatetime is deprecated, in a future version this will return a Series containing python datetime objects instead of an ndarray. To retain the old behavior, call `np.array` on the result\n",
      "\n",
      "/Users/brunamoura/anaconda3/lib/python3.11/site-packages/_plotly_utils/basevalidators.py:106: FutureWarning:\n",
      "\n",
      "The behavior of DatetimeProperties.to_pydatetime is deprecated, in a future version this will return a Series containing python datetime objects instead of an ndarray. To retain the old behavior, call `np.array` on the result\n",
      "\n"
     ]
    }
   ],
   "source": [
    "import pandas as pd\n",
    "import plotly.express as px\n",
    "from dash import Dash, dcc, html, Input, Output\n",
    "\n",
    "# Inicializando o aplicativo Dash\n",
    "app = Dash(__name__)\n",
    "\n",
    "# Layout do aplicativo\n",
    "app.layout = html.Div([\n",
    "    dcc.Dropdown(\n",
    "        id='porte-dropdown',\n",
    "        options=[{'label': porte, 'value': porte} for porte in df_total['porte'].unique()],\n",
    "        value=df_total['porte'].unique()[0]\n",
    "    ),\n",
    "    dcc.Graph(id='line-chart')\n",
    "])\n",
    "\n",
    "# Callback para atualizar o gráfico com base na seleção do dropdown\n",
    "@app.callback(\n",
    "    Output('line-chart', 'figure'),\n",
    "    [Input('porte-dropdown', 'value')]\n",
    ")\n",
    "def update_graph(selected_porte):\n",
    "    filtered_df = df_total[df_total['porte'] == selected_porte]\n",
    "    \n",
    "    fig = px.line(filtered_df, \n",
    "                  x='data_base', \n",
    "                  y='longo_prazo_deflacionado', \n",
    "                  color='modalidade')\n",
    "    \n",
    "    fig.update_layout(\n",
    "        title_text='Endividamento de Longo Prazo por Modalidade',\n",
    "        xaxis_title='Data',\n",
    "        yaxis_title='Endividamento de Longo Prazo Deflacionado',\n",
    "        template=\"seaborn\",\n",
    "        legend=dict(\n",
    "            x=0.5,\n",
    "            y=-0.3,\n",
    "            orientation='h',\n",
    "            xanchor='center'\n",
    "        ),\n",
    "        xaxis=dict(showgrid=False),\n",
    "        yaxis=dict(showgrid=False)\n",
    "    )\n",
    "    return fig\n",
    "\n",
    "# Executando o aplicativo\n",
    "if __name__ == '__main__':\n",
    "    app.run_server(debug=True)"
   ]
  },
  {
   "cell_type": "code",
   "execution_count": 20,
   "id": "3b675c6c-3eea-487d-a092-2097de2e1d4b",
   "metadata": {
    "tags": []
   },
   "outputs": [
    {
     "data": {
      "text/html": [
       "\n",
       "        <iframe\n",
       "            width=\"100%\"\n",
       "            height=\"650\"\n",
       "            src=\"http://127.0.0.1:8050/\"\n",
       "            frameborder=\"0\"\n",
       "            allowfullscreen\n",
       "            \n",
       "        ></iframe>\n",
       "        "
      ],
      "text/plain": [
       "<IPython.lib.display.IFrame at 0x168721050>"
      ]
     },
     "metadata": {},
     "output_type": "display_data"
    },
    {
     "name": "stderr",
     "output_type": "stream",
     "text": [
      "/Users/brunamoura/anaconda3/lib/python3.11/site-packages/_plotly_utils/basevalidators.py:106: FutureWarning:\n",
      "\n",
      "The behavior of DatetimeProperties.to_pydatetime is deprecated, in a future version this will return a Series containing python datetime objects instead of an ndarray. To retain the old behavior, call `np.array` on the result\n",
      "\n",
      "/Users/brunamoura/anaconda3/lib/python3.11/site-packages/_plotly_utils/basevalidators.py:106: FutureWarning:\n",
      "\n",
      "The behavior of DatetimeProperties.to_pydatetime is deprecated, in a future version this will return a Series containing python datetime objects instead of an ndarray. To retain the old behavior, call `np.array` on the result\n",
      "\n",
      "/Users/brunamoura/anaconda3/lib/python3.11/site-packages/_plotly_utils/basevalidators.py:106: FutureWarning:\n",
      "\n",
      "The behavior of DatetimeProperties.to_pydatetime is deprecated, in a future version this will return a Series containing python datetime objects instead of an ndarray. To retain the old behavior, call `np.array` on the result\n",
      "\n",
      "/Users/brunamoura/anaconda3/lib/python3.11/site-packages/_plotly_utils/basevalidators.py:106: FutureWarning:\n",
      "\n",
      "The behavior of DatetimeProperties.to_pydatetime is deprecated, in a future version this will return a Series containing python datetime objects instead of an ndarray. To retain the old behavior, call `np.array` on the result\n",
      "\n"
     ]
    }
   ],
   "source": [
    "import pandas as pd\n",
    "import plotly.express as px\n",
    "from dash import Dash, dcc, html, Input, Output\n",
    "\n",
    "# Inicializando o aplicativo Dash\n",
    "app = Dash(__name__)\n",
    "\n",
    "# Layout do aplicativo\n",
    "app.layout = html.Div([\n",
    "    dcc.Dropdown(\n",
    "        id='porte-dropdown',\n",
    "        options=[{'label': porte, 'value': porte} for porte in df_total['porte'].unique()],\n",
    "        value=df_total['porte'].unique()[0]\n",
    "    ),\n",
    "    dcc.Graph(id='line-chart')\n",
    "])\n",
    "\n",
    "# Callback para atualizar o gráfico com base na seleção do dropdown\n",
    "@app.callback(\n",
    "    Output('line-chart', 'figure'),\n",
    "    [Input('porte-dropdown', 'value')]\n",
    ")\n",
    "def update_graph(selected_porte):\n",
    "    filtered_df = df_total[df_total['porte'] == selected_porte]\n",
    "    \n",
    "    fig = px.line(filtered_df, \n",
    "                  x='data_base', \n",
    "                  y='numero_de_operacoes', \n",
    "                  color='modalidade')\n",
    "    \n",
    "    fig.update_layout(\n",
    "        title_text='Endividamento de Longo Prazo por Modalidade',\n",
    "        xaxis_title='Data',\n",
    "        yaxis_title='Endividamento de Longo Prazo Deflacionado',\n",
    "        template=\"seaborn\",\n",
    "        legend=dict(\n",
    "            x=0.5,\n",
    "            y=-0.3,\n",
    "            orientation='h',\n",
    "            xanchor='center'\n",
    "        ),\n",
    "        xaxis=dict(showgrid=False),\n",
    "        yaxis=dict(showgrid=False)\n",
    "    )\n",
    "    return fig\n",
    "\n",
    "# Executando o aplicativo\n",
    "if __name__ == '__main__':\n",
    "    app.run_server(debug=True)"
   ]
  }
 ],
 "metadata": {
  "kernelspec": {
   "display_name": "Python 3 (ipykernel)",
   "language": "python",
   "name": "python3"
  },
  "language_info": {
   "codemirror_mode": {
    "name": "ipython",
    "version": 3
   },
   "file_extension": ".py",
   "mimetype": "text/x-python",
   "name": "python",
   "nbconvert_exporter": "python",
   "pygments_lexer": "ipython3",
   "version": "3.11.5"
  }
 },
 "nbformat": 4,
 "nbformat_minor": 5
}
