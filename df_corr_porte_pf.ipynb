{
 "cells": [
  {
   "cell_type": "code",
   "execution_count": 1,
   "id": "008c7f8e-f602-480b-a4e8-b124aebe4eff",
   "metadata": {
    "tags": []
   },
   "outputs": [],
   "source": [
    "import zipfile\n",
    "import os\n",
    "import pandas as pd\n",
    "import requests\n",
    "import deflatebr as dbr\n",
    "import seaborn as sns\n",
    "import numpy as np\n",
    "import matplotlib.pyplot as plt"
   ]
  },
  {
   "cell_type": "code",
   "execution_count": 2,
   "id": "239166fc-084c-4a19-975c-9ed0df7281a9",
   "metadata": {
    "tags": []
   },
   "outputs": [],
   "source": [
    "def concatenar_csvs(diretorio):\n",
    "    frames = []\n",
    "\n",
    "    for arquivo in os.listdir(diretorio):\n",
    "        if arquivo.endswith('.csv'):\n",
    "            caminho_arquivo = os.path.join(diretorio, arquivo)\n",
    "            \n",
    "            df = pd.read_csv(caminho_arquivo, encoding='utf-8', delimiter=\";\", decimal=\",\")\n",
    "            df = df.rename(columns={df.columns[0]: \"data_base\"})\n",
    "            df = df[df['cliente'] == \"PF\"]\n",
    "            df['porte'] = df['porte'].str.replace(' ','')\n",
    "            df['porte']=df['porte'].str.replace('PF-','')\n",
    "            df = df.iloc[:, [0, 8, 20, 22]]\n",
    "            df['data_base'] = pd.to_datetime(df['data_base'], format=\"%Y-%m-%d\")\n",
    "            df['mes'] = df['data_base'].dt.month\n",
    "            df = df[df['mes'] == 12]\n",
    "            \n",
    "            frames.append(df)\n",
    "\n",
    "    df_concatenado = pd.concat(frames, ignore_index=True)\n",
    "\n",
    "    return df_concatenado"
   ]
  },
  {
   "cell_type": "code",
   "execution_count": 3,
   "id": "af2f7781-d17c-418f-815a-d1b1ae7bd7c3",
   "metadata": {
    "tags": []
   },
   "outputs": [],
   "source": [
    "anos = list(range(2012, 2024))\n",
    "dataframes = []\n",
    "\n",
    "for ano in anos:\n",
    "    diretorio = f\"planilha_{ano}\"\n",
    "    dataframe_ano = concatenar_csvs(diretorio)\n",
    "    dataframes.append(dataframe_ano)\n",
    "\n",
    "df_total = pd.concat(dataframes, ignore_index=False)"
   ]
  },
  {
   "cell_type": "code",
   "execution_count": 4,
   "id": "65a214ac-f494-4805-bc8c-82dbad04edcc",
   "metadata": {
    "tags": []
   },
   "outputs": [
    {
     "name": "stdout",
     "output_type": "stream",
     "text": [
      "<class 'pandas.core.frame.DataFrame'>\n",
      "Index: 935619 entries, 0 to 136400\n",
      "Data columns (total 5 columns):\n",
      " #   Column              Non-Null Count   Dtype         \n",
      "---  ------              --------------   -----         \n",
      " 0   data_base           935619 non-null  datetime64[ns]\n",
      " 1   porte               935619 non-null  object        \n",
      " 2   carteira_ativa      935619 non-null  float64       \n",
      " 3   ativo_problematico  935619 non-null  float64       \n",
      " 4   mes                 935619 non-null  int32         \n",
      "dtypes: datetime64[ns](1), float64(2), int32(1), object(1)\n",
      "memory usage: 39.3+ MB\n"
     ]
    }
   ],
   "source": [
    "df_total.info()"
   ]
  },
  {
   "cell_type": "code",
   "execution_count": 5,
   "id": "93e0ab86-9bd1-4339-b789-f1ffd765955b",
   "metadata": {
    "tags": []
   },
   "outputs": [],
   "source": [
    "portes = {\n",
    "    'Acimade20saláriosmínimos': 'Acima de 20 salários mínimos',\n",
    "    'Até1saláriomínimo': 'Até 1 salário mínimo',\n",
    "    'Indisponível': 'Indisponível',\n",
    "    'Maisde10a20saláriosmínimos': 'Mais de 10 a 20 salários mínimos',\n",
    "    'Maisde1a2saláriosmínimos': 'Mais de 1 a 2 salários mínimos',\n",
    "    'Maisde2a3saláriosmínimos': 'Mais de 2 a 3 salários mínimos',\n",
    "    'Maisde3a5saláriosmínimos': 'Mais de 3 a 5 salários mínimos',\n",
    "    'Maisde5a10saláriosmínimos': 'Mais de 5 a 10 salários mínimos',\n",
    "    'Semrendimento': 'Sem rendimento'\n",
    "}\n",
    "\n",
    "for porte_sem_espaco, porte_com_espaco in portes.items():\n",
    "    df_total['porte'] = df_total['porte'].str.replace(porte_sem_espaco, porte_com_espaco)"
   ]
  },
  {
   "cell_type": "code",
   "execution_count": 191,
   "id": "646eec2f-2f73-4ecc-ad22-ece0832da1a4",
   "metadata": {
    "tags": []
   },
   "outputs": [],
   "source": [
    "def categoria_renda(dados_porte):\n",
    "    if dados_porte in ['Acima de 20 salários mínimos', 'Mais de 10 a 20 salários mínimos', 'Mais de 3 a 5 salários mínimos']:\n",
    "        return 'alta renda'\n",
    "    elif dados_porte == 'Indisponível':\n",
    "        return 'renda indisponível'\n",
    "    elif dados_porte == 'Mais de 5 a 10 salários mínimos':\n",
    "        return 'renda média'\n",
    "    else:\n",
    "        return 'baixa renda'\n",
    "\n",
    "df_total['categoria_renda'] = df_total['porte'].apply(categoria_renda)"
   ]
  },
  {
   "cell_type": "code",
   "execution_count": 192,
   "id": "7fa8f9a9-fb80-4a3d-911a-fcc08f15e3e7",
   "metadata": {
    "tags": []
   },
   "outputs": [],
   "source": [
    "df_total_group = df_total.groupby(['data_base', 'categoria_renda'])[['carteira_ativa', 'ativo_problematico']].sum().reset_index()"
   ]
  },
  {
   "cell_type": "code",
   "execution_count": 193,
   "id": "2e9dbac9-d8c3-4b9e-baf7-1ec7b0a829f3",
   "metadata": {
    "tags": []
   },
   "outputs": [
    {
     "data": {
      "text/html": [
       "<div>\n",
       "<style scoped>\n",
       "    .dataframe tbody tr th:only-of-type {\n",
       "        vertical-align: middle;\n",
       "    }\n",
       "\n",
       "    .dataframe tbody tr th {\n",
       "        vertical-align: top;\n",
       "    }\n",
       "\n",
       "    .dataframe thead th {\n",
       "        text-align: right;\n",
       "    }\n",
       "</style>\n",
       "<table border=\"1\" class=\"dataframe\">\n",
       "  <thead>\n",
       "    <tr style=\"text-align: right;\">\n",
       "      <th></th>\n",
       "      <th>data_base</th>\n",
       "      <th>categoria_renda</th>\n",
       "      <th>carteira_ativa</th>\n",
       "      <th>ativo_problematico</th>\n",
       "    </tr>\n",
       "  </thead>\n",
       "  <tbody>\n",
       "    <tr>\n",
       "      <th>0</th>\n",
       "      <td>2012</td>\n",
       "      <td>alta renda</td>\n",
       "      <td>4.951145e+11</td>\n",
       "      <td>3.297373e+10</td>\n",
       "    </tr>\n",
       "    <tr>\n",
       "      <th>1</th>\n",
       "      <td>2012</td>\n",
       "      <td>baixa renda</td>\n",
       "      <td>3.477084e+11</td>\n",
       "      <td>3.626865e+10</td>\n",
       "    </tr>\n",
       "    <tr>\n",
       "      <th>2</th>\n",
       "      <td>2012</td>\n",
       "      <td>renda indisponível</td>\n",
       "      <td>4.338362e+09</td>\n",
       "      <td>3.721765e+08</td>\n",
       "    </tr>\n",
       "    <tr>\n",
       "      <th>3</th>\n",
       "      <td>2012</td>\n",
       "      <td>renda média</td>\n",
       "      <td>1.869864e+11</td>\n",
       "      <td>1.515055e+10</td>\n",
       "    </tr>\n",
       "    <tr>\n",
       "      <th>4</th>\n",
       "      <td>2013</td>\n",
       "      <td>alta renda</td>\n",
       "      <td>6.019103e+11</td>\n",
       "      <td>3.723825e+10</td>\n",
       "    </tr>\n",
       "  </tbody>\n",
       "</table>\n",
       "</div>"
      ],
      "text/plain": [
       "  data_base     categoria_renda  carteira_ativa  ativo_problematico\n",
       "0      2012          alta renda    4.951145e+11        3.297373e+10\n",
       "1      2012         baixa renda    3.477084e+11        3.626865e+10\n",
       "2      2012  renda indisponível    4.338362e+09        3.721765e+08\n",
       "3      2012         renda média    1.869864e+11        1.515055e+10\n",
       "4      2013          alta renda    6.019103e+11        3.723825e+10"
      ]
     },
     "execution_count": 193,
     "metadata": {},
     "output_type": "execute_result"
    }
   ],
   "source": [
    "df_total_group.head(5)"
   ]
  },
  {
   "cell_type": "code",
   "execution_count": 194,
   "id": "c11e4ac1-8cd1-4978-ab8b-8da17714961d",
   "metadata": {
    "tags": []
   },
   "outputs": [],
   "source": [
    "df_pivot = df_total_group.pivot_table(index=\"data_base\",\n",
    "                                      columns='categoria_renda', \n",
    "                                      values=['carteira_ativa', 'ativo_problematico'],\n",
    "                                      aggfunc='sum').reset_index()\n",
    "\n",
    "df_pivot.columns = ['_'.join(col).rstrip('_') for col in df_pivot.columns.values] #para que as colunas não sejam multinível"
   ]
  },
  {
   "cell_type": "code",
   "execution_count": 195,
   "id": "845d60e3-f4f8-418a-be80-5f4741cb8dbc",
   "metadata": {
    "tags": []
   },
   "outputs": [
    {
     "data": {
      "text/html": [
       "<div>\n",
       "<style scoped>\n",
       "    .dataframe tbody tr th:only-of-type {\n",
       "        vertical-align: middle;\n",
       "    }\n",
       "\n",
       "    .dataframe tbody tr th {\n",
       "        vertical-align: top;\n",
       "    }\n",
       "\n",
       "    .dataframe thead th {\n",
       "        text-align: right;\n",
       "    }\n",
       "</style>\n",
       "<table border=\"1\" class=\"dataframe\">\n",
       "  <thead>\n",
       "    <tr style=\"text-align: right;\">\n",
       "      <th></th>\n",
       "      <th>data_base</th>\n",
       "      <th>ativo_problematico_alta renda</th>\n",
       "      <th>ativo_problematico_baixa renda</th>\n",
       "      <th>ativo_problematico_renda indisponível</th>\n",
       "      <th>ativo_problematico_renda média</th>\n",
       "      <th>carteira_ativa_alta renda</th>\n",
       "      <th>carteira_ativa_baixa renda</th>\n",
       "      <th>carteira_ativa_renda indisponível</th>\n",
       "      <th>carteira_ativa_renda média</th>\n",
       "    </tr>\n",
       "  </thead>\n",
       "  <tbody>\n",
       "    <tr>\n",
       "      <th>0</th>\n",
       "      <td>2012</td>\n",
       "      <td>3.297373e+10</td>\n",
       "      <td>3.626865e+10</td>\n",
       "      <td>3.721765e+08</td>\n",
       "      <td>1.515055e+10</td>\n",
       "      <td>4.951145e+11</td>\n",
       "      <td>3.477084e+11</td>\n",
       "      <td>4.338362e+09</td>\n",
       "      <td>1.869864e+11</td>\n",
       "    </tr>\n",
       "    <tr>\n",
       "      <th>1</th>\n",
       "      <td>2013</td>\n",
       "      <td>3.723825e+10</td>\n",
       "      <td>3.743314e+10</td>\n",
       "      <td>2.895474e+08</td>\n",
       "      <td>1.703012e+10</td>\n",
       "      <td>6.019103e+11</td>\n",
       "      <td>3.849078e+11</td>\n",
       "      <td>2.097316e+09</td>\n",
       "      <td>2.163200e+11</td>\n",
       "    </tr>\n",
       "    <tr>\n",
       "      <th>2</th>\n",
       "      <td>2014</td>\n",
       "      <td>3.976619e+10</td>\n",
       "      <td>3.700319e+10</td>\n",
       "      <td>2.104486e+08</td>\n",
       "      <td>1.742195e+10</td>\n",
       "      <td>7.093165e+11</td>\n",
       "      <td>4.180637e+11</td>\n",
       "      <td>1.118568e+09</td>\n",
       "      <td>2.566271e+11</td>\n",
       "    </tr>\n",
       "    <tr>\n",
       "      <th>3</th>\n",
       "      <td>2015</td>\n",
       "      <td>4.603043e+10</td>\n",
       "      <td>4.115531e+10</td>\n",
       "      <td>1.923223e+08</td>\n",
       "      <td>1.881933e+10</td>\n",
       "      <td>7.606288e+11</td>\n",
       "      <td>4.430292e+11</td>\n",
       "      <td>6.614035e+08</td>\n",
       "      <td>2.723605e+11</td>\n",
       "    </tr>\n",
       "    <tr>\n",
       "      <th>4</th>\n",
       "      <td>2016</td>\n",
       "      <td>4.814152e+10</td>\n",
       "      <td>4.870744e+10</td>\n",
       "      <td>2.586311e+07</td>\n",
       "      <td>2.059768e+10</td>\n",
       "      <td>7.420125e+11</td>\n",
       "      <td>5.249931e+11</td>\n",
       "      <td>1.841053e+08</td>\n",
       "      <td>2.813986e+11</td>\n",
       "    </tr>\n",
       "  </tbody>\n",
       "</table>\n",
       "</div>"
      ],
      "text/plain": [
       "  data_base  ativo_problematico_alta renda  ativo_problematico_baixa renda  \\\n",
       "0      2012                   3.297373e+10                    3.626865e+10   \n",
       "1      2013                   3.723825e+10                    3.743314e+10   \n",
       "2      2014                   3.976619e+10                    3.700319e+10   \n",
       "3      2015                   4.603043e+10                    4.115531e+10   \n",
       "4      2016                   4.814152e+10                    4.870744e+10   \n",
       "\n",
       "   ativo_problematico_renda indisponível  ativo_problematico_renda média  \\\n",
       "0                           3.721765e+08                    1.515055e+10   \n",
       "1                           2.895474e+08                    1.703012e+10   \n",
       "2                           2.104486e+08                    1.742195e+10   \n",
       "3                           1.923223e+08                    1.881933e+10   \n",
       "4                           2.586311e+07                    2.059768e+10   \n",
       "\n",
       "   carteira_ativa_alta renda  carteira_ativa_baixa renda  \\\n",
       "0               4.951145e+11                3.477084e+11   \n",
       "1               6.019103e+11                3.849078e+11   \n",
       "2               7.093165e+11                4.180637e+11   \n",
       "3               7.606288e+11                4.430292e+11   \n",
       "4               7.420125e+11                5.249931e+11   \n",
       "\n",
       "   carteira_ativa_renda indisponível  carteira_ativa_renda média  \n",
       "0                       4.338362e+09                1.869864e+11  \n",
       "1                       2.097316e+09                2.163200e+11  \n",
       "2                       1.118568e+09                2.566271e+11  \n",
       "3                       6.614035e+08                2.723605e+11  \n",
       "4                       1.841053e+08                2.813986e+11  "
      ]
     },
     "execution_count": 195,
     "metadata": {},
     "output_type": "execute_result"
    }
   ],
   "source": [
    "df_pivot.head(5)"
   ]
  },
  {
   "cell_type": "code",
   "execution_count": null,
   "id": "8725db4b-0cde-420f-bc13-925eef124fe8",
   "metadata": {
    "tags": []
   },
   "outputs": [],
   "source": [
    "df_pivot['data_base'] = df_pivot['data_base'].dt.strftime('%Y') #Converti apenas para o ano porque algumas das séries que vou usar do bacen são anuais"
   ]
  },
  {
   "cell_type": "code",
   "execution_count": 11,
   "id": "798b64b9-d682-4f8e-892d-430d29879fe1",
   "metadata": {
    "tags": []
   },
   "outputs": [],
   "source": [
    "#Extraindo informações do Sistema Gerenciador de Séries Temporais do BCB\n",
    "codigos_series = [24868, 24881, 25149, 20716, 29404]\n",
    "series_bacen = []\n",
    "\n",
    "for codigo in codigos_series:\n",
    "    url = f'https://api.bcb.gov.br/dados/serie/bcdata.sgs.{codigo}/dados?formato=json'\n",
    "    resposta = requests.get(url)\n",
    "    serie_data = resposta.json()\n",
    "    serie_df = pd.DataFrame(serie_data)\n",
    "    serie_df['data'] = pd.to_datetime(serie_df['data'], format=\"%d/%m/%Y\")\n",
    "    serie_df['data'] = serie_df['data'].dt.strftime('%Y-%m')\n",
    "    serie_df = serie_df.rename(columns={'valor': f'valor_{codigo}'})\n",
    "    serie_df = serie_df.set_index('data')\n",
    "    series_bacen.append(serie_df)\n",
    "\n",
    "series_bacen = pd.concat(series_bacen, axis=1).reset_index()"
   ]
  },
  {
   "cell_type": "code",
   "execution_count": 12,
   "id": "f5431eb3-47ad-4df0-bacc-dc01ce441c8a",
   "metadata": {
    "tags": []
   },
   "outputs": [],
   "source": [
    "series_bacen_limpo = series_bacen.dropna()"
   ]
  },
  {
   "cell_type": "code",
   "execution_count": 13,
   "id": "6b5b97be-a1a2-4d1c-8b14-dc80c3f881fe",
   "metadata": {
    "tags": []
   },
   "outputs": [
    {
     "name": "stderr",
     "output_type": "stream",
     "text": [
      "/var/folders/cj/_95ntbkj60b_pjvf32tvsh2h0000gn/T/ipykernel_53911/3786412319.py:1: SettingWithCopyWarning: \n",
      "A value is trying to be set on a copy of a slice from a DataFrame.\n",
      "Try using .loc[row_indexer,col_indexer] = value instead\n",
      "\n",
      "See the caveats in the documentation: https://pandas.pydata.org/pandas-docs/stable/user_guide/indexing.html#returning-a-view-versus-a-copy\n",
      "  series_bacen_limpo['data'] = pd.to_datetime(series_bacen_limpo['data'])\n"
     ]
    }
   ],
   "source": [
    "series_bacen_limpo['data'] = pd.to_datetime(series_bacen_limpo['data'])"
   ]
  },
  {
   "cell_type": "code",
   "execution_count": 14,
   "id": "5c3981a2-3bf3-4337-aefb-80c1eff64f36",
   "metadata": {
    "tags": []
   },
   "outputs": [
    {
     "name": "stderr",
     "output_type": "stream",
     "text": [
      "/var/folders/cj/_95ntbkj60b_pjvf32tvsh2h0000gn/T/ipykernel_53911/432362611.py:1: SettingWithCopyWarning: \n",
      "A value is trying to be set on a copy of a slice from a DataFrame.\n",
      "Try using .loc[row_indexer,col_indexer] = value instead\n",
      "\n",
      "See the caveats in the documentation: https://pandas.pydata.org/pandas-docs/stable/user_guide/indexing.html#returning-a-view-versus-a-copy\n",
      "  series_bacen_limpo['data'] = series_bacen_limpo['data'].dt.strftime('%Y')\n"
     ]
    }
   ],
   "source": [
    "series_bacen_limpo['data'] = series_bacen_limpo['data'].dt.strftime('%Y')"
   ]
  },
  {
   "cell_type": "code",
   "execution_count": 15,
   "id": "e51624ec-9043-4da4-b514-17739fd8532c",
   "metadata": {
    "tags": []
   },
   "outputs": [
    {
     "name": "stderr",
     "output_type": "stream",
     "text": [
      "/var/folders/cj/_95ntbkj60b_pjvf32tvsh2h0000gn/T/ipykernel_53911/1811462412.py:2: SettingWithCopyWarning: \n",
      "A value is trying to be set on a copy of a slice from a DataFrame.\n",
      "Try using .loc[row_indexer,col_indexer] = value instead\n",
      "\n",
      "See the caveats in the documentation: https://pandas.pydata.org/pandas-docs/stable/user_guide/indexing.html#returning-a-view-versus-a-copy\n",
      "  series_bacen_limpo[col] = series_bacen_limpo[col].astype(float)\n",
      "/var/folders/cj/_95ntbkj60b_pjvf32tvsh2h0000gn/T/ipykernel_53911/1811462412.py:2: SettingWithCopyWarning: \n",
      "A value is trying to be set on a copy of a slice from a DataFrame.\n",
      "Try using .loc[row_indexer,col_indexer] = value instead\n",
      "\n",
      "See the caveats in the documentation: https://pandas.pydata.org/pandas-docs/stable/user_guide/indexing.html#returning-a-view-versus-a-copy\n",
      "  series_bacen_limpo[col] = series_bacen_limpo[col].astype(float)\n",
      "/var/folders/cj/_95ntbkj60b_pjvf32tvsh2h0000gn/T/ipykernel_53911/1811462412.py:2: SettingWithCopyWarning: \n",
      "A value is trying to be set on a copy of a slice from a DataFrame.\n",
      "Try using .loc[row_indexer,col_indexer] = value instead\n",
      "\n",
      "See the caveats in the documentation: https://pandas.pydata.org/pandas-docs/stable/user_guide/indexing.html#returning-a-view-versus-a-copy\n",
      "  series_bacen_limpo[col] = series_bacen_limpo[col].astype(float)\n",
      "/var/folders/cj/_95ntbkj60b_pjvf32tvsh2h0000gn/T/ipykernel_53911/1811462412.py:2: SettingWithCopyWarning: \n",
      "A value is trying to be set on a copy of a slice from a DataFrame.\n",
      "Try using .loc[row_indexer,col_indexer] = value instead\n",
      "\n",
      "See the caveats in the documentation: https://pandas.pydata.org/pandas-docs/stable/user_guide/indexing.html#returning-a-view-versus-a-copy\n",
      "  series_bacen_limpo[col] = series_bacen_limpo[col].astype(float)\n",
      "/var/folders/cj/_95ntbkj60b_pjvf32tvsh2h0000gn/T/ipykernel_53911/1811462412.py:2: SettingWithCopyWarning: \n",
      "A value is trying to be set on a copy of a slice from a DataFrame.\n",
      "Try using .loc[row_indexer,col_indexer] = value instead\n",
      "\n",
      "See the caveats in the documentation: https://pandas.pydata.org/pandas-docs/stable/user_guide/indexing.html#returning-a-view-versus-a-copy\n",
      "  series_bacen_limpo[col] = series_bacen_limpo[col].astype(float)\n"
     ]
    }
   ],
   "source": [
    "for col in series_bacen_limpo.columns[1:]:\n",
    "    series_bacen_limpo[col] = series_bacen_limpo[col].astype(float)"
   ]
  },
  {
   "cell_type": "code",
   "execution_count": 16,
   "id": "495cc92f-12b0-4d2c-a707-260da93d36a4",
   "metadata": {
    "tags": []
   },
   "outputs": [
    {
     "data": {
      "text/html": [
       "<div>\n",
       "<style scoped>\n",
       "    .dataframe tbody tr th:only-of-type {\n",
       "        vertical-align: middle;\n",
       "    }\n",
       "\n",
       "    .dataframe tbody tr th {\n",
       "        vertical-align: top;\n",
       "    }\n",
       "\n",
       "    .dataframe thead th {\n",
       "        text-align: right;\n",
       "    }\n",
       "</style>\n",
       "<table border=\"1\" class=\"dataframe\">\n",
       "  <thead>\n",
       "    <tr style=\"text-align: right;\">\n",
       "      <th></th>\n",
       "      <th>data</th>\n",
       "      <th>valor_24868</th>\n",
       "      <th>valor_24881</th>\n",
       "      <th>valor_25149</th>\n",
       "      <th>valor_20716</th>\n",
       "      <th>valor_29404</th>\n",
       "    </tr>\n",
       "  </thead>\n",
       "  <tbody>\n",
       "    <tr>\n",
       "      <th>10</th>\n",
       "      <td>2015</td>\n",
       "      <td>153.0</td>\n",
       "      <td>1393.0</td>\n",
       "      <td>85.0</td>\n",
       "      <td>31.39</td>\n",
       "      <td>1.94</td>\n",
       "    </tr>\n",
       "    <tr>\n",
       "      <th>11</th>\n",
       "      <td>2016</td>\n",
       "      <td>154.0</td>\n",
       "      <td>1348.0</td>\n",
       "      <td>84.0</td>\n",
       "      <td>38.87</td>\n",
       "      <td>1.38</td>\n",
       "    </tr>\n",
       "    <tr>\n",
       "      <th>12</th>\n",
       "      <td>2017</td>\n",
       "      <td>152.0</td>\n",
       "      <td>1304.0</td>\n",
       "      <td>82.0</td>\n",
       "      <td>41.41</td>\n",
       "      <td>1.60</td>\n",
       "    </tr>\n",
       "    <tr>\n",
       "      <th>13</th>\n",
       "      <td>2018</td>\n",
       "      <td>152.0</td>\n",
       "      <td>1264.0</td>\n",
       "      <td>99.0</td>\n",
       "      <td>31.88</td>\n",
       "      <td>2.14</td>\n",
       "    </tr>\n",
       "    <tr>\n",
       "      <th>14</th>\n",
       "      <td>2019</td>\n",
       "      <td>154.0</td>\n",
       "      <td>1220.0</td>\n",
       "      <td>100.0</td>\n",
       "      <td>29.98</td>\n",
       "      <td>2.99</td>\n",
       "    </tr>\n",
       "  </tbody>\n",
       "</table>\n",
       "</div>"
      ],
      "text/plain": [
       "    data  valor_24868  valor_24881  valor_25149  valor_20716  valor_29404\n",
       "10  2015        153.0       1393.0         85.0        31.39         1.94\n",
       "11  2016        154.0       1348.0         84.0        38.87         1.38\n",
       "12  2017        152.0       1304.0         82.0        41.41         1.60\n",
       "13  2018        152.0       1264.0         99.0        31.88         2.14\n",
       "14  2019        154.0       1220.0        100.0        29.98         2.99"
      ]
     },
     "execution_count": 16,
     "metadata": {},
     "output_type": "execute_result"
    }
   ],
   "source": [
    "series_bacen_limpo.head(5)"
   ]
  },
  {
   "cell_type": "code",
   "execution_count": 74,
   "id": "e60c2125-3d9c-4420-bc12-0783145d6708",
   "metadata": {
    "tags": []
   },
   "outputs": [
    {
     "name": "stdout",
     "output_type": "stream",
     "text": [
      "<class 'pandas.core.frame.DataFrame'>\n",
      "RangeIndex: 11 entries, 0 to 10\n",
      "Data columns (total 7 columns):\n",
      " #   Column                                 Non-Null Count  Dtype  \n",
      "---  ------                                 --------------  -----  \n",
      " 0   data_base                              11 non-null     object \n",
      " 1   ativo_problematico_alta renda          11 non-null     float64\n",
      " 2   ativo_problematico_baixa renda         11 non-null     float64\n",
      " 3   ativo_problematico_renda indisponível  11 non-null     float64\n",
      " 4   carteira_ativa_alta renda              11 non-null     float64\n",
      " 5   carteira_ativa_baixa renda             11 non-null     float64\n",
      " 6   carteira_ativa_renda indisponível      11 non-null     float64\n",
      "dtypes: float64(6), object(1)\n",
      "memory usage: 748.0+ bytes\n"
     ]
    }
   ],
   "source": [
    "df_pivot.info()"
   ]
  },
  {
   "cell_type": "code",
   "execution_count": 197,
   "id": "61de3f32-0f94-47e3-9e2e-c2ab7d51ea87",
   "metadata": {
    "tags": []
   },
   "outputs": [],
   "source": [
    "df_analise_porte_pf = pd.merge(series_bacen_limpo,\n",
    "                              df_pivot,\n",
    "                              left_on=\"data\",\n",
    "                              right_on=\"data_base\",\n",
    "                              how = \"inner\")"
   ]
  },
  {
   "cell_type": "code",
   "execution_count": 198,
   "id": "ad8ffb33-1603-42be-9e85-775a2da2c192",
   "metadata": {
    "tags": []
   },
   "outputs": [],
   "source": [
    "df_analise_porte_pf = df_analise_porte_pf.rename(columns={\n",
    "    'data': \"ano\",\n",
    "    'valor_24868': \"Pontos atendimento\",\n",
    "    'valor_24881': \"Bancos autorizados\",\n",
    "    'valor_25149': \"Cart. créd. ativos\",\n",
    "    'valor_20716': \"Tx. juros PF\",\n",
    "    'valor_29404': \"Retorno sobre ativos IF\"\n",
    "})"
   ]
  },
  {
   "cell_type": "code",
   "execution_count": 199,
   "id": "172fbb4c-5005-4ef6-bd2b-f650ba2fe3c6",
   "metadata": {
    "tags": []
   },
   "outputs": [],
   "source": [
    "df_analise_porte_pf = df_analise_porte_pf.drop(columns = [\"data_base\"])"
   ]
  },
  {
   "cell_type": "code",
   "execution_count": 200,
   "id": "5886ed90-e85c-41e3-95ce-dfebe11ca985",
   "metadata": {
    "tags": []
   },
   "outputs": [
    {
     "name": "stdout",
     "output_type": "stream",
     "text": [
      "<class 'pandas.core.frame.DataFrame'>\n",
      "RangeIndex: 8 entries, 0 to 7\n",
      "Data columns (total 14 columns):\n",
      " #   Column                                 Non-Null Count  Dtype  \n",
      "---  ------                                 --------------  -----  \n",
      " 0   ano                                    8 non-null      object \n",
      " 1   Pontos atendimento                     8 non-null      float64\n",
      " 2   Bancos autorizados                     8 non-null      float64\n",
      " 3   Cart. créd. ativos                     8 non-null      float64\n",
      " 4   Tx. juros PF                           8 non-null      float64\n",
      " 5   Retorno sobre ativos IF                8 non-null      float64\n",
      " 6   ativo_problematico_alta renda          8 non-null      float64\n",
      " 7   ativo_problematico_baixa renda         8 non-null      float64\n",
      " 8   ativo_problematico_renda indisponível  8 non-null      float64\n",
      " 9   ativo_problematico_renda média         8 non-null      float64\n",
      " 10  carteira_ativa_alta renda              8 non-null      float64\n",
      " 11  carteira_ativa_baixa renda             8 non-null      float64\n",
      " 12  carteira_ativa_renda indisponível      8 non-null      float64\n",
      " 13  carteira_ativa_renda média             8 non-null      float64\n",
      "dtypes: float64(13), object(1)\n",
      "memory usage: 1.0+ KB\n"
     ]
    }
   ],
   "source": [
    "df_analise_porte_pf.info()"
   ]
  },
  {
   "cell_type": "code",
   "execution_count": 215,
   "id": "881e0f3a-68b1-49a9-bdfb-3e21cdfadd56",
   "metadata": {
    "tags": []
   },
   "outputs": [],
   "source": [
    "df_analise_porte_pf_num = df_analise_porte_pf.drop(columns = {'ano',\n",
    "                                                              'ativo_problematico_renda indisponível',\n",
    "                                                              'ativo_problematico_renda média',\n",
    "                                                              'carteira_ativa_renda indisponível',\n",
    "                                                              'carteira_ativa_renda média'}, axis=1)"
   ]
  },
  {
   "cell_type": "code",
   "execution_count": 221,
   "id": "1cd2cca5-dcae-4414-8c4f-0f220cd54171",
   "metadata": {
    "tags": []
   },
   "outputs": [],
   "source": [
    "df_analise_porte_pf_num.to_csv(\"df_corr_porte_pf.csv\", index=False)"
   ]
  },
  {
   "cell_type": "code",
   "execution_count": 216,
   "id": "96ee9b2c-554e-4a48-b7b3-ea21cd8da4c4",
   "metadata": {
    "tags": []
   },
   "outputs": [
    {
     "data": {
      "image/png": "[encoded data removed]",
      "text/plain": [
       "<Figure size 1100x900 with 2 Axes>"
      ]
     },
     "metadata": {},
     "output_type": "display_data"
    }
   ],
   "source": [
    "sns.set_theme(style=\"white\")\n",
    "\n",
    "corr = df_analise_porte_pf_num.corr()\n",
    "\n",
    "# Generate a mask for the upper triangle\n",
    "mask = np.triu(np.ones_like(corr, dtype=bool))\n",
    "\n",
    "# Set up the matplotlib figure\n",
    "f, ax = plt.subplots(figsize=(11, 9))\n",
    "\n",
    "# Generate a custom diverging colormap\n",
    "cmap = sns.diverging_palette(230, 20, as_cmap=True)\n",
    "\n",
    "# Draw the heatmap with the mask and correct aspect ratio\n",
    "sns_heatmap = sns.heatmap(corr, mask=mask, cmap=cmap, vmax=.3, center=0,\n",
    "            square=True, linewidths=.5, cbar_kws={\"shrink\": .5}, annot = True)"
   ]
  },
  {
   "cell_type": "code",
   "execution_count": 203,
   "id": "99acec7a-af8d-48bf-b6b9-4831b9e92644",
   "metadata": {
    "tags": []
   },
   "outputs": [
    {
     "data": {
      "text/plain": [
       "Index(['Pontos atendimento', 'Bancos autorizados', 'Cart. créd. ativos',\n",
       "       'Tx. juros PF', 'Retorno sobre ativos IF',\n",
       "       'ativo_problematico_alta renda', 'ativo_problematico_baixa renda',\n",
       "       'ativo_problematico_renda indisponível',\n",
       "       'ativo_problematico_renda média', 'carteira_ativa_alta renda',\n",
       "       'carteira_ativa_baixa renda', 'carteira_ativa_renda indisponível',\n",
       "       'carteira_ativa_renda média'],\n",
       "      dtype='object')"
      ]
     },
     "execution_count": 203,
     "metadata": {},
     "output_type": "execute_result"
    }
   ],
   "source": [
    "df_analise_porte_pf_num.columns"
   ]
  },
  {
   "cell_type": "code",
   "execution_count": 204,
   "id": "64213406-3b90-4090-bf7b-6b064659fddf",
   "metadata": {
    "tags": []
   },
   "outputs": [
    {
     "data": {
      "text/html": [
       "<div>\n",
       "<style scoped>\n",
       "    .dataframe tbody tr th:only-of-type {\n",
       "        vertical-align: middle;\n",
       "    }\n",
       "\n",
       "    .dataframe tbody tr th {\n",
       "        vertical-align: top;\n",
       "    }\n",
       "\n",
       "    .dataframe thead th {\n",
       "        text-align: right;\n",
       "    }\n",
       "</style>\n",
       "<table border=\"1\" class=\"dataframe\">\n",
       "  <thead>\n",
       "    <tr style=\"text-align: right;\">\n",
       "      <th></th>\n",
       "      <th>data_base</th>\n",
       "      <th>porte</th>\n",
       "      <th>carteira_ativa</th>\n",
       "      <th>ativo_problematico</th>\n",
       "      <th>mes</th>\n",
       "      <th>categoria_renda</th>\n",
       "    </tr>\n",
       "  </thead>\n",
       "  <tbody>\n",
       "    <tr>\n",
       "      <th>0</th>\n",
       "      <td>2012</td>\n",
       "      <td>Acima de 20 salários mínimos</td>\n",
       "      <td>46133.02</td>\n",
       "      <td>0.00</td>\n",
       "      <td>12</td>\n",
       "      <td>alta renda</td>\n",
       "    </tr>\n",
       "    <tr>\n",
       "      <th>1</th>\n",
       "      <td>2012</td>\n",
       "      <td>Acima de 20 salários mínimos</td>\n",
       "      <td>2214767.68</td>\n",
       "      <td>53656.64</td>\n",
       "      <td>12</td>\n",
       "      <td>alta renda</td>\n",
       "    </tr>\n",
       "    <tr>\n",
       "      <th>2</th>\n",
       "      <td>2012</td>\n",
       "      <td>Acima de 20 salários mínimos</td>\n",
       "      <td>15534583.83</td>\n",
       "      <td>702980.73</td>\n",
       "      <td>12</td>\n",
       "      <td>alta renda</td>\n",
       "    </tr>\n",
       "  </tbody>\n",
       "</table>\n",
       "</div>"
      ],
      "text/plain": [
       "  data_base                         porte  carteira_ativa  ativo_problematico  \\\n",
       "0      2012  Acima de 20 salários mínimos        46133.02                0.00   \n",
       "1      2012  Acima de 20 salários mínimos      2214767.68            53656.64   \n",
       "2      2012  Acima de 20 salários mínimos     15534583.83           702980.73   \n",
       "\n",
       "   mes categoria_renda  \n",
       "0   12      alta renda  \n",
       "1   12      alta renda  \n",
       "2   12      alta renda  "
      ]
     },
     "execution_count": 204,
     "metadata": {},
     "output_type": "execute_result"
    }
   ],
   "source": [
    "df_total.head(3)"
   ]
  },
  {
   "cell_type": "code",
   "execution_count": 205,
   "id": "03ed611b-8688-4ba3-a634-8ae20b026c9e",
   "metadata": {
    "tags": []
   },
   "outputs": [
    {
     "data": {
      "text/html": [
       "<div>\n",
       "<style scoped>\n",
       "    .dataframe tbody tr th:only-of-type {\n",
       "        vertical-align: middle;\n",
       "    }\n",
       "\n",
       "    .dataframe tbody tr th {\n",
       "        vertical-align: top;\n",
       "    }\n",
       "\n",
       "    .dataframe thead th {\n",
       "        text-align: right;\n",
       "    }\n",
       "</style>\n",
       "<table border=\"1\" class=\"dataframe\">\n",
       "  <thead>\n",
       "    <tr style=\"text-align: right;\">\n",
       "      <th></th>\n",
       "      <th>data</th>\n",
       "      <th>valor_24868</th>\n",
       "      <th>valor_24881</th>\n",
       "      <th>valor_25149</th>\n",
       "      <th>valor_20716</th>\n",
       "      <th>valor_29404</th>\n",
       "    </tr>\n",
       "  </thead>\n",
       "  <tbody>\n",
       "    <tr>\n",
       "      <th>10</th>\n",
       "      <td>2015</td>\n",
       "      <td>153.0</td>\n",
       "      <td>1393.0</td>\n",
       "      <td>85.0</td>\n",
       "      <td>31.39</td>\n",
       "      <td>1.94</td>\n",
       "    </tr>\n",
       "    <tr>\n",
       "      <th>11</th>\n",
       "      <td>2016</td>\n",
       "      <td>154.0</td>\n",
       "      <td>1348.0</td>\n",
       "      <td>84.0</td>\n",
       "      <td>38.87</td>\n",
       "      <td>1.38</td>\n",
       "    </tr>\n",
       "    <tr>\n",
       "      <th>12</th>\n",
       "      <td>2017</td>\n",
       "      <td>152.0</td>\n",
       "      <td>1304.0</td>\n",
       "      <td>82.0</td>\n",
       "      <td>41.41</td>\n",
       "      <td>1.60</td>\n",
       "    </tr>\n",
       "  </tbody>\n",
       "</table>\n",
       "</div>"
      ],
      "text/plain": [
       "    data  valor_24868  valor_24881  valor_25149  valor_20716  valor_29404\n",
       "10  2015        153.0       1393.0         85.0        31.39         1.94\n",
       "11  2016        154.0       1348.0         84.0        38.87         1.38\n",
       "12  2017        152.0       1304.0         82.0        41.41         1.60"
      ]
     },
     "execution_count": 205,
     "metadata": {},
     "output_type": "execute_result"
    }
   ],
   "source": [
    "series_bacen_limpo.head(3)"
   ]
  },
  {
   "cell_type": "code",
   "execution_count": 206,
   "id": "9e384d92-f64a-47e5-b9a8-67a73e82fce4",
   "metadata": {
    "tags": []
   },
   "outputs": [],
   "source": [
    "df_scatter_plot = pd.merge(series_bacen_limpo,\n",
    "                              df_total,\n",
    "                              left_on=\"data\",\n",
    "                              right_on=\"data_base\",\n",
    "                              how = \"inner\")"
   ]
  },
  {
   "cell_type": "code",
   "execution_count": 207,
   "id": "79ee4c17-9db9-41df-8eb1-7e44150130fd",
   "metadata": {
    "tags": []
   },
   "outputs": [
    {
     "data": {
      "text/html": [
       "<div>\n",
       "<style scoped>\n",
       "    .dataframe tbody tr th:only-of-type {\n",
       "        vertical-align: middle;\n",
       "    }\n",
       "\n",
       "    .dataframe tbody tr th {\n",
       "        vertical-align: top;\n",
       "    }\n",
       "\n",
       "    .dataframe thead th {\n",
       "        text-align: right;\n",
       "    }\n",
       "</style>\n",
       "<table border=\"1\" class=\"dataframe\">\n",
       "  <thead>\n",
       "    <tr style=\"text-align: right;\">\n",
       "      <th></th>\n",
       "      <th>data</th>\n",
       "      <th>valor_24868</th>\n",
       "      <th>valor_24881</th>\n",
       "      <th>valor_25149</th>\n",
       "      <th>valor_20716</th>\n",
       "      <th>valor_29404</th>\n",
       "      <th>data_base</th>\n",
       "      <th>porte</th>\n",
       "      <th>carteira_ativa</th>\n",
       "      <th>ativo_problematico</th>\n",
       "      <th>mes</th>\n",
       "      <th>categoria_renda</th>\n",
       "    </tr>\n",
       "  </thead>\n",
       "  <tbody>\n",
       "    <tr>\n",
       "      <th>0</th>\n",
       "      <td>2015</td>\n",
       "      <td>153.0</td>\n",
       "      <td>1393.0</td>\n",
       "      <td>85.0</td>\n",
       "      <td>31.39</td>\n",
       "      <td>1.94</td>\n",
       "      <td>2015</td>\n",
       "      <td>Acima de 20 salários mínimos</td>\n",
       "      <td>2751131.94</td>\n",
       "      <td>138056.97</td>\n",
       "      <td>12</td>\n",
       "      <td>alta renda</td>\n",
       "    </tr>\n",
       "    <tr>\n",
       "      <th>1</th>\n",
       "      <td>2015</td>\n",
       "      <td>153.0</td>\n",
       "      <td>1393.0</td>\n",
       "      <td>85.0</td>\n",
       "      <td>31.39</td>\n",
       "      <td>1.94</td>\n",
       "      <td>2015</td>\n",
       "      <td>Acima de 20 salários mínimos</td>\n",
       "      <td>18016204.14</td>\n",
       "      <td>276532.98</td>\n",
       "      <td>12</td>\n",
       "      <td>alta renda</td>\n",
       "    </tr>\n",
       "    <tr>\n",
       "      <th>2</th>\n",
       "      <td>2015</td>\n",
       "      <td>153.0</td>\n",
       "      <td>1393.0</td>\n",
       "      <td>85.0</td>\n",
       "      <td>31.39</td>\n",
       "      <td>1.94</td>\n",
       "      <td>2015</td>\n",
       "      <td>Acima de 20 salários mínimos</td>\n",
       "      <td>3234228.76</td>\n",
       "      <td>284526.54</td>\n",
       "      <td>12</td>\n",
       "      <td>alta renda</td>\n",
       "    </tr>\n",
       "    <tr>\n",
       "      <th>3</th>\n",
       "      <td>2015</td>\n",
       "      <td>153.0</td>\n",
       "      <td>1393.0</td>\n",
       "      <td>85.0</td>\n",
       "      <td>31.39</td>\n",
       "      <td>1.94</td>\n",
       "      <td>2015</td>\n",
       "      <td>Acima de 20 salários mínimos</td>\n",
       "      <td>1993889.92</td>\n",
       "      <td>159914.09</td>\n",
       "      <td>12</td>\n",
       "      <td>alta renda</td>\n",
       "    </tr>\n",
       "    <tr>\n",
       "      <th>4</th>\n",
       "      <td>2015</td>\n",
       "      <td>153.0</td>\n",
       "      <td>1393.0</td>\n",
       "      <td>85.0</td>\n",
       "      <td>31.39</td>\n",
       "      <td>1.94</td>\n",
       "      <td>2015</td>\n",
       "      <td>Acima de 20 salários mínimos</td>\n",
       "      <td>26299.92</td>\n",
       "      <td>19991.47</td>\n",
       "      <td>12</td>\n",
       "      <td>alta renda</td>\n",
       "    </tr>\n",
       "    <tr>\n",
       "      <th>...</th>\n",
       "      <td>...</td>\n",
       "      <td>...</td>\n",
       "      <td>...</td>\n",
       "      <td>...</td>\n",
       "      <td>...</td>\n",
       "      <td>...</td>\n",
       "      <td>...</td>\n",
       "      <td>...</td>\n",
       "      <td>...</td>\n",
       "      <td>...</td>\n",
       "      <td>...</td>\n",
       "      <td>...</td>\n",
       "    </tr>\n",
       "    <tr>\n",
       "      <th>774803</th>\n",
       "      <td>2022</td>\n",
       "      <td>159.0</td>\n",
       "      <td>1198.0</td>\n",
       "      <td>209.0</td>\n",
       "      <td>29.57</td>\n",
       "      <td>2.67</td>\n",
       "      <td>2022</td>\n",
       "      <td>Mais de 3 a 5 salários mínimos</td>\n",
       "      <td>41561.66</td>\n",
       "      <td>6457.38</td>\n",
       "      <td>12</td>\n",
       "      <td>alta renda</td>\n",
       "    </tr>\n",
       "    <tr>\n",
       "      <th>774804</th>\n",
       "      <td>2022</td>\n",
       "      <td>159.0</td>\n",
       "      <td>1198.0</td>\n",
       "      <td>209.0</td>\n",
       "      <td>29.57</td>\n",
       "      <td>2.67</td>\n",
       "      <td>2022</td>\n",
       "      <td>Mais de 5 a 10 salários mínimos</td>\n",
       "      <td>2267.87</td>\n",
       "      <td>0.00</td>\n",
       "      <td>12</td>\n",
       "      <td>renda média</td>\n",
       "    </tr>\n",
       "    <tr>\n",
       "      <th>774805</th>\n",
       "      <td>2022</td>\n",
       "      <td>159.0</td>\n",
       "      <td>1198.0</td>\n",
       "      <td>209.0</td>\n",
       "      <td>29.57</td>\n",
       "      <td>2.67</td>\n",
       "      <td>2022</td>\n",
       "      <td>Mais de 5 a 10 salários mínimos</td>\n",
       "      <td>308245.57</td>\n",
       "      <td>93732.71</td>\n",
       "      <td>12</td>\n",
       "      <td>renda média</td>\n",
       "    </tr>\n",
       "    <tr>\n",
       "      <th>774806</th>\n",
       "      <td>2022</td>\n",
       "      <td>159.0</td>\n",
       "      <td>1198.0</td>\n",
       "      <td>209.0</td>\n",
       "      <td>29.57</td>\n",
       "      <td>2.67</td>\n",
       "      <td>2022</td>\n",
       "      <td>Mais de 5 a 10 salários mínimos</td>\n",
       "      <td>180685.28</td>\n",
       "      <td>4842.19</td>\n",
       "      <td>12</td>\n",
       "      <td>renda média</td>\n",
       "    </tr>\n",
       "    <tr>\n",
       "      <th>774807</th>\n",
       "      <td>2022</td>\n",
       "      <td>159.0</td>\n",
       "      <td>1198.0</td>\n",
       "      <td>209.0</td>\n",
       "      <td>29.57</td>\n",
       "      <td>2.67</td>\n",
       "      <td>2022</td>\n",
       "      <td>Sem rendimento</td>\n",
       "      <td>1876.69</td>\n",
       "      <td>0.00</td>\n",
       "      <td>12</td>\n",
       "      <td>baixa renda</td>\n",
       "    </tr>\n",
       "  </tbody>\n",
       "</table>\n",
       "<p>774808 rows × 12 columns</p>\n",
       "</div>"
      ],
      "text/plain": [
       "        data  valor_24868  valor_24881  valor_25149  valor_20716  valor_29404  \\\n",
       "0       2015        153.0       1393.0         85.0        31.39         1.94   \n",
       "1       2015        153.0       1393.0         85.0        31.39         1.94   \n",
       "2       2015        153.0       1393.0         85.0        31.39         1.94   \n",
       "3       2015        153.0       1393.0         85.0        31.39         1.94   \n",
       "4       2015        153.0       1393.0         85.0        31.39         1.94   \n",
       "...      ...          ...          ...          ...          ...          ...   \n",
       "774803  2022        159.0       1198.0        209.0        29.57         2.67   \n",
       "774804  2022        159.0       1198.0        209.0        29.57         2.67   \n",
       "774805  2022        159.0       1198.0        209.0        29.57         2.67   \n",
       "774806  2022        159.0       1198.0        209.0        29.57         2.67   \n",
       "774807  2022        159.0       1198.0        209.0        29.57         2.67   \n",
       "\n",
       "       data_base                            porte  carteira_ativa  \\\n",
       "0           2015     Acima de 20 salários mínimos      2751131.94   \n",
       "1           2015     Acima de 20 salários mínimos     18016204.14   \n",
       "2           2015     Acima de 20 salários mínimos      3234228.76   \n",
       "3           2015     Acima de 20 salários mínimos      1993889.92   \n",
       "4           2015     Acima de 20 salários mínimos        26299.92   \n",
       "...          ...                              ...             ...   \n",
       "774803      2022   Mais de 3 a 5 salários mínimos        41561.66   \n",
       "774804      2022  Mais de 5 a 10 salários mínimos         2267.87   \n",
       "774805      2022  Mais de 5 a 10 salários mínimos       308245.57   \n",
       "774806      2022  Mais de 5 a 10 salários mínimos       180685.28   \n",
       "774807      2022                   Sem rendimento         1876.69   \n",
       "\n",
       "        ativo_problematico  mes categoria_renda  \n",
       "0                138056.97   12      alta renda  \n",
       "1                276532.98   12      alta renda  \n",
       "2                284526.54   12      alta renda  \n",
       "3                159914.09   12      alta renda  \n",
       "4                 19991.47   12      alta renda  \n",
       "...                    ...  ...             ...  \n",
       "774803             6457.38   12      alta renda  \n",
       "774804                0.00   12     renda média  \n",
       "774805            93732.71   12     renda média  \n",
       "774806             4842.19   12     renda média  \n",
       "774807                0.00   12     baixa renda  \n",
       "\n",
       "[774808 rows x 12 columns]"
      ]
     },
     "execution_count": 207,
     "metadata": {},
     "output_type": "execute_result"
    }
   ],
   "source": [
    "df_scatter_plot"
   ]
  },
  {
   "cell_type": "code",
   "execution_count": 208,
   "id": "36950e41-c044-4f26-97b2-369907168e6b",
   "metadata": {
    "tags": []
   },
   "outputs": [],
   "source": [
    "df_scatter_plot = df_scatter_plot.rename(columns={\n",
    "    'data': \"ano\",\n",
    "    'valor_24868': \"Pontos atendimento\",\n",
    "    'valor_24881': \"Bancos autorizados\",\n",
    "    'valor_25149': \"Cart. créd. ativos\",\n",
    "    'valor_20716': \"Tx. juros PF\",\n",
    "    'valor_29404': \"Retorno sobre ativos IF\"\n",
    "})"
   ]
  },
  {
   "cell_type": "code",
   "execution_count": 209,
   "id": "ce8c01d4-f11a-4c01-9283-f185548a4dc7",
   "metadata": {
    "tags": []
   },
   "outputs": [],
   "source": [
    "df_scatter_plot = df_scatter_plot.drop(columns = ['ano', 'data_base', 'mes'])"
   ]
  },
  {
   "cell_type": "code",
   "execution_count": 210,
   "id": "74be066f-9452-4b2d-8775-4c398d686aeb",
   "metadata": {
    "tags": []
   },
   "outputs": [
    {
     "data": {
      "text/html": [
       "<div>\n",
       "<style scoped>\n",
       "    .dataframe tbody tr th:only-of-type {\n",
       "        vertical-align: middle;\n",
       "    }\n",
       "\n",
       "    .dataframe tbody tr th {\n",
       "        vertical-align: top;\n",
       "    }\n",
       "\n",
       "    .dataframe thead th {\n",
       "        text-align: right;\n",
       "    }\n",
       "</style>\n",
       "<table border=\"1\" class=\"dataframe\">\n",
       "  <thead>\n",
       "    <tr style=\"text-align: right;\">\n",
       "      <th></th>\n",
       "      <th>Pontos atendimento</th>\n",
       "      <th>Bancos autorizados</th>\n",
       "      <th>Cart. créd. ativos</th>\n",
       "      <th>Tx. juros PF</th>\n",
       "      <th>Retorno sobre ativos IF</th>\n",
       "      <th>porte</th>\n",
       "      <th>carteira_ativa</th>\n",
       "      <th>ativo_problematico</th>\n",
       "      <th>categoria_renda</th>\n",
       "    </tr>\n",
       "  </thead>\n",
       "  <tbody>\n",
       "    <tr>\n",
       "      <th>0</th>\n",
       "      <td>153.0</td>\n",
       "      <td>1393.0</td>\n",
       "      <td>85.0</td>\n",
       "      <td>31.39</td>\n",
       "      <td>1.94</td>\n",
       "      <td>Acima de 20 salários mínimos</td>\n",
       "      <td>2751131.94</td>\n",
       "      <td>138056.97</td>\n",
       "      <td>alta renda</td>\n",
       "    </tr>\n",
       "    <tr>\n",
       "      <th>1</th>\n",
       "      <td>153.0</td>\n",
       "      <td>1393.0</td>\n",
       "      <td>85.0</td>\n",
       "      <td>31.39</td>\n",
       "      <td>1.94</td>\n",
       "      <td>Acima de 20 salários mínimos</td>\n",
       "      <td>18016204.14</td>\n",
       "      <td>276532.98</td>\n",
       "      <td>alta renda</td>\n",
       "    </tr>\n",
       "    <tr>\n",
       "      <th>2</th>\n",
       "      <td>153.0</td>\n",
       "      <td>1393.0</td>\n",
       "      <td>85.0</td>\n",
       "      <td>31.39</td>\n",
       "      <td>1.94</td>\n",
       "      <td>Acima de 20 salários mínimos</td>\n",
       "      <td>3234228.76</td>\n",
       "      <td>284526.54</td>\n",
       "      <td>alta renda</td>\n",
       "    </tr>\n",
       "    <tr>\n",
       "      <th>3</th>\n",
       "      <td>153.0</td>\n",
       "      <td>1393.0</td>\n",
       "      <td>85.0</td>\n",
       "      <td>31.39</td>\n",
       "      <td>1.94</td>\n",
       "      <td>Acima de 20 salários mínimos</td>\n",
       "      <td>1993889.92</td>\n",
       "      <td>159914.09</td>\n",
       "      <td>alta renda</td>\n",
       "    </tr>\n",
       "    <tr>\n",
       "      <th>4</th>\n",
       "      <td>153.0</td>\n",
       "      <td>1393.0</td>\n",
       "      <td>85.0</td>\n",
       "      <td>31.39</td>\n",
       "      <td>1.94</td>\n",
       "      <td>Acima de 20 salários mínimos</td>\n",
       "      <td>26299.92</td>\n",
       "      <td>19991.47</td>\n",
       "      <td>alta renda</td>\n",
       "    </tr>\n",
       "    <tr>\n",
       "      <th>...</th>\n",
       "      <td>...</td>\n",
       "      <td>...</td>\n",
       "      <td>...</td>\n",
       "      <td>...</td>\n",
       "      <td>...</td>\n",
       "      <td>...</td>\n",
       "      <td>...</td>\n",
       "      <td>...</td>\n",
       "      <td>...</td>\n",
       "    </tr>\n",
       "    <tr>\n",
       "      <th>774803</th>\n",
       "      <td>159.0</td>\n",
       "      <td>1198.0</td>\n",
       "      <td>209.0</td>\n",
       "      <td>29.57</td>\n",
       "      <td>2.67</td>\n",
       "      <td>Mais de 3 a 5 salários mínimos</td>\n",
       "      <td>41561.66</td>\n",
       "      <td>6457.38</td>\n",
       "      <td>alta renda</td>\n",
       "    </tr>\n",
       "    <tr>\n",
       "      <th>774804</th>\n",
       "      <td>159.0</td>\n",
       "      <td>1198.0</td>\n",
       "      <td>209.0</td>\n",
       "      <td>29.57</td>\n",
       "      <td>2.67</td>\n",
       "      <td>Mais de 5 a 10 salários mínimos</td>\n",
       "      <td>2267.87</td>\n",
       "      <td>0.00</td>\n",
       "      <td>renda média</td>\n",
       "    </tr>\n",
       "    <tr>\n",
       "      <th>774805</th>\n",
       "      <td>159.0</td>\n",
       "      <td>1198.0</td>\n",
       "      <td>209.0</td>\n",
       "      <td>29.57</td>\n",
       "      <td>2.67</td>\n",
       "      <td>Mais de 5 a 10 salários mínimos</td>\n",
       "      <td>308245.57</td>\n",
       "      <td>93732.71</td>\n",
       "      <td>renda média</td>\n",
       "    </tr>\n",
       "    <tr>\n",
       "      <th>774806</th>\n",
       "      <td>159.0</td>\n",
       "      <td>1198.0</td>\n",
       "      <td>209.0</td>\n",
       "      <td>29.57</td>\n",
       "      <td>2.67</td>\n",
       "      <td>Mais de 5 a 10 salários mínimos</td>\n",
       "      <td>180685.28</td>\n",
       "      <td>4842.19</td>\n",
       "      <td>renda média</td>\n",
       "    </tr>\n",
       "    <tr>\n",
       "      <th>774807</th>\n",
       "      <td>159.0</td>\n",
       "      <td>1198.0</td>\n",
       "      <td>209.0</td>\n",
       "      <td>29.57</td>\n",
       "      <td>2.67</td>\n",
       "      <td>Sem rendimento</td>\n",
       "      <td>1876.69</td>\n",
       "      <td>0.00</td>\n",
       "      <td>baixa renda</td>\n",
       "    </tr>\n",
       "  </tbody>\n",
       "</table>\n",
       "<p>774808 rows × 9 columns</p>\n",
       "</div>"
      ],
      "text/plain": [
       "        Pontos atendimento  Bancos autorizados  Cart. créd. ativos  \\\n",
       "0                    153.0              1393.0                85.0   \n",
       "1                    153.0              1393.0                85.0   \n",
       "2                    153.0              1393.0                85.0   \n",
       "3                    153.0              1393.0                85.0   \n",
       "4                    153.0              1393.0                85.0   \n",
       "...                    ...                 ...                 ...   \n",
       "774803               159.0              1198.0               209.0   \n",
       "774804               159.0              1198.0               209.0   \n",
       "774805               159.0              1198.0               209.0   \n",
       "774806               159.0              1198.0               209.0   \n",
       "774807               159.0              1198.0               209.0   \n",
       "\n",
       "        Tx. juros PF  Retorno sobre ativos IF  \\\n",
       "0              31.39                     1.94   \n",
       "1              31.39                     1.94   \n",
       "2              31.39                     1.94   \n",
       "3              31.39                     1.94   \n",
       "4              31.39                     1.94   \n",
       "...              ...                      ...   \n",
       "774803         29.57                     2.67   \n",
       "774804         29.57                     2.67   \n",
       "774805         29.57                     2.67   \n",
       "774806         29.57                     2.67   \n",
       "774807         29.57                     2.67   \n",
       "\n",
       "                                  porte  carteira_ativa  ativo_problematico  \\\n",
       "0          Acima de 20 salários mínimos      2751131.94           138056.97   \n",
       "1          Acima de 20 salários mínimos     18016204.14           276532.98   \n",
       "2          Acima de 20 salários mínimos      3234228.76           284526.54   \n",
       "3          Acima de 20 salários mínimos      1993889.92           159914.09   \n",
       "4          Acima de 20 salários mínimos        26299.92            19991.47   \n",
       "...                                 ...             ...                 ...   \n",
       "774803   Mais de 3 a 5 salários mínimos        41561.66             6457.38   \n",
       "774804  Mais de 5 a 10 salários mínimos         2267.87                0.00   \n",
       "774805  Mais de 5 a 10 salários mínimos       308245.57            93732.71   \n",
       "774806  Mais de 5 a 10 salários mínimos       180685.28             4842.19   \n",
       "774807                   Sem rendimento         1876.69                0.00   \n",
       "\n",
       "       categoria_renda  \n",
       "0           alta renda  \n",
       "1           alta renda  \n",
       "2           alta renda  \n",
       "3           alta renda  \n",
       "4           alta renda  \n",
       "...                ...  \n",
       "774803      alta renda  \n",
       "774804     renda média  \n",
       "774805     renda média  \n",
       "774806     renda média  \n",
       "774807     baixa renda  \n",
       "\n",
       "[774808 rows x 9 columns]"
      ]
     },
     "execution_count": 210,
     "metadata": {},
     "output_type": "execute_result"
    }
   ],
   "source": [
    "df_scatter_plot"
   ]
  },
  {
   "cell_type": "code",
   "execution_count": 218,
   "id": "2e490995-dfcf-4038-ab43-5ed9de9de5c2",
   "metadata": {
    "tags": []
   },
   "outputs": [],
   "source": [
    "valores_excluir = ['ativo_problematico_renda indisponivel', \n",
    "                   'ativo_problematico_renda média', \n",
    "                   'carteira_ativa_renda indisponível', \n",
    "                   'carteira_ativa_renda indisponível']\n",
    "\n",
    "df_scatter_plot = df_scatter_plot[~df_scatter_plot['categoria_renda'].isin(valores_excluir)]"
   ]
  },
  {
   "cell_type": "code",
   "execution_count": 219,
   "id": "3a3211e4-31b7-494f-a90b-6e8c1e185b57",
   "metadata": {
    "tags": []
   },
   "outputs": [
    {
     "data": {
      "text/plain": [
       "<seaborn.axisgrid.FacetGrid at 0x28a619cd0>"
      ]
     },
     "execution_count": 219,
     "metadata": {},
     "output_type": "execute_result"
    },
    {
     "data": {
      "image/png": "[encoded data removed]",
      "text/plain": [
       "<Figure size 1483.12x300 with 4 Axes>"
      ]
     },
     "metadata": {},
     "output_type": "display_data"
    }
   ],
   "source": [
    "import warnings\n",
    "warnings.filterwarnings('ignore')\n",
    "\n",
    "g = sns.FacetGrid(df_scatter_plot, col = 'categoria_renda')\n",
    "g.map_dataframe(sns.scatterplot, x=\"carteira_ativa\", y=\"ativo_problematico\", hue = \"porte\")\n",
    "g.add_legend()"
   ]
  }
 ],
 "metadata": {
  "kernelspec": {
   "display_name": "Python 3 (ipykernel)",
   "language": "python",
   "name": "python3"
  },
  "language_info": {
   "codemirror_mode": {
    "name": "ipython",
    "version": 3
   },
   "file_extension": ".py",
   "mimetype": "text/x-python",
   "name": "python",
   "nbconvert_exporter": "python",
   "pygments_lexer": "ipython3",
   "version": "3.11.5"
  }
 },
 "nbformat": 4,
 "nbformat_minor": 5
}
