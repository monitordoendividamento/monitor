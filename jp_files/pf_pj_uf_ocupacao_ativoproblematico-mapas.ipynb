{
 "cells": [
  {
   "cell_type": "code",
   "execution_count": 1,
   "id": "60d865d7-90a2-4ddc-8f98-4ba9d508942f",
   "metadata": {
    "tags": []
   },
   "outputs": [],
   "source": [
    "import zipfile\n",
    "import os\n",
    "import pandas as pd\n",
    "import deflatebr as dbr\n",
    "import json\n",
    "import requests\n",
    "from dash import Dash, dcc, html, Input, Output\n",
    "import plotly.express as px\n",
    "import sidrapy"
   ]
  },
  {
   "cell_type": "code",
   "execution_count": 2,
   "id": "3b9e419a-bd66-4e01-a4bd-1ac31f887db3",
   "metadata": {
    "tags": []
   },
   "outputs": [],
   "source": [
    "def concatenar_csvs(diretorio):\n",
    "    frames = []\n",
    "\n",
    "    for arquivo in os.listdir(diretorio):\n",
    "        if arquivo.endswith('.csv'):\n",
    "            caminho_arquivo = os.path.join(diretorio, arquivo)\n",
    "            \n",
    "            df = pd.read_csv(caminho_arquivo, encoding='utf-8', delimiter=\";\", decimal=\",\")\n",
    "            df = df.rename(columns={df.columns[0]: \"data_base\"})\n",
    "            df['data_base'] = pd.to_datetime(df['data_base'], format=\"%Y-%m-%d\")\n",
    "            df['mes'] = df['data_base'].dt.month #cria uma nova coluna com mês\n",
    "            df['ano'] = df['data_base'].dt.year\n",
    "            df = df[df['mes'] == 12]\n",
    "            df = df[['ano', 'cliente', 'uf', 'ocupacao', 'cnae_secao', 'ativo_problematico']]\n",
    "            #df.loc[df['ocupacao'] == '-', 'ocupacao'] = df['cnae_secao'] #Adiciona o valor da coluna cnae_secao quando a coluna ocupacao é \"-\"\n",
    "            df = df.groupby(['ano','cliente','uf', 'ocupacao', 'cnae_secao'])['ativo_problematico'].sum().reset_index()\n",
    "            \n",
    "            frames.append(df)\n",
    "\n",
    "    df_concatenado = pd.concat(frames, ignore_index=True)\n",
    "\n",
    "    return df_concatenado"
   ]
  },
  {
   "cell_type": "code",
   "execution_count": 3,
   "id": "130a2d01-bdd2-42b5-8043-c5f316962816",
   "metadata": {
    "tags": []
   },
   "outputs": [],
   "source": [
    "anos = list(range(2012, 2024))\n",
    "dataframes = []\n",
    "\n",
    "for ano in anos:\n",
    "    diretorio = f\"planilha_{ano}\"\n",
    "    dataframe_ano = concatenar_csvs(diretorio)\n",
    "    dataframes.append(dataframe_ano)\n",
    "\n",
    "df_total = pd.concat(dataframes, ignore_index=False)"
   ]
  },
  {
   "cell_type": "code",
   "execution_count": 4,
   "id": "eac2bb62-067d-4c39-8b83-3adaed3059eb",
   "metadata": {
    "tags": []
   },
   "outputs": [],
   "source": [
    "populacao_estados = sidrapy.get_table(table_code='4709',\n",
    "                         territorial_level=\"3\",\n",
    "                         ibge_territorial_code=\"all\",\n",
    "                         variable='93') "
   ]
  },
  {
   "cell_type": "code",
   "execution_count": 5,
   "id": "a0202729-e123-4b6b-bb77-2f71321f1037",
   "metadata": {
    "tags": []
   },
   "outputs": [],
   "source": [
    "populacao_estados = populacao_estados.drop(columns = [\"NC\", \"NN\", \"MC\", \"MN\",\"D1C\",\"D2C\",\"D2N\",\"D3C\"])"
   ]
  },
  {
   "cell_type": "code",
   "execution_count": 6,
   "id": "e4db0ce1-3acb-467d-ac84-99f4db19448c",
   "metadata": {
    "tags": []
   },
   "outputs": [],
   "source": [
    "populacao_estados.columns = populacao_estados.iloc[0]"
   ]
  },
  {
   "cell_type": "code",
   "execution_count": 7,
   "id": "16bc23ca-89d5-4784-89ca-fa0a59a32ee8",
   "metadata": {
    "tags": []
   },
   "outputs": [
    {
     "data": {
      "text/html": [
       "<div>\n",
       "<style scoped>\n",
       "    .dataframe tbody tr th:only-of-type {\n",
       "        vertical-align: middle;\n",
       "    }\n",
       "\n",
       "    .dataframe tbody tr th {\n",
       "        vertical-align: top;\n",
       "    }\n",
       "\n",
       "    .dataframe thead th {\n",
       "        text-align: right;\n",
       "    }\n",
       "</style>\n",
       "<table border=\"1\" class=\"dataframe\">\n",
       "  <thead>\n",
       "    <tr style=\"text-align: right;\">\n",
       "      <th></th>\n",
       "      <th>Valor</th>\n",
       "      <th>Unidade da Federação</th>\n",
       "      <th>Ano</th>\n",
       "    </tr>\n",
       "  </thead>\n",
       "  <tbody>\n",
       "    <tr>\n",
       "      <th>0</th>\n",
       "      <td>Valor</td>\n",
       "      <td>Unidade da Federação</td>\n",
       "      <td>Ano</td>\n",
       "    </tr>\n",
       "    <tr>\n",
       "      <th>1</th>\n",
       "      <td>1581196</td>\n",
       "      <td>Rondônia</td>\n",
       "      <td>2022</td>\n",
       "    </tr>\n",
       "  </tbody>\n",
       "</table>\n",
       "</div>"
      ],
      "text/plain": [
       "0    Valor  Unidade da Federação   Ano\n",
       "0    Valor  Unidade da Federação   Ano\n",
       "1  1581196              Rondônia  2022"
      ]
     },
     "execution_count": 7,
     "metadata": {},
     "output_type": "execute_result"
    }
   ],
   "source": [
    "populacao_estados.head(2)"
   ]
  },
  {
   "cell_type": "code",
   "execution_count": 8,
   "id": "150d62b5-5fb0-4ad9-ba66-9caef7b8c04b",
   "metadata": {
    "tags": []
   },
   "outputs": [
    {
     "name": "stdout",
     "output_type": "stream",
     "text": [
      "<class 'pandas.core.frame.DataFrame'>\n",
      "Index: 8200 entries, 0 to 759\n",
      "Data columns (total 6 columns):\n",
      " #   Column              Non-Null Count  Dtype  \n",
      "---  ------              --------------  -----  \n",
      " 0   ano                 8200 non-null   int32  \n",
      " 1   cliente             8200 non-null   object \n",
      " 2   uf                  8200 non-null   object \n",
      " 3   ocupacao            8200 non-null   object \n",
      " 4   cnae_secao          8200 non-null   object \n",
      " 5   ativo_problematico  8200 non-null   float64\n",
      "dtypes: float64(1), int32(1), object(4)\n",
      "memory usage: 416.4+ KB\n"
     ]
    }
   ],
   "source": [
    "df_total.info()"
   ]
  },
  {
   "cell_type": "code",
   "execution_count": 9,
   "id": "49f8edc6-788c-4e78-8449-78b9c5ad090a",
   "metadata": {
    "tags": []
   },
   "outputs": [],
   "source": [
    "uf_to_state = {\n",
    "    'AC': 'Acre',\n",
    "    'AL': 'Alagoas',\n",
    "    'AP': 'Amapá',\n",
    "    'AM': 'Amazonas',\n",
    "    'BA': 'Bahia',\n",
    "    'CE': 'Ceará',\n",
    "    'DF': 'Distrito Federal',\n",
    "    'ES': 'Espírito Santo',\n",
    "    'GO': 'Goiás',\n",
    "    'MA': 'Maranhão',\n",
    "    'MT': 'Mato Grosso',\n",
    "    'MS': 'Mato Grosso do Sul',\n",
    "    'MG': 'Minas Gerais',\n",
    "    'PA': 'Pará',\n",
    "    'PB': 'Paraíba',\n",
    "    'PR': 'Paraná',\n",
    "    'PE': 'Pernambuco',\n",
    "    'PI': 'Piauí',\n",
    "    'RJ': 'Rio de Janeiro',\n",
    "    'RN': 'Rio Grande do Norte',\n",
    "    'RS': 'Rio Grande do Sul',\n",
    "    'RO': 'Rondônia',\n",
    "    'RR': 'Roraima',\n",
    "    'SC': 'Santa Catarina',\n",
    "    'SP': 'São Paulo',\n",
    "    'SE': 'Sergipe',\n",
    "    'TO': 'Tocantins'\n",
    "}"
   ]
  },
  {
   "cell_type": "code",
   "execution_count": 10,
   "id": "aabadf3a-8ab2-471e-a51e-1f6f049ba946",
   "metadata": {
    "tags": []
   },
   "outputs": [],
   "source": [
    "df_uf_to_state = pd.DataFrame(list(uf_to_state.items()), columns=['uf', 'Estado'])"
   ]
  },
  {
   "cell_type": "code",
   "execution_count": 11,
   "id": "69169f6a-aae6-451e-b4c2-70b201397b89",
   "metadata": {
    "tags": []
   },
   "outputs": [
    {
     "data": {
      "text/html": [
       "<div>\n",
       "<style scoped>\n",
       "    .dataframe tbody tr th:only-of-type {\n",
       "        vertical-align: middle;\n",
       "    }\n",
       "\n",
       "    .dataframe tbody tr th {\n",
       "        vertical-align: top;\n",
       "    }\n",
       "\n",
       "    .dataframe thead th {\n",
       "        text-align: right;\n",
       "    }\n",
       "</style>\n",
       "<table border=\"1\" class=\"dataframe\">\n",
       "  <thead>\n",
       "    <tr style=\"text-align: right;\">\n",
       "      <th></th>\n",
       "      <th>uf</th>\n",
       "      <th>Estado</th>\n",
       "    </tr>\n",
       "  </thead>\n",
       "  <tbody>\n",
       "    <tr>\n",
       "      <th>0</th>\n",
       "      <td>AC</td>\n",
       "      <td>Acre</td>\n",
       "    </tr>\n",
       "    <tr>\n",
       "      <th>1</th>\n",
       "      <td>AL</td>\n",
       "      <td>Alagoas</td>\n",
       "    </tr>\n",
       "    <tr>\n",
       "      <th>2</th>\n",
       "      <td>AP</td>\n",
       "      <td>Amapá</td>\n",
       "    </tr>\n",
       "    <tr>\n",
       "      <th>3</th>\n",
       "      <td>AM</td>\n",
       "      <td>Amazonas</td>\n",
       "    </tr>\n",
       "    <tr>\n",
       "      <th>4</th>\n",
       "      <td>BA</td>\n",
       "      <td>Bahia</td>\n",
       "    </tr>\n",
       "  </tbody>\n",
       "</table>\n",
       "</div>"
      ],
      "text/plain": [
       "   uf    Estado\n",
       "0  AC      Acre\n",
       "1  AL   Alagoas\n",
       "2  AP     Amapá\n",
       "3  AM  Amazonas\n",
       "4  BA     Bahia"
      ]
     },
     "execution_count": 11,
     "metadata": {},
     "output_type": "execute_result"
    }
   ],
   "source": [
    "df_uf_to_state.head(5)"
   ]
  },
  {
   "cell_type": "code",
   "execution_count": 12,
   "id": "4fbb4202-801e-4d88-8d50-57492716b9c9",
   "metadata": {
    "tags": []
   },
   "outputs": [],
   "source": [
    "df_total = pd.merge(df_total,\n",
    "                    df_uf_to_state)"
   ]
  },
  {
   "cell_type": "code",
   "execution_count": 13,
   "id": "0b00cadf-8e7b-4085-a770-659285f0447d",
   "metadata": {
    "tags": []
   },
   "outputs": [
    {
     "data": {
      "text/html": [
       "<div>\n",
       "<style scoped>\n",
       "    .dataframe tbody tr th:only-of-type {\n",
       "        vertical-align: middle;\n",
       "    }\n",
       "\n",
       "    .dataframe tbody tr th {\n",
       "        vertical-align: top;\n",
       "    }\n",
       "\n",
       "    .dataframe thead th {\n",
       "        text-align: right;\n",
       "    }\n",
       "</style>\n",
       "<table border=\"1\" class=\"dataframe\">\n",
       "  <thead>\n",
       "    <tr style=\"text-align: right;\">\n",
       "      <th></th>\n",
       "      <th>ano</th>\n",
       "      <th>cliente</th>\n",
       "      <th>uf</th>\n",
       "      <th>ocupacao</th>\n",
       "      <th>cnae_secao</th>\n",
       "      <th>ativo_problematico</th>\n",
       "      <th>Estado</th>\n",
       "    </tr>\n",
       "  </thead>\n",
       "  <tbody>\n",
       "    <tr>\n",
       "      <th>0</th>\n",
       "      <td>2012</td>\n",
       "      <td>PF</td>\n",
       "      <td>AC</td>\n",
       "      <td>PF - Aposentado/pensionista</td>\n",
       "      <td>-</td>\n",
       "      <td>11448387.97</td>\n",
       "      <td>Acre</td>\n",
       "    </tr>\n",
       "    <tr>\n",
       "      <th>1</th>\n",
       "      <td>2012</td>\n",
       "      <td>PF</td>\n",
       "      <td>AC</td>\n",
       "      <td>PF - Autônomo</td>\n",
       "      <td>-</td>\n",
       "      <td>8955205.34</td>\n",
       "      <td>Acre</td>\n",
       "    </tr>\n",
       "    <tr>\n",
       "      <th>2</th>\n",
       "      <td>2012</td>\n",
       "      <td>PF</td>\n",
       "      <td>AC</td>\n",
       "      <td>PF - Empregado de empresa privada</td>\n",
       "      <td>-</td>\n",
       "      <td>6786123.20</td>\n",
       "      <td>Acre</td>\n",
       "    </tr>\n",
       "    <tr>\n",
       "      <th>3</th>\n",
       "      <td>2012</td>\n",
       "      <td>PF</td>\n",
       "      <td>AC</td>\n",
       "      <td>PF - Empregado de entidades sem fins lucrativos</td>\n",
       "      <td>-</td>\n",
       "      <td>21911.72</td>\n",
       "      <td>Acre</td>\n",
       "    </tr>\n",
       "    <tr>\n",
       "      <th>4</th>\n",
       "      <td>2012</td>\n",
       "      <td>PF</td>\n",
       "      <td>AC</td>\n",
       "      <td>PF - Empresário</td>\n",
       "      <td>-</td>\n",
       "      <td>27433879.37</td>\n",
       "      <td>Acre</td>\n",
       "    </tr>\n",
       "  </tbody>\n",
       "</table>\n",
       "</div>"
      ],
      "text/plain": [
       "    ano cliente  uf                                         ocupacao  \\\n",
       "0  2012      PF  AC                      PF - Aposentado/pensionista   \n",
       "1  2012      PF  AC                                    PF - Autônomo   \n",
       "2  2012      PF  AC                PF - Empregado de empresa privada   \n",
       "3  2012      PF  AC  PF - Empregado de entidades sem fins lucrativos   \n",
       "4  2012      PF  AC                                  PF - Empresário   \n",
       "\n",
       "  cnae_secao  ativo_problematico Estado  \n",
       "0          -         11448387.97   Acre  \n",
       "1          -          8955205.34   Acre  \n",
       "2          -          6786123.20   Acre  \n",
       "3          -            21911.72   Acre  \n",
       "4          -         27433879.37   Acre  "
      ]
     },
     "execution_count": 13,
     "metadata": {},
     "output_type": "execute_result"
    }
   ],
   "source": [
    "df_total.head(5)"
   ]
  },
  {
   "cell_type": "code",
   "execution_count": 14,
   "id": "40f362a2-7162-446b-916c-d716870f34b4",
   "metadata": {
    "tags": []
   },
   "outputs": [
    {
     "data": {
      "text/html": [
       "<div>\n",
       "<style scoped>\n",
       "    .dataframe tbody tr th:only-of-type {\n",
       "        vertical-align: middle;\n",
       "    }\n",
       "\n",
       "    .dataframe tbody tr th {\n",
       "        vertical-align: top;\n",
       "    }\n",
       "\n",
       "    .dataframe thead th {\n",
       "        text-align: right;\n",
       "    }\n",
       "</style>\n",
       "<table border=\"1\" class=\"dataframe\">\n",
       "  <thead>\n",
       "    <tr style=\"text-align: right;\">\n",
       "      <th></th>\n",
       "      <th>Valor</th>\n",
       "      <th>Unidade da Federação</th>\n",
       "      <th>Ano</th>\n",
       "    </tr>\n",
       "  </thead>\n",
       "  <tbody>\n",
       "    <tr>\n",
       "      <th>0</th>\n",
       "      <td>Valor</td>\n",
       "      <td>Unidade da Federação</td>\n",
       "      <td>Ano</td>\n",
       "    </tr>\n",
       "    <tr>\n",
       "      <th>1</th>\n",
       "      <td>1581196</td>\n",
       "      <td>Rondônia</td>\n",
       "      <td>2022</td>\n",
       "    </tr>\n",
       "    <tr>\n",
       "      <th>2</th>\n",
       "      <td>830018</td>\n",
       "      <td>Acre</td>\n",
       "      <td>2022</td>\n",
       "    </tr>\n",
       "    <tr>\n",
       "      <th>3</th>\n",
       "      <td>3941613</td>\n",
       "      <td>Amazonas</td>\n",
       "      <td>2022</td>\n",
       "    </tr>\n",
       "    <tr>\n",
       "      <th>4</th>\n",
       "      <td>636707</td>\n",
       "      <td>Roraima</td>\n",
       "      <td>2022</td>\n",
       "    </tr>\n",
       "  </tbody>\n",
       "</table>\n",
       "</div>"
      ],
      "text/plain": [
       "0    Valor  Unidade da Federação   Ano\n",
       "0    Valor  Unidade da Federação   Ano\n",
       "1  1581196              Rondônia  2022\n",
       "2   830018                  Acre  2022\n",
       "3  3941613              Amazonas  2022\n",
       "4   636707               Roraima  2022"
      ]
     },
     "execution_count": 14,
     "metadata": {},
     "output_type": "execute_result"
    }
   ],
   "source": [
    "populacao_estados.head(5)"
   ]
  },
  {
   "cell_type": "code",
   "execution_count": 15,
   "id": "e22eb1b0-0d6d-4829-bab9-5a6a52fbcf00",
   "metadata": {
    "tags": []
   },
   "outputs": [],
   "source": [
    "df_total = pd.merge(df_total,\n",
    "                    populacao_estados,\n",
    "                   right_on = \"Unidade da Federação\",\n",
    "                   left_on = \"Estado\",\n",
    "                   how = \"inner\")"
   ]
  },
  {
   "cell_type": "code",
   "execution_count": 16,
   "id": "3832e6c8-3b25-422b-97ff-91a7945131cf",
   "metadata": {
    "tags": []
   },
   "outputs": [
    {
     "data": {
      "text/html": [
       "<div>\n",
       "<style scoped>\n",
       "    .dataframe tbody tr th:only-of-type {\n",
       "        vertical-align: middle;\n",
       "    }\n",
       "\n",
       "    .dataframe tbody tr th {\n",
       "        vertical-align: top;\n",
       "    }\n",
       "\n",
       "    .dataframe thead th {\n",
       "        text-align: right;\n",
       "    }\n",
       "</style>\n",
       "<table border=\"1\" class=\"dataframe\">\n",
       "  <thead>\n",
       "    <tr style=\"text-align: right;\">\n",
       "      <th></th>\n",
       "      <th>ano</th>\n",
       "      <th>cliente</th>\n",
       "      <th>uf</th>\n",
       "      <th>ocupacao</th>\n",
       "      <th>cnae_secao</th>\n",
       "      <th>ativo_problematico</th>\n",
       "      <th>Estado</th>\n",
       "      <th>Valor</th>\n",
       "      <th>Unidade da Federação</th>\n",
       "      <th>Ano</th>\n",
       "    </tr>\n",
       "  </thead>\n",
       "  <tbody>\n",
       "    <tr>\n",
       "      <th>0</th>\n",
       "      <td>2012</td>\n",
       "      <td>PF</td>\n",
       "      <td>AC</td>\n",
       "      <td>PF - Aposentado/pensionista</td>\n",
       "      <td>-</td>\n",
       "      <td>11448387.97</td>\n",
       "      <td>Acre</td>\n",
       "      <td>830018</td>\n",
       "      <td>Acre</td>\n",
       "      <td>2022</td>\n",
       "    </tr>\n",
       "    <tr>\n",
       "      <th>1</th>\n",
       "      <td>2012</td>\n",
       "      <td>PF</td>\n",
       "      <td>AC</td>\n",
       "      <td>PF - Autônomo</td>\n",
       "      <td>-</td>\n",
       "      <td>8955205.34</td>\n",
       "      <td>Acre</td>\n",
       "      <td>830018</td>\n",
       "      <td>Acre</td>\n",
       "      <td>2022</td>\n",
       "    </tr>\n",
       "    <tr>\n",
       "      <th>2</th>\n",
       "      <td>2012</td>\n",
       "      <td>PF</td>\n",
       "      <td>AC</td>\n",
       "      <td>PF - Empregado de empresa privada</td>\n",
       "      <td>-</td>\n",
       "      <td>6786123.20</td>\n",
       "      <td>Acre</td>\n",
       "      <td>830018</td>\n",
       "      <td>Acre</td>\n",
       "      <td>2022</td>\n",
       "    </tr>\n",
       "    <tr>\n",
       "      <th>3</th>\n",
       "      <td>2012</td>\n",
       "      <td>PF</td>\n",
       "      <td>AC</td>\n",
       "      <td>PF - Empregado de entidades sem fins lucrativos</td>\n",
       "      <td>-</td>\n",
       "      <td>21911.72</td>\n",
       "      <td>Acre</td>\n",
       "      <td>830018</td>\n",
       "      <td>Acre</td>\n",
       "      <td>2022</td>\n",
       "    </tr>\n",
       "    <tr>\n",
       "      <th>4</th>\n",
       "      <td>2012</td>\n",
       "      <td>PF</td>\n",
       "      <td>AC</td>\n",
       "      <td>PF - Empresário</td>\n",
       "      <td>-</td>\n",
       "      <td>27433879.37</td>\n",
       "      <td>Acre</td>\n",
       "      <td>830018</td>\n",
       "      <td>Acre</td>\n",
       "      <td>2022</td>\n",
       "    </tr>\n",
       "  </tbody>\n",
       "</table>\n",
       "</div>"
      ],
      "text/plain": [
       "    ano cliente  uf                                         ocupacao  \\\n",
       "0  2012      PF  AC                      PF - Aposentado/pensionista   \n",
       "1  2012      PF  AC                                    PF - Autônomo   \n",
       "2  2012      PF  AC                PF - Empregado de empresa privada   \n",
       "3  2012      PF  AC  PF - Empregado de entidades sem fins lucrativos   \n",
       "4  2012      PF  AC                                  PF - Empresário   \n",
       "\n",
       "  cnae_secao  ativo_problematico Estado   Valor Unidade da Federação   Ano  \n",
       "0          -         11448387.97   Acre  830018                 Acre  2022  \n",
       "1          -          8955205.34   Acre  830018                 Acre  2022  \n",
       "2          -          6786123.20   Acre  830018                 Acre  2022  \n",
       "3          -            21911.72   Acre  830018                 Acre  2022  \n",
       "4          -         27433879.37   Acre  830018                 Acre  2022  "
      ]
     },
     "execution_count": 16,
     "metadata": {},
     "output_type": "execute_result"
    }
   ],
   "source": [
    "df_total.head(5)"
   ]
  },
  {
   "cell_type": "code",
   "execution_count": 17,
   "id": "3d79258e-b095-4791-99af-fe3ace1c98ae",
   "metadata": {
    "tags": []
   },
   "outputs": [],
   "source": [
    "df_total['Estado'] = df_total['uf'].map(uf_to_state)\n",
    "df_total['Estado'] = df_total['Estado'].str.upper() "
   ]
  },
  {
   "cell_type": "code",
   "execution_count": 18,
   "id": "4a30f87f-db45-4b88-97b7-65a869314f3b",
   "metadata": {
    "tags": []
   },
   "outputs": [],
   "source": [
    "df_total['data'] = pd.to_datetime(df_total['ano'], format=\"%Y\")"
   ]
  },
  {
   "cell_type": "code",
   "execution_count": 19,
   "id": "bc7aa4e5-2ba8-4a9d-ac29-81cf104aafe5",
   "metadata": {
    "tags": []
   },
   "outputs": [
    {
     "name": "stderr",
     "output_type": "stream",
     "text": [
      "/Users/brunamoura/anaconda3/lib/python3.11/site-packages/deflatebr/deflate.py:90: FutureWarning: Series.__getitem__ treating keys as positions is deprecated. In a future version, integer keys will always be treated as labels (consistent with DataFrame behavior). To access a value by position, use `ser.iloc[pos]`\n",
      "  df['deflated'] = df[['nom_values', 'VALVALOR']].apply(lambda x: ((real_indx/x[1]) * x[0])[0], axis=1)\n"
     ]
    }
   ],
   "source": [
    "df_total['ativo_problematico_deflacionado'] = dbr.deflate(nominal_values=df_total['ativo_problematico'], nominal_dates=df_total['data'], real_date='2022-12')"
   ]
  },
  {
   "cell_type": "code",
   "execution_count": 20,
   "id": "fd5790f2-2e4e-4ebb-a2df-a227748dd32f",
   "metadata": {
    "tags": []
   },
   "outputs": [
    {
     "data": {
      "text/html": [
       "<div>\n",
       "<style scoped>\n",
       "    .dataframe tbody tr th:only-of-type {\n",
       "        vertical-align: middle;\n",
       "    }\n",
       "\n",
       "    .dataframe tbody tr th {\n",
       "        vertical-align: top;\n",
       "    }\n",
       "\n",
       "    .dataframe thead th {\n",
       "        text-align: right;\n",
       "    }\n",
       "</style>\n",
       "<table border=\"1\" class=\"dataframe\">\n",
       "  <thead>\n",
       "    <tr style=\"text-align: right;\">\n",
       "      <th></th>\n",
       "      <th>ano</th>\n",
       "      <th>cliente</th>\n",
       "      <th>uf</th>\n",
       "      <th>ocupacao</th>\n",
       "      <th>cnae_secao</th>\n",
       "      <th>ativo_problematico</th>\n",
       "      <th>Estado</th>\n",
       "      <th>Valor</th>\n",
       "      <th>Unidade da Federação</th>\n",
       "      <th>Ano</th>\n",
       "      <th>data</th>\n",
       "      <th>ativo_problematico_deflacionado</th>\n",
       "    </tr>\n",
       "  </thead>\n",
       "  <tbody>\n",
       "    <tr>\n",
       "      <th>0</th>\n",
       "      <td>2012</td>\n",
       "      <td>PF</td>\n",
       "      <td>AC</td>\n",
       "      <td>PF - Aposentado/pensionista</td>\n",
       "      <td>-</td>\n",
       "      <td>11448387.97</td>\n",
       "      <td>ACRE</td>\n",
       "      <td>830018</td>\n",
       "      <td>Acre</td>\n",
       "      <td>2022</td>\n",
       "      <td>2012-01-01</td>\n",
       "      <td>21775491.61</td>\n",
       "    </tr>\n",
       "    <tr>\n",
       "      <th>1</th>\n",
       "      <td>2012</td>\n",
       "      <td>PF</td>\n",
       "      <td>AC</td>\n",
       "      <td>PF - Autônomo</td>\n",
       "      <td>-</td>\n",
       "      <td>8955205.34</td>\n",
       "      <td>ACRE</td>\n",
       "      <td>830018</td>\n",
       "      <td>Acre</td>\n",
       "      <td>2022</td>\n",
       "      <td>2012-01-01</td>\n",
       "      <td>17033315.02</td>\n",
       "    </tr>\n",
       "    <tr>\n",
       "      <th>2</th>\n",
       "      <td>2012</td>\n",
       "      <td>PF</td>\n",
       "      <td>AC</td>\n",
       "      <td>PF - Empregado de empresa privada</td>\n",
       "      <td>-</td>\n",
       "      <td>6786123.20</td>\n",
       "      <td>ACRE</td>\n",
       "      <td>830018</td>\n",
       "      <td>Acre</td>\n",
       "      <td>2022</td>\n",
       "      <td>2012-01-01</td>\n",
       "      <td>12907596.18</td>\n",
       "    </tr>\n",
       "    <tr>\n",
       "      <th>3</th>\n",
       "      <td>2012</td>\n",
       "      <td>PF</td>\n",
       "      <td>AC</td>\n",
       "      <td>PF - Empregado de entidades sem fins lucrativos</td>\n",
       "      <td>-</td>\n",
       "      <td>21911.72</td>\n",
       "      <td>ACRE</td>\n",
       "      <td>830018</td>\n",
       "      <td>Acre</td>\n",
       "      <td>2022</td>\n",
       "      <td>2012-01-01</td>\n",
       "      <td>41677.35</td>\n",
       "    </tr>\n",
       "    <tr>\n",
       "      <th>4</th>\n",
       "      <td>2012</td>\n",
       "      <td>PF</td>\n",
       "      <td>AC</td>\n",
       "      <td>PF - Empresário</td>\n",
       "      <td>-</td>\n",
       "      <td>27433879.37</td>\n",
       "      <td>ACRE</td>\n",
       "      <td>830018</td>\n",
       "      <td>Acre</td>\n",
       "      <td>2022</td>\n",
       "      <td>2012-01-01</td>\n",
       "      <td>52180814.60</td>\n",
       "    </tr>\n",
       "  </tbody>\n",
       "</table>\n",
       "</div>"
      ],
      "text/plain": [
       "    ano cliente  uf                                         ocupacao  \\\n",
       "0  2012      PF  AC                      PF - Aposentado/pensionista   \n",
       "1  2012      PF  AC                                    PF - Autônomo   \n",
       "2  2012      PF  AC                PF - Empregado de empresa privada   \n",
       "3  2012      PF  AC  PF - Empregado de entidades sem fins lucrativos   \n",
       "4  2012      PF  AC                                  PF - Empresário   \n",
       "\n",
       "  cnae_secao  ativo_problematico Estado   Valor Unidade da Federação   Ano  \\\n",
       "0          -         11448387.97   ACRE  830018                 Acre  2022   \n",
       "1          -          8955205.34   ACRE  830018                 Acre  2022   \n",
       "2          -          6786123.20   ACRE  830018                 Acre  2022   \n",
       "3          -            21911.72   ACRE  830018                 Acre  2022   \n",
       "4          -         27433879.37   ACRE  830018                 Acre  2022   \n",
       "\n",
       "        data  ativo_problematico_deflacionado  \n",
       "0 2012-01-01                      21775491.61  \n",
       "1 2012-01-01                      17033315.02  \n",
       "2 2012-01-01                      12907596.18  \n",
       "3 2012-01-01                         41677.35  \n",
       "4 2012-01-01                      52180814.60  "
      ]
     },
     "execution_count": 20,
     "metadata": {},
     "output_type": "execute_result"
    }
   ],
   "source": [
    "pd.set_option('display.float_format', '{:.2f}'.format)\n",
    "df_total.head(5)"
   ]
  },
  {
   "cell_type": "code",
   "execution_count": 21,
   "id": "5f703b04-a19a-4a2e-8cc9-869118a2dd28",
   "metadata": {
    "tags": []
   },
   "outputs": [],
   "source": [
    "df_ocupacao_pf_ativoproblematico = df_total[df_total['cliente'] == \"PF\"]"
   ]
  },
  {
   "cell_type": "code",
   "execution_count": 22,
   "id": "6f3d688d-1175-4320-8f2d-511021ab2528",
   "metadata": {
    "tags": []
   },
   "outputs": [
    {
     "data": {
      "text/html": [
       "<div>\n",
       "<style scoped>\n",
       "    .dataframe tbody tr th:only-of-type {\n",
       "        vertical-align: middle;\n",
       "    }\n",
       "\n",
       "    .dataframe tbody tr th {\n",
       "        vertical-align: top;\n",
       "    }\n",
       "\n",
       "    .dataframe thead th {\n",
       "        text-align: right;\n",
       "    }\n",
       "</style>\n",
       "<table border=\"1\" class=\"dataframe\">\n",
       "  <thead>\n",
       "    <tr style=\"text-align: right;\">\n",
       "      <th></th>\n",
       "      <th>ano</th>\n",
       "      <th>cliente</th>\n",
       "      <th>uf</th>\n",
       "      <th>ocupacao</th>\n",
       "      <th>cnae_secao</th>\n",
       "      <th>ativo_problematico</th>\n",
       "      <th>Estado</th>\n",
       "      <th>Valor</th>\n",
       "      <th>Unidade da Federação</th>\n",
       "      <th>Ano</th>\n",
       "      <th>data</th>\n",
       "      <th>ativo_problematico_deflacionado</th>\n",
       "    </tr>\n",
       "  </thead>\n",
       "  <tbody>\n",
       "    <tr>\n",
       "      <th>0</th>\n",
       "      <td>2012</td>\n",
       "      <td>PF</td>\n",
       "      <td>AC</td>\n",
       "      <td>PF - Aposentado/pensionista</td>\n",
       "      <td>-</td>\n",
       "      <td>11448387.97</td>\n",
       "      <td>ACRE</td>\n",
       "      <td>830018</td>\n",
       "      <td>Acre</td>\n",
       "      <td>2022</td>\n",
       "      <td>2012-01-01</td>\n",
       "      <td>21775491.61</td>\n",
       "    </tr>\n",
       "    <tr>\n",
       "      <th>1</th>\n",
       "      <td>2012</td>\n",
       "      <td>PF</td>\n",
       "      <td>AC</td>\n",
       "      <td>PF - Autônomo</td>\n",
       "      <td>-</td>\n",
       "      <td>8955205.34</td>\n",
       "      <td>ACRE</td>\n",
       "      <td>830018</td>\n",
       "      <td>Acre</td>\n",
       "      <td>2022</td>\n",
       "      <td>2012-01-01</td>\n",
       "      <td>17033315.02</td>\n",
       "    </tr>\n",
       "    <tr>\n",
       "      <th>2</th>\n",
       "      <td>2012</td>\n",
       "      <td>PF</td>\n",
       "      <td>AC</td>\n",
       "      <td>PF - Empregado de empresa privada</td>\n",
       "      <td>-</td>\n",
       "      <td>6786123.20</td>\n",
       "      <td>ACRE</td>\n",
       "      <td>830018</td>\n",
       "      <td>Acre</td>\n",
       "      <td>2022</td>\n",
       "      <td>2012-01-01</td>\n",
       "      <td>12907596.18</td>\n",
       "    </tr>\n",
       "  </tbody>\n",
       "</table>\n",
       "</div>"
      ],
      "text/plain": [
       "    ano cliente  uf                           ocupacao cnae_secao  \\\n",
       "0  2012      PF  AC        PF - Aposentado/pensionista          -   \n",
       "1  2012      PF  AC                      PF - Autônomo          -   \n",
       "2  2012      PF  AC  PF - Empregado de empresa privada          -   \n",
       "\n",
       "   ativo_problematico Estado   Valor Unidade da Federação   Ano       data  \\\n",
       "0         11448387.97   ACRE  830018                 Acre  2022 2012-01-01   \n",
       "1          8955205.34   ACRE  830018                 Acre  2022 2012-01-01   \n",
       "2          6786123.20   ACRE  830018                 Acre  2022 2012-01-01   \n",
       "\n",
       "   ativo_problematico_deflacionado  \n",
       "0                      21775491.61  \n",
       "1                      17033315.02  \n",
       "2                      12907596.18  "
      ]
     },
     "execution_count": 22,
     "metadata": {},
     "output_type": "execute_result"
    }
   ],
   "source": [
    "df_ocupacao_pf_ativoproblematico.head(3)"
   ]
  },
  {
   "cell_type": "code",
   "execution_count": 23,
   "id": "8e839099-e643-4b89-96f0-d2e2f3cba946",
   "metadata": {
    "tags": []
   },
   "outputs": [],
   "source": [
    "url = \"https://raw.githubusercontent.com/jonates/opendata/master/arquivos_geoespaciais/unidades_da_federacao.json\" #Temos que dar os créditos\n",
    "response = requests.get(url)\n",
    "geojson_data = response.json()"
   ]
  },
  {
   "cell_type": "code",
   "execution_count": 24,
   "id": "8c940519-eeb3-403a-8581-989adc1457df",
   "metadata": {
    "tags": []
   },
   "outputs": [
    {
     "data": {
      "text/plain": [
       "Index(['ano', 'cliente', 'uf', 'ocupacao', 'cnae_secao', 'ativo_problematico',\n",
       "       'Estado', 'Valor', 'Unidade da Federação', 'Ano', 'data',\n",
       "       'ativo_problematico_deflacionado'],\n",
       "      dtype='object')"
      ]
     },
     "execution_count": 24,
     "metadata": {},
     "output_type": "execute_result"
    }
   ],
   "source": [
    "df_ocupacao_pf_ativoproblematico.columns"
   ]
  },
  {
   "cell_type": "code",
   "execution_count": 25,
   "id": "a3537987-a15a-4519-8f14-aa4a1f81f556",
   "metadata": {
    "tags": []
   },
   "outputs": [],
   "source": [
    "df_ocupacao_pf_ativoproblematico = df_ocupacao_pf_ativoproblematico.drop(columns = ['cliente', 'uf', 'cnae_secao', 'ativo_problematico', 'Ano',\n",
    "                                                 'data','Unidade da Federação'])"
   ]
  },
  {
   "cell_type": "code",
   "execution_count": 26,
   "id": "dbcfd744-8dec-4990-aee0-3cae3fd32409",
   "metadata": {
    "tags": []
   },
   "outputs": [],
   "source": [
    "df_ocupacao_pf_ativoproblematico['Valor'] = df_ocupacao_pf_ativoproblematico['Valor'].astype(float)"
   ]
  },
  {
   "cell_type": "code",
   "execution_count": 27,
   "id": "687329fe-6e25-45ce-81f8-5800cb0b2a2e",
   "metadata": {
    "tags": []
   },
   "outputs": [],
   "source": [
    "df_ocupacao_pf_ativoproblematico['ativo_problematico/pop'] = df_ocupacao_pf_ativoproblematico['ativo_problematico_deflacionado'] / df_ocupacao_pf_ativoproblematico['Valor']"
   ]
  },
  {
   "cell_type": "code",
   "execution_count": 28,
   "id": "ed07ff15-6c0d-439a-be87-6834c1bba398",
   "metadata": {
    "tags": []
   },
   "outputs": [],
   "source": [
    "df_ocupacao_pf_ativoproblematico['ocupacao']=df_ocupacao_pf_ativoproblematico['ocupacao'].str.replace('PF - ','')"
   ]
  },
  {
   "cell_type": "code",
   "execution_count": 29,
   "id": "8ff3c946-d0e8-40f7-a361-f32d21af5276",
   "metadata": {
    "tags": []
   },
   "outputs": [
    {
     "data": {
      "text/html": [
       "<div>\n",
       "<style scoped>\n",
       "    .dataframe tbody tr th:only-of-type {\n",
       "        vertical-align: middle;\n",
       "    }\n",
       "\n",
       "    .dataframe tbody tr th {\n",
       "        vertical-align: top;\n",
       "    }\n",
       "\n",
       "    .dataframe thead th {\n",
       "        text-align: right;\n",
       "    }\n",
       "</style>\n",
       "<table border=\"1\" class=\"dataframe\">\n",
       "  <thead>\n",
       "    <tr style=\"text-align: right;\">\n",
       "      <th></th>\n",
       "      <th>ano</th>\n",
       "      <th>ocupacao</th>\n",
       "      <th>Estado</th>\n",
       "      <th>Valor</th>\n",
       "      <th>ativo_problematico_deflacionado</th>\n",
       "      <th>ativo_problematico/pop</th>\n",
       "    </tr>\n",
       "  </thead>\n",
       "  <tbody>\n",
       "    <tr>\n",
       "      <th>0</th>\n",
       "      <td>2012</td>\n",
       "      <td>Aposentado/pensionista</td>\n",
       "      <td>ACRE</td>\n",
       "      <td>830018.00</td>\n",
       "      <td>21775491.61</td>\n",
       "      <td>26.23</td>\n",
       "    </tr>\n",
       "    <tr>\n",
       "      <th>1</th>\n",
       "      <td>2012</td>\n",
       "      <td>Autônomo</td>\n",
       "      <td>ACRE</td>\n",
       "      <td>830018.00</td>\n",
       "      <td>17033315.02</td>\n",
       "      <td>20.52</td>\n",
       "    </tr>\n",
       "    <tr>\n",
       "      <th>2</th>\n",
       "      <td>2012</td>\n",
       "      <td>Empregado de empresa privada</td>\n",
       "      <td>ACRE</td>\n",
       "      <td>830018.00</td>\n",
       "      <td>12907596.18</td>\n",
       "      <td>15.55</td>\n",
       "    </tr>\n",
       "  </tbody>\n",
       "</table>\n",
       "</div>"
      ],
      "text/plain": [
       "    ano                      ocupacao Estado     Valor  \\\n",
       "0  2012        Aposentado/pensionista   ACRE 830018.00   \n",
       "1  2012                      Autônomo   ACRE 830018.00   \n",
       "2  2012  Empregado de empresa privada   ACRE 830018.00   \n",
       "\n",
       "   ativo_problematico_deflacionado  ativo_problematico/pop  \n",
       "0                      21775491.61                   26.23  \n",
       "1                      17033315.02                   20.52  \n",
       "2                      12907596.18                   15.55  "
      ]
     },
     "execution_count": 29,
     "metadata": {},
     "output_type": "execute_result"
    }
   ],
   "source": [
    "df_ocupacao_pf_ativoproblematico.head(3)"
   ]
  },
  {
   "cell_type": "code",
   "execution_count": 36,
   "id": "2ef2f3bb-d38a-4c12-9bd9-fdb80d28a925",
   "metadata": {
    "tags": []
   },
   "outputs": [],
   "source": [
    "df_ocupacao_pf_ativoproblematico.to_csv(\"df_ocupacao_pf_ativoproblematico.csv\")"
   ]
  },
  {
   "cell_type": "code",
   "execution_count": 35,
   "id": "9a7ee6b5-ff93-4d7a-ae49-ddf914a3f030",
   "metadata": {
    "tags": []
   },
   "outputs": [
    {
     "data": {
      "text/html": [
       "\n",
       "        <iframe\n",
       "            width=\"100%\"\n",
       "            height=\"650\"\n",
       "            src=\"http://127.0.0.1:8050/\"\n",
       "            frameborder=\"0\"\n",
       "            allowfullscreen\n",
       "            \n",
       "        ></iframe>\n",
       "        "
      ],
      "text/plain": [
       "<IPython.lib.display.IFrame at 0x13f462310>"
      ]
     },
     "metadata": {},
     "output_type": "display_data"
    }
   ],
   "source": [
    "# app = Dash(__name__)\n",
    "\n",
    "# app.layout = html.Div([\n",
    "#     html.H1('Análise do Ativo Problemático'),\n",
    "    \n",
    "#     html.Div([\n",
    "#         html.Label('Selecione uma ocupação:'),\n",
    "#         dcc.Dropdown(\n",
    "#             id='ocupacao-dropdown',\n",
    "#             options=[{'label': i, 'value': i} for i in df_ocupacao_pf_ativoproblematico['ocupacao'].unique()],\n",
    "#             value=df_ocupacao_pf_ativoproblematico['ocupacao'].iloc[0]\n",
    "#         ),\n",
    "#     ]),\n",
    "    \n",
    "#     dcc.Graph(id='choropleth-map')\n",
    "# ])\n",
    "\n",
    "# @app.callback(\n",
    "#     Output('choropleth-map', 'figure'),\n",
    "#     [Input('ocupacao-dropdown', 'value')]\n",
    "# )\n",
    "# def update_choropleth(ocupacao_value):\n",
    "    \n",
    "#     filtered_df = df_ocupacao_pf_ativoproblematico[df_ocupacao_pf_ativoproblematico['ocupacao'] == ocupacao_value]\n",
    "    \n",
    "#     fig = px.choropleth_mapbox(filtered_df, \n",
    "#                                geojson=geojson_data, \n",
    "#                                locations='Estado', \n",
    "#                                color='ativo_problematico/pop',\n",
    "#                                color_continuous_scale=\"sunsetdark\",\n",
    "#                                range_color=(0, max(filtered_df['ativo_problematico/pop'])),\n",
    "#                                animation_frame='ano', \n",
    "#                                mapbox_style=\"open-street-map\",\n",
    "#                                zoom=3, \n",
    "#                                center={\"lat\": -17.14, \"lon\": -57.33},\n",
    "#                                opacity=1,\n",
    "#                                labels={'ativo_problematico/pop':'Carteira Ativa',\n",
    "#                                        'uf': 'Unidade da Federação do Brasil'},\n",
    "#                                featureidkey=\"properties.NM_ESTADO\")\n",
    "    \n",
    "#     fig.update_layout(margin={'r':0,'t':0,'l':0, 'b':0})\n",
    "    \n",
    "#     return fig\n",
    "\n",
    "# if __name__ == '__main__':\n",
    "#     app.run_server(debug=True)"
   ]
  },
  {
   "cell_type": "code",
   "execution_count": 37,
   "id": "b7ff2d26-57ca-4ccf-99c3-2b13e22d843f",
   "metadata": {},
   "outputs": [],
   "source": [
    "df_cnae_pj_ativoproblematico = df_total[df_total['cliente'] == \"PJ\"]"
   ]
  },
  {
   "cell_type": "code",
   "execution_count": 38,
   "id": "792626a1-bdad-4b14-a308-95668ac5f9c3",
   "metadata": {
    "tags": []
   },
   "outputs": [
    {
     "data": {
      "text/html": [
       "<div>\n",
       "<style scoped>\n",
       "    .dataframe tbody tr th:only-of-type {\n",
       "        vertical-align: middle;\n",
       "    }\n",
       "\n",
       "    .dataframe tbody tr th {\n",
       "        vertical-align: top;\n",
       "    }\n",
       "\n",
       "    .dataframe thead th {\n",
       "        text-align: right;\n",
       "    }\n",
       "</style>\n",
       "<table border=\"1\" class=\"dataframe\">\n",
       "  <thead>\n",
       "    <tr style=\"text-align: right;\">\n",
       "      <th></th>\n",
       "      <th>ano</th>\n",
       "      <th>cliente</th>\n",
       "      <th>uf</th>\n",
       "      <th>ocupacao</th>\n",
       "      <th>cnae_secao</th>\n",
       "      <th>ativo_problematico</th>\n",
       "      <th>Estado</th>\n",
       "      <th>Valor</th>\n",
       "      <th>Unidade da Federação</th>\n",
       "      <th>Ano</th>\n",
       "      <th>data</th>\n",
       "      <th>ativo_problematico_deflacionado</th>\n",
       "    </tr>\n",
       "  </thead>\n",
       "  <tbody>\n",
       "    <tr>\n",
       "      <th>7</th>\n",
       "      <td>2012</td>\n",
       "      <td>PJ</td>\n",
       "      <td>AC</td>\n",
       "      <td>-</td>\n",
       "      <td>PJ - Administração pública, defesa e seguridad...</td>\n",
       "      <td>287.33</td>\n",
       "      <td>ACRE</td>\n",
       "      <td>830018</td>\n",
       "      <td>Acre</td>\n",
       "      <td>2022</td>\n",
       "      <td>2012-01-01</td>\n",
       "      <td>546.52</td>\n",
       "    </tr>\n",
       "    <tr>\n",
       "      <th>8</th>\n",
       "      <td>2012</td>\n",
       "      <td>PJ</td>\n",
       "      <td>AC</td>\n",
       "      <td>-</td>\n",
       "      <td>PJ - Agricultura, pecuária, produção florestal...</td>\n",
       "      <td>635844.18</td>\n",
       "      <td>ACRE</td>\n",
       "      <td>830018</td>\n",
       "      <td>Acre</td>\n",
       "      <td>2022</td>\n",
       "      <td>2012-01-01</td>\n",
       "      <td>1209412.16</td>\n",
       "    </tr>\n",
       "    <tr>\n",
       "      <th>9</th>\n",
       "      <td>2012</td>\n",
       "      <td>PJ</td>\n",
       "      <td>AC</td>\n",
       "      <td>-</td>\n",
       "      <td>PJ - Alojamento e alimentação</td>\n",
       "      <td>3776846.30</td>\n",
       "      <td>ACRE</td>\n",
       "      <td>830018</td>\n",
       "      <td>Acre</td>\n",
       "      <td>2022</td>\n",
       "      <td>2012-01-01</td>\n",
       "      <td>7183778.64</td>\n",
       "    </tr>\n",
       "  </tbody>\n",
       "</table>\n",
       "</div>"
      ],
      "text/plain": [
       "    ano cliente  uf ocupacao  \\\n",
       "7  2012      PJ  AC        -   \n",
       "8  2012      PJ  AC        -   \n",
       "9  2012      PJ  AC        -   \n",
       "\n",
       "                                          cnae_secao  ativo_problematico  \\\n",
       "7  PJ - Administração pública, defesa e seguridad...              287.33   \n",
       "8  PJ - Agricultura, pecuária, produção florestal...           635844.18   \n",
       "9                      PJ - Alojamento e alimentação          3776846.30   \n",
       "\n",
       "  Estado   Valor Unidade da Federação   Ano       data  \\\n",
       "7   ACRE  830018                 Acre  2022 2012-01-01   \n",
       "8   ACRE  830018                 Acre  2022 2012-01-01   \n",
       "9   ACRE  830018                 Acre  2022 2012-01-01   \n",
       "\n",
       "   ativo_problematico_deflacionado  \n",
       "7                           546.52  \n",
       "8                       1209412.16  \n",
       "9                       7183778.64  "
      ]
     },
     "execution_count": 38,
     "metadata": {},
     "output_type": "execute_result"
    }
   ],
   "source": [
    "df_cnae_pj_ativoproblematico.head(3)"
   ]
  },
  {
   "cell_type": "code",
   "execution_count": 39,
   "id": "239c0b24-4fb8-4dd7-9cec-673357ed7a32",
   "metadata": {
    "tags": []
   },
   "outputs": [
    {
     "data": {
      "text/plain": [
       "Index(['ano', 'cliente', 'uf', 'ocupacao', 'cnae_secao', 'ativo_problematico',\n",
       "       'Estado', 'Valor', 'Unidade da Federação', 'Ano', 'data',\n",
       "       'ativo_problematico_deflacionado'],\n",
       "      dtype='object')"
      ]
     },
     "execution_count": 39,
     "metadata": {},
     "output_type": "execute_result"
    }
   ],
   "source": [
    "df_cnae_pj_ativoproblematico.columns"
   ]
  },
  {
   "cell_type": "code",
   "execution_count": 40,
   "id": "b54b5a0c-8bd6-4818-b9e3-99b4651a18cd",
   "metadata": {
    "tags": []
   },
   "outputs": [],
   "source": [
    "df_cnae_pj_ativoproblematico = df_cnae_pj_ativoproblematico.drop(columns = ['cliente', 'uf', 'ocupacao', 'ativo_problematico', 'Unidade da Federação', 'Ano',\n",
    "                                                 'data'])"
   ]
  },
  {
   "cell_type": "code",
   "execution_count": 41,
   "id": "3bea4e97-66ba-4853-b2c2-724ee44e6ef5",
   "metadata": {
    "tags": []
   },
   "outputs": [
    {
     "data": {
      "text/html": [
       "<div>\n",
       "<style scoped>\n",
       "    .dataframe tbody tr th:only-of-type {\n",
       "        vertical-align: middle;\n",
       "    }\n",
       "\n",
       "    .dataframe tbody tr th {\n",
       "        vertical-align: top;\n",
       "    }\n",
       "\n",
       "    .dataframe thead th {\n",
       "        text-align: right;\n",
       "    }\n",
       "</style>\n",
       "<table border=\"1\" class=\"dataframe\">\n",
       "  <thead>\n",
       "    <tr style=\"text-align: right;\">\n",
       "      <th></th>\n",
       "      <th>ano</th>\n",
       "      <th>cnae_secao</th>\n",
       "      <th>Estado</th>\n",
       "      <th>Valor</th>\n",
       "      <th>ativo_problematico_deflacionado</th>\n",
       "    </tr>\n",
       "  </thead>\n",
       "  <tbody>\n",
       "    <tr>\n",
       "      <th>7</th>\n",
       "      <td>2012</td>\n",
       "      <td>PJ - Administração pública, defesa e seguridad...</td>\n",
       "      <td>ACRE</td>\n",
       "      <td>830018</td>\n",
       "      <td>546.52</td>\n",
       "    </tr>\n",
       "    <tr>\n",
       "      <th>8</th>\n",
       "      <td>2012</td>\n",
       "      <td>PJ - Agricultura, pecuária, produção florestal...</td>\n",
       "      <td>ACRE</td>\n",
       "      <td>830018</td>\n",
       "      <td>1209412.16</td>\n",
       "    </tr>\n",
       "    <tr>\n",
       "      <th>9</th>\n",
       "      <td>2012</td>\n",
       "      <td>PJ - Alojamento e alimentação</td>\n",
       "      <td>ACRE</td>\n",
       "      <td>830018</td>\n",
       "      <td>7183778.64</td>\n",
       "    </tr>\n",
       "    <tr>\n",
       "      <th>10</th>\n",
       "      <td>2012</td>\n",
       "      <td>PJ - Artes, cultura, esporte e recreação</td>\n",
       "      <td>ACRE</td>\n",
       "      <td>830018</td>\n",
       "      <td>890417.99</td>\n",
       "    </tr>\n",
       "    <tr>\n",
       "      <th>11</th>\n",
       "      <td>2012</td>\n",
       "      <td>PJ - Atividades administrativas e serviços com...</td>\n",
       "      <td>ACRE</td>\n",
       "      <td>830018</td>\n",
       "      <td>3991531.14</td>\n",
       "    </tr>\n",
       "  </tbody>\n",
       "</table>\n",
       "</div>"
      ],
      "text/plain": [
       "     ano                                         cnae_secao Estado   Valor  \\\n",
       "7   2012  PJ - Administração pública, defesa e seguridad...   ACRE  830018   \n",
       "8   2012  PJ - Agricultura, pecuária, produção florestal...   ACRE  830018   \n",
       "9   2012                      PJ - Alojamento e alimentação   ACRE  830018   \n",
       "10  2012           PJ - Artes, cultura, esporte e recreação   ACRE  830018   \n",
       "11  2012  PJ - Atividades administrativas e serviços com...   ACRE  830018   \n",
       "\n",
       "    ativo_problematico_deflacionado  \n",
       "7                            546.52  \n",
       "8                        1209412.16  \n",
       "9                        7183778.64  \n",
       "10                        890417.99  \n",
       "11                       3991531.14  "
      ]
     },
     "execution_count": 41,
     "metadata": {},
     "output_type": "execute_result"
    }
   ],
   "source": [
    "df_cnae_pj_ativoproblematico.head(5)"
   ]
  },
  {
   "cell_type": "code",
   "execution_count": 42,
   "id": "0e7617d6-53d0-4bae-b2db-6d6fdbda9f4c",
   "metadata": {
    "tags": []
   },
   "outputs": [],
   "source": [
    "df_cnae_pj_ativoproblematico['Valor'] = df_cnae_pj_ativoproblematico['Valor'].astype(float)"
   ]
  },
  {
   "cell_type": "code",
   "execution_count": 43,
   "id": "8b624326-dbaa-4418-83dc-3ae5e33b1c47",
   "metadata": {
    "tags": []
   },
   "outputs": [],
   "source": [
    "df_cnae_pj_ativoproblematico['ativo_problematico/pop'] = df_cnae_pj_ativoproblematico['ativo_problematico_deflacionado'] / df_cnae_pj_ativoproblematico['Valor']"
   ]
  },
  {
   "cell_type": "code",
   "execution_count": 44,
   "id": "669d26dd-fee8-4da9-8057-c80187498b3e",
   "metadata": {
    "tags": []
   },
   "outputs": [],
   "source": [
    "df_cnae_pj_ativoproblematico['cnae_secao']=df_cnae_pj_ativoproblematico['cnae_secao'].str.replace('PJ - ','')"
   ]
  },
  {
   "cell_type": "code",
   "execution_count": 45,
   "id": "0a666ac8-8462-4c20-8e38-5fb157a8aea6",
   "metadata": {
    "tags": []
   },
   "outputs": [
    {
     "data": {
      "text/html": [
       "<div>\n",
       "<style scoped>\n",
       "    .dataframe tbody tr th:only-of-type {\n",
       "        vertical-align: middle;\n",
       "    }\n",
       "\n",
       "    .dataframe tbody tr th {\n",
       "        vertical-align: top;\n",
       "    }\n",
       "\n",
       "    .dataframe thead th {\n",
       "        text-align: right;\n",
       "    }\n",
       "</style>\n",
       "<table border=\"1\" class=\"dataframe\">\n",
       "  <thead>\n",
       "    <tr style=\"text-align: right;\">\n",
       "      <th></th>\n",
       "      <th>ano</th>\n",
       "      <th>cnae_secao</th>\n",
       "      <th>Estado</th>\n",
       "      <th>Valor</th>\n",
       "      <th>ativo_problematico_deflacionado</th>\n",
       "      <th>ativo_problematico/pop</th>\n",
       "    </tr>\n",
       "  </thead>\n",
       "  <tbody>\n",
       "    <tr>\n",
       "      <th>7</th>\n",
       "      <td>2012</td>\n",
       "      <td>Administração pública, defesa e seguridade social</td>\n",
       "      <td>ACRE</td>\n",
       "      <td>830018.00</td>\n",
       "      <td>546.52</td>\n",
       "      <td>0.00</td>\n",
       "    </tr>\n",
       "    <tr>\n",
       "      <th>8</th>\n",
       "      <td>2012</td>\n",
       "      <td>Agricultura, pecuária, produção florestal, pes...</td>\n",
       "      <td>ACRE</td>\n",
       "      <td>830018.00</td>\n",
       "      <td>1209412.16</td>\n",
       "      <td>1.46</td>\n",
       "    </tr>\n",
       "    <tr>\n",
       "      <th>9</th>\n",
       "      <td>2012</td>\n",
       "      <td>Alojamento e alimentação</td>\n",
       "      <td>ACRE</td>\n",
       "      <td>830018.00</td>\n",
       "      <td>7183778.64</td>\n",
       "      <td>8.65</td>\n",
       "    </tr>\n",
       "    <tr>\n",
       "      <th>10</th>\n",
       "      <td>2012</td>\n",
       "      <td>Artes, cultura, esporte e recreação</td>\n",
       "      <td>ACRE</td>\n",
       "      <td>830018.00</td>\n",
       "      <td>890417.99</td>\n",
       "      <td>1.07</td>\n",
       "    </tr>\n",
       "    <tr>\n",
       "      <th>11</th>\n",
       "      <td>2012</td>\n",
       "      <td>Atividades administrativas e serviços compleme...</td>\n",
       "      <td>ACRE</td>\n",
       "      <td>830018.00</td>\n",
       "      <td>3991531.14</td>\n",
       "      <td>4.81</td>\n",
       "    </tr>\n",
       "  </tbody>\n",
       "</table>\n",
       "</div>"
      ],
      "text/plain": [
       "     ano                                         cnae_secao Estado     Valor  \\\n",
       "7   2012  Administração pública, defesa e seguridade social   ACRE 830018.00   \n",
       "8   2012  Agricultura, pecuária, produção florestal, pes...   ACRE 830018.00   \n",
       "9   2012                           Alojamento e alimentação   ACRE 830018.00   \n",
       "10  2012                Artes, cultura, esporte e recreação   ACRE 830018.00   \n",
       "11  2012  Atividades administrativas e serviços compleme...   ACRE 830018.00   \n",
       "\n",
       "    ativo_problematico_deflacionado  ativo_problematico/pop  \n",
       "7                            546.52                    0.00  \n",
       "8                        1209412.16                    1.46  \n",
       "9                        7183778.64                    8.65  \n",
       "10                        890417.99                    1.07  \n",
       "11                       3991531.14                    4.81  "
      ]
     },
     "execution_count": 45,
     "metadata": {},
     "output_type": "execute_result"
    }
   ],
   "source": [
    "df_cnae_pj_ativoproblematico.head(5)"
   ]
  },
  {
   "cell_type": "code",
   "execution_count": 46,
   "id": "b0833c66-765e-4f96-91e1-8abad59bc2b8",
   "metadata": {
    "tags": []
   },
   "outputs": [],
   "source": [
    "df_cnae_pj_ativoproblematico.to_csv(\"df_cnae_pj_ativoproblematico.csv\")"
   ]
  },
  {
   "cell_type": "code",
   "execution_count": null,
   "id": "940101ba-c6f1-4dff-b2bb-4a4674e1f49b",
   "metadata": {
    "tags": []
   },
   "outputs": [],
   "source": [
    "# app = Dash(__name__)\n",
    "\n",
    "# app.layout = html.Div([\n",
    "#     html.H1('Análise do Ativo Problemático'),\n",
    "    \n",
    "#     html.Div([\n",
    "#         html.Label('Selecione um setor de atuação:'),\n",
    "#         dcc.Dropdown(\n",
    "#             id='cnae-dropdown',\n",
    "#             options=[{'label': i, 'value': i} for i in df_cnae_pj_ativoproblematico['cnae_secao'].unique()],\n",
    "#             value=df_cnae_pj_ativoproblematico['cnae_secao'].iloc[0]\n",
    "#         ),\n",
    "#     ]),\n",
    "    \n",
    "#     dcc.Graph(id='choropleth-map')\n",
    "# ])\n",
    "\n",
    "# @app.callback(\n",
    "#     Output('choropleth-map', 'figure'),\n",
    "#     [Input('cnae-dropdown', 'value')]\n",
    "# )\n",
    "# def update_choropleth(cnae_value):\n",
    "    \n",
    "#     filtered_df = df_cnae_pj_ativoproblematico[df_cnae_pj_ativoproblematico['cnae_secao'] == cnae_value]\n",
    "    \n",
    "#     fig = px.choropleth_mapbox(filtered_df, \n",
    "#                                geojson=geojson_data, \n",
    "#                                locations='Estado', \n",
    "#                                color='ativo_problematico/pop',\n",
    "#                                color_continuous_scale=\"sunsetdark\",\n",
    "#                                range_color=(0, max(filtered_df['ativo_problematico/pop'])),\n",
    "#                                animation_frame='ano', \n",
    "#                                mapbox_style=\"open-street-map\",\n",
    "#                                zoom=3, \n",
    "#                                center={\"lat\": -17.14, \"lon\": -57.33},\n",
    "#                                opacity=1,\n",
    "#                                labels={'ativo_problematico/pop':'Carteira Ativa',\n",
    "#                                        'uf': 'Unidade da Federação do Brasil'},\n",
    "#                                featureidkey=\"properties.NM_ESTADO\")\n",
    "    \n",
    "#     fig.update_layout(margin={'r':0,'t':0,'l':0, 'b':0})\n",
    "    \n",
    "#     return fig\n",
    "\n",
    "# if __name__ == '__main__':\n",
    "#     app.run_server(debug=True)"
   ]
  }
 ],
 "metadata": {
  "kernelspec": {
   "display_name": "Python 3 (ipykernel)",
   "language": "python",
   "name": "python3"
  },
  "language_info": {
   "codemirror_mode": {
    "name": "ipython",
    "version": 3
   },
   "file_extension": ".py",
   "mimetype": "text/x-python",
   "name": "python",
   "nbconvert_exporter": "python",
   "pygments_lexer": "ipython3",
   "version": "3.11.5"
  }
 },
 "nbformat": 4,
 "nbformat_minor": 5
}
