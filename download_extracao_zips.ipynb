{
 "cells": [
  {
   "cell_type": "code",
   "execution_count": 1,
   "id": "c033ca6b-3cbd-4f6d-93e2-bc9ff8fab734",
   "metadata": {
    "tags": []
   },
   "outputs": [],
   "source": [
    "import zipfile\n",
    "import os"
   ]
  },
  {
   "cell_type": "code",
   "execution_count": null,
   "id": "902f92b1-c15c-4e44-bc78-99f8d312964c",
   "metadata": {},
   "outputs": [],
   "source": [
    "#Se você já está com os zips na sua área de trabalho aqui na esquerda, não precisa rodar essa parte novamente\n",
    "\n",
    "import requests\n",
    "\n",
    "# Criar uma lista de anos para os quais você deseja baixar os arquivos\n",
    "anos = list(range(2012, 2024))\n",
    "\n",
    "for ano in anos:\n",
    "    # Construir o URL dinamicamente com base no ano\n",
    "    url = f'https://www.bcb.gov.br/pda/desig/planilha_{ano}.zip'\n",
    "    \n",
    "    # Baixar o arquivo ZIP\n",
    "    r = requests.get(url, allow_redirects=True)\n",
    "\n",
    "    # Especificar o nome do arquivo ZIP para salvar\n",
    "    arquivo_zip = f'planilha_{ano}.zip'\n",
    "\n",
    "    # Salvar o arquivo ZIP\n",
    "    with open(arquivo_zip, 'wb') as f:\n",
    "        f.write(r.content)\n",
    "    \n",
    "    print(f\"Arquivo {arquivo_zip} baixado com sucesso!\")"
   ]
  },
  {
   "cell_type": "code",
   "execution_count": null,
   "id": "3fc87499-6fbe-4040-b018-767a2fe13e54",
   "metadata": {
    "tags": []
   },
   "outputs": [],
   "source": [
    "#Se você já está com os zips na sua área de trabalho aqui na esquerda, não precisa rodar essa parte novamente\n",
    "\n",
    "def extrair_zip_por_ano(ano):\n",
    "    zip_file_name = f'planilha_{ano}.zip'\n",
    "    extracao_dir = f'planilha_{ano}'\n",
    "\n",
    "    with zipfile.ZipFile(zip_file_name, 'r') as zip_ref:\n",
    "        zip_ref.extractall(extracao_dir)\n",
    "        \n",
    "    extracted_files = os.listdir(extracao_dir)\n",
    "    for file_name in extracted_files:\n",
    "        print(f\"Arquivo extraído: {file_name}\")"
   ]
  }
 ],
 "metadata": {
  "kernelspec": {
   "display_name": "Python 3 (ipykernel)",
   "language": "python",
   "name": "python3"
  },
  "language_info": {
   "codemirror_mode": {
    "name": "ipython",
    "version": 3
   },
   "file_extension": ".py",
   "mimetype": "text/x-python",
   "name": "python",
   "nbconvert_exporter": "python",
   "pygments_lexer": "ipython3",
   "version": "3.11.4"
  }
 },
 "nbformat": 4,
 "nbformat_minor": 5
}
