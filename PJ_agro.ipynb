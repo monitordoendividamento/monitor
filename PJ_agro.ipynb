{
 "cells": [
  {
   "cell_type": "code",
   "execution_count": 7,
   "id": "8e319040-b794-4597-8dc5-b372186c1983",
   "metadata": {
    "tags": []
   },
   "outputs": [],
   "source": [
    "import zipfile\n",
    "import os\n",
    "import pandas as pd\n",
    "import deflatebr as dbr"
   ]
  },
  {
   "cell_type": "code",
   "execution_count": 2,
   "id": "e7a84bca-b42a-4b15-9e73-185dc25accda",
   "metadata": {
    "tags": []
   },
   "outputs": [],
   "source": [
    "def concatenar_csvs(diretorio):\n",
    "    frames = []\n",
    "\n",
    "    for arquivo in os.listdir(diretorio):\n",
    "        if arquivo.endswith('.csv'):\n",
    "            caminho_arquivo = os.path.join(diretorio, arquivo)\n",
    "            \n",
    "            df = pd.read_csv(caminho_arquivo, encoding='utf-8', delimiter=\";\", decimal=\",\")\n",
    "            df = df.rename(columns={df.columns[0]: \"data_base\"})\n",
    "            df = df.rename(columns={df.columns[6]: \"cnae_secao\"})\n",
    "            df = df.rename(columns={df.columns[7]: \"cnae_subclasse\"})\n",
    "            df['data_base'] = pd.to_datetime(df['data_base'], format=\"%Y-%m-%d\")\n",
    "            df['mes'] = df['data_base'].dt.month #cria uma nova coluna com mês\n",
    "            df['ano'] = df['data_base'].dt.year\n",
    "            #Filtros:\n",
    "            df = df[df['mes'] == 12] #trocar para o ano que você quer filtrar\n",
    "            df = df[df['cliente'] == 'PJ']\n",
    "            df = df[df['cnae_secao'] == \"PJ - Agricultura, pecuária, produção florestal, pesca e aqüicultura\"]\n",
    "            df = df[['data_base', 'cnae_secao', 'cnae_subclasse','carteira_ativa']]\n",
    "            df['data_base'] = df['data_base'].dt.strftime('%Y-%m')\n",
    "            #Agrupamentos para análise\n",
    "            df = df.groupby(['data_base', 'cnae_secao', 'cnae_subclasse'])['carteira_ativa'].sum().reset_index()\n",
    "            frames.append(df)\n",
    "\n",
    "    df_concatenado = pd.concat(frames, ignore_index=True)\n",
    "\n",
    "    return df_concatenado"
   ]
  },
  {
   "cell_type": "code",
   "execution_count": 3,
   "id": "963d93e2-399b-4260-85a1-a334986d9819",
   "metadata": {
    "tags": []
   },
   "outputs": [],
   "source": [
    "anos = list(range(2012, 2024))\n",
    "dataframes = []\n",
    "\n",
    "for ano in anos:\n",
    "    diretorio = f\"planilha_{ano}\"\n",
    "    dataframe_ano = concatenar_csvs(diretorio)\n",
    "    dataframes.append(dataframe_ano)\n",
    "\n",
    "df_total = pd.concat(dataframes, ignore_index=False)"
   ]
  },
  {
   "cell_type": "code",
   "execution_count": 5,
   "id": "bb2c2feb-cd75-4a77-9f13-bcab3b7f94d4",
   "metadata": {
    "tags": []
   },
   "outputs": [],
   "source": [
    "df_total.to_csv(\"pj_cnaesecao_cnaesubclasse_endividamento.csv\")"
   ]
  },
  {
   "cell_type": "code",
   "execution_count": 6,
   "id": "c4ad4b88-6f9e-4599-90c7-eb649c39c5f4",
   "metadata": {
    "tags": []
   },
   "outputs": [],
   "source": [
    "#pip install deflateBR"
   ]
  },
  {
   "cell_type": "code",
   "execution_count": 8,
   "id": "d394e2ac-43c0-4d04-9693-06abeb451caf",
   "metadata": {
    "tags": []
   },
   "outputs": [
    {
     "name": "stderr",
     "output_type": "stream",
     "text": [
      "/Users/brunamoura/anaconda3/lib/python3.11/site-packages/deflatebr/deflate.py:90: FutureWarning: Series.__getitem__ treating keys as positions is deprecated. In a future version, integer keys will always be treated as labels (consistent with DataFrame behavior). To access a value by position, use `ser.iloc[pos]`\n",
      "  df['deflated'] = df[['nom_values', 'VALVALOR']].apply(lambda x: ((real_indx/x[1]) * x[0])[0], axis=1)\n"
     ]
    }
   ],
   "source": [
    "df_total['valor_deflacionado'] = dbr.deflate(nominal_values=df_total['carteira_ativa'], nominal_dates=df_total['data_base'], real_date='2022-12')"
   ]
  },
  {
   "cell_type": "code",
   "execution_count": 9,
   "id": "65f2ceda-eae3-4006-ad6f-14659d1d382a",
   "metadata": {
    "tags": []
   },
   "outputs": [
    {
     "data": {
      "text/html": [
       "<div>\n",
       "<style scoped>\n",
       "    .dataframe tbody tr th:only-of-type {\n",
       "        vertical-align: middle;\n",
       "    }\n",
       "\n",
       "    .dataframe tbody tr th {\n",
       "        vertical-align: top;\n",
       "    }\n",
       "\n",
       "    .dataframe thead th {\n",
       "        text-align: right;\n",
       "    }\n",
       "</style>\n",
       "<table border=\"1\" class=\"dataframe\">\n",
       "  <thead>\n",
       "    <tr style=\"text-align: right;\">\n",
       "      <th></th>\n",
       "      <th>data_base</th>\n",
       "      <th>cnae_secao</th>\n",
       "      <th>cnae_subclasse</th>\n",
       "      <th>carteira_ativa</th>\n",
       "      <th>valor_deflacionado</th>\n",
       "    </tr>\n",
       "  </thead>\n",
       "  <tbody>\n",
       "    <tr>\n",
       "      <th>0</th>\n",
       "      <td>2012-12</td>\n",
       "      <td>PJ - Agricultura, pecuária, produção florestal...</td>\n",
       "      <td>-</td>\n",
       "      <td>1035943645.68</td>\n",
       "      <td>1876435249.39</td>\n",
       "    </tr>\n",
       "    <tr>\n",
       "      <th>1</th>\n",
       "      <td>2012-12</td>\n",
       "      <td>PJ - Agricultura, pecuária, produção florestal...</td>\n",
       "      <td>PJ - Apicultura</td>\n",
       "      <td>6502447.56</td>\n",
       "      <td>11778074.86</td>\n",
       "    </tr>\n",
       "    <tr>\n",
       "      <th>2</th>\n",
       "      <td>2012-12</td>\n",
       "      <td>PJ - Agricultura, pecuária, produção florestal...</td>\n",
       "      <td>PJ - Atividades de apoio à agricultura não esp...</td>\n",
       "      <td>1895589256.99</td>\n",
       "      <td>3433536674.52</td>\n",
       "    </tr>\n",
       "  </tbody>\n",
       "</table>\n",
       "</div>"
      ],
      "text/plain": [
       "  data_base                                         cnae_secao  \\\n",
       "0   2012-12  PJ - Agricultura, pecuária, produção florestal...   \n",
       "1   2012-12  PJ - Agricultura, pecuária, produção florestal...   \n",
       "2   2012-12  PJ - Agricultura, pecuária, produção florestal...   \n",
       "\n",
       "                                      cnae_subclasse  carteira_ativa  \\\n",
       "0                                                  -   1035943645.68   \n",
       "1                                    PJ - Apicultura      6502447.56   \n",
       "2  PJ - Atividades de apoio à agricultura não esp...   1895589256.99   \n",
       "\n",
       "   valor_deflacionado  \n",
       "0       1876435249.39  \n",
       "1         11778074.86  \n",
       "2       3433536674.52  "
      ]
     },
     "execution_count": 9,
     "metadata": {},
     "output_type": "execute_result"
    }
   ],
   "source": [
    "\n",
    "df_total.head(3)"
   ]
  },
  {
   "cell_type": "code",
   "execution_count": 15,
   "id": "ad0b2b6c-96fd-425b-836a-f32b253e2de4",
   "metadata": {
    "tags": []
   },
   "outputs": [],
   "source": [
    "#df_total['data_base'].unique()"
   ]
  },
  {
   "cell_type": "code",
   "execution_count": 41,
   "id": "dfb3bbca-f164-4f1c-8795-eb954ab23052",
   "metadata": {
    "tags": []
   },
   "outputs": [],
   "source": [
    "df_total_2022 = df_total[df_total['data_base'] == '2022-12']"
   ]
  },
  {
   "cell_type": "code",
   "execution_count": 42,
   "id": "ca25c574-5111-4264-8ab5-dacc86f2afce",
   "metadata": {
    "tags": []
   },
   "outputs": [
    {
     "data": {
      "text/html": [
       "<div>\n",
       "<style scoped>\n",
       "    .dataframe tbody tr th:only-of-type {\n",
       "        vertical-align: middle;\n",
       "    }\n",
       "\n",
       "    .dataframe tbody tr th {\n",
       "        vertical-align: top;\n",
       "    }\n",
       "\n",
       "    .dataframe thead th {\n",
       "        text-align: right;\n",
       "    }\n",
       "</style>\n",
       "<table border=\"1\" class=\"dataframe\">\n",
       "  <thead>\n",
       "    <tr style=\"text-align: right;\">\n",
       "      <th></th>\n",
       "      <th>data_base</th>\n",
       "      <th>cnae_secao</th>\n",
       "      <th>cnae_subclasse</th>\n",
       "      <th>carteira_ativa</th>\n",
       "      <th>valor_deflacionado</th>\n",
       "    </tr>\n",
       "  </thead>\n",
       "  <tbody>\n",
       "    <tr>\n",
       "      <th>0</th>\n",
       "      <td>2022-12</td>\n",
       "      <td>PJ - Agricultura, pecuária, produção florestal...</td>\n",
       "      <td>-</td>\n",
       "      <td>1982559149.06</td>\n",
       "      <td>1994850387.20</td>\n",
       "    </tr>\n",
       "    <tr>\n",
       "      <th>1</th>\n",
       "      <td>2022-12</td>\n",
       "      <td>PJ - Agricultura, pecuária, produção florestal...</td>\n",
       "      <td>PJ - Apicultura</td>\n",
       "      <td>13954409.63</td>\n",
       "      <td>14040922.55</td>\n",
       "    </tr>\n",
       "    <tr>\n",
       "      <th>2</th>\n",
       "      <td>2022-12</td>\n",
       "      <td>PJ - Agricultura, pecuária, produção florestal...</td>\n",
       "      <td>PJ - Atividades de apoio à agricultura não esp...</td>\n",
       "      <td>2695161261.95</td>\n",
       "      <td>2711870407.26</td>\n",
       "    </tr>\n",
       "    <tr>\n",
       "      <th>3</th>\n",
       "      <td>2022-12</td>\n",
       "      <td>PJ - Agricultura, pecuária, produção florestal...</td>\n",
       "      <td>PJ - Atividades de apoio à aquicultura em água...</td>\n",
       "      <td>191618.31</td>\n",
       "      <td>192806.28</td>\n",
       "    </tr>\n",
       "    <tr>\n",
       "      <th>4</th>\n",
       "      <td>2022-12</td>\n",
       "      <td>PJ - Agricultura, pecuária, produção florestal...</td>\n",
       "      <td>PJ - Atividades de apoio à aquicultura em água...</td>\n",
       "      <td>105089.20</td>\n",
       "      <td>105740.72</td>\n",
       "    </tr>\n",
       "  </tbody>\n",
       "</table>\n",
       "</div>"
      ],
      "text/plain": [
       "  data_base                                         cnae_secao  \\\n",
       "0   2022-12  PJ - Agricultura, pecuária, produção florestal...   \n",
       "1   2022-12  PJ - Agricultura, pecuária, produção florestal...   \n",
       "2   2022-12  PJ - Agricultura, pecuária, produção florestal...   \n",
       "3   2022-12  PJ - Agricultura, pecuária, produção florestal...   \n",
       "4   2022-12  PJ - Agricultura, pecuária, produção florestal...   \n",
       "\n",
       "                                      cnae_subclasse  carteira_ativa  \\\n",
       "0                                                  -   1982559149.06   \n",
       "1                                    PJ - Apicultura     13954409.63   \n",
       "2  PJ - Atividades de apoio à agricultura não esp...   2695161261.95   \n",
       "3  PJ - Atividades de apoio à aquicultura em água...       191618.31   \n",
       "4  PJ - Atividades de apoio à aquicultura em água...       105089.20   \n",
       "\n",
       "   valor_deflacionado  \n",
       "0       1994850387.20  \n",
       "1         14040922.55  \n",
       "2       2711870407.26  \n",
       "3           192806.28  \n",
       "4           105740.72  "
      ]
     },
     "execution_count": 42,
     "metadata": {},
     "output_type": "execute_result"
    }
   ],
   "source": [
    "df_total_2022.head(5)"
   ]
  },
  {
   "cell_type": "code",
   "execution_count": 43,
   "id": "4ece6f3c-9c61-408b-9564-879cec5adf26",
   "metadata": {
    "tags": []
   },
   "outputs": [
    {
     "name": "stderr",
     "output_type": "stream",
     "text": [
      "/var/folders/cj/_95ntbkj60b_pjvf32tvsh2h0000gn/T/ipykernel_71656/3974703803.py:3: SettingWithCopyWarning: \n",
      "A value is trying to be set on a copy of a slice from a DataFrame.\n",
      "Try using .loc[row_indexer,col_indexer] = value instead\n",
      "\n",
      "See the caveats in the documentation: https://pandas.pydata.org/pandas-docs/stable/user_guide/indexing.html#returning-a-view-versus-a-copy\n",
      "  df_total_2022['perc'] = df_total_2022['valor_deflacionado']/soma_valor_deflacionado * 100\n"
     ]
    }
   ],
   "source": [
    "soma_valor_deflacionado = df_total_2022['valor_deflacionado'].sum()\n",
    "\n",
    "df_total_2022['perc'] = df_total_2022['valor_deflacionado']/soma_valor_deflacionado * 100"
   ]
  },
  {
   "cell_type": "code",
   "execution_count": 45,
   "id": "890ec8a4-2a6e-4725-8aec-bbdc65c8d1f0",
   "metadata": {
    "tags": []
   },
   "outputs": [],
   "source": [
    "df_total_2022 = df_total_2022.sort_values(by='perc', ascending=False)\n",
    "df_total_2022['cumperc'] = df_total_2022['perc'].cumsum()"
   ]
  },
  {
   "cell_type": "code",
   "execution_count": 50,
   "id": "1b4deb7a-157a-4268-841e-34f0ee30653a",
   "metadata": {
    "tags": []
   },
   "outputs": [
    {
     "data": {
      "text/html": [
       "<div>\n",
       "<style scoped>\n",
       "    .dataframe tbody tr th:only-of-type {\n",
       "        vertical-align: middle;\n",
       "    }\n",
       "\n",
       "    .dataframe tbody tr th {\n",
       "        vertical-align: top;\n",
       "    }\n",
       "\n",
       "    .dataframe thead th {\n",
       "        text-align: right;\n",
       "    }\n",
       "</style>\n",
       "<table border=\"1\" class=\"dataframe\">\n",
       "  <thead>\n",
       "    <tr style=\"text-align: right;\">\n",
       "      <th></th>\n",
       "      <th>data_base</th>\n",
       "      <th>cnae_secao</th>\n",
       "      <th>cnae_subclasse</th>\n",
       "      <th>carteira_ativa</th>\n",
       "      <th>valor_deflacionado</th>\n",
       "      <th>perc</th>\n",
       "      <th>cumperc</th>\n",
       "    </tr>\n",
       "  </thead>\n",
       "  <tbody>\n",
       "    <tr>\n",
       "      <th>73</th>\n",
       "      <td>2022-12</td>\n",
       "      <td>PJ - Agricultura, pecuária, produção florestal...</td>\n",
       "      <td>PJ - Cultivo de soja</td>\n",
       "      <td>13473296116.68</td>\n",
       "      <td>13556826280.82</td>\n",
       "      <td>33.80</td>\n",
       "      <td>33.80</td>\n",
       "    </tr>\n",
       "    <tr>\n",
       "      <th>16</th>\n",
       "      <td>2022-12</td>\n",
       "      <td>PJ - Agricultura, pecuária, produção florestal...</td>\n",
       "      <td>PJ - Criação de bovinos para corte</td>\n",
       "      <td>3625061593.29</td>\n",
       "      <td>3647535825.82</td>\n",
       "      <td>9.09</td>\n",
       "      <td>42.89</td>\n",
       "    </tr>\n",
       "    <tr>\n",
       "      <th>44</th>\n",
       "      <td>2022-12</td>\n",
       "      <td>PJ - Agricultura, pecuária, produção florestal...</td>\n",
       "      <td>PJ - Cultivo de cana-de-açúcar</td>\n",
       "      <td>3020758833.99</td>\n",
       "      <td>3039486581.01</td>\n",
       "      <td>7.58</td>\n",
       "      <td>50.47</td>\n",
       "    </tr>\n",
       "    <tr>\n",
       "      <th>2</th>\n",
       "      <td>2022-12</td>\n",
       "      <td>PJ - Agricultura, pecuária, produção florestal...</td>\n",
       "      <td>PJ - Atividades de apoio à agricultura não esp...</td>\n",
       "      <td>2695161261.95</td>\n",
       "      <td>2711870407.26</td>\n",
       "      <td>6.76</td>\n",
       "      <td>57.23</td>\n",
       "    </tr>\n",
       "    <tr>\n",
       "      <th>0</th>\n",
       "      <td>2022-12</td>\n",
       "      <td>PJ - Agricultura, pecuária, produção florestal...</td>\n",
       "      <td>-</td>\n",
       "      <td>1982559149.06</td>\n",
       "      <td>1994850387.20</td>\n",
       "      <td>4.97</td>\n",
       "      <td>62.21</td>\n",
       "    </tr>\n",
       "    <tr>\n",
       "      <th>90</th>\n",
       "      <td>2022-12</td>\n",
       "      <td>PJ - Agricultura, pecuária, produção florestal...</td>\n",
       "      <td>PJ - Produção de sementes certificadas, exceto...</td>\n",
       "      <td>1380740915.28</td>\n",
       "      <td>1389301071.18</td>\n",
       "      <td>3.46</td>\n",
       "      <td>65.67</td>\n",
       "    </tr>\n",
       "    <tr>\n",
       "      <th>8</th>\n",
       "      <td>2022-12</td>\n",
       "      <td>PJ - Agricultura, pecuária, produção florestal...</td>\n",
       "      <td>PJ - Atividades de pós-colheita</td>\n",
       "      <td>1341524271.74</td>\n",
       "      <td>1349841296.89</td>\n",
       "      <td>3.37</td>\n",
       "      <td>69.04</td>\n",
       "    </tr>\n",
       "    <tr>\n",
       "      <th>86</th>\n",
       "      <td>2022-12</td>\n",
       "      <td>PJ - Agricultura, pecuária, produção florestal...</td>\n",
       "      <td>PJ - Produção de ovos</td>\n",
       "      <td>1177071670.65</td>\n",
       "      <td>1184369141.81</td>\n",
       "      <td>2.95</td>\n",
       "      <td>71.99</td>\n",
       "    </tr>\n",
       "    <tr>\n",
       "      <th>95</th>\n",
       "      <td>2022-12</td>\n",
       "      <td>PJ - Agricultura, pecuária, produção florestal...</td>\n",
       "      <td>PJ - Serviço de preparação de terreno, cultivo...</td>\n",
       "      <td>1163981355.72</td>\n",
       "      <td>1171197671.08</td>\n",
       "      <td>2.92</td>\n",
       "      <td>74.91</td>\n",
       "    </tr>\n",
       "    <tr>\n",
       "      <th>56</th>\n",
       "      <td>2022-12</td>\n",
       "      <td>PJ - Agricultura, pecuária, produção florestal...</td>\n",
       "      <td>PJ - Cultivo de laranja</td>\n",
       "      <td>767043428.33</td>\n",
       "      <td>771798854.39</td>\n",
       "      <td>1.92</td>\n",
       "      <td>76.83</td>\n",
       "    </tr>\n",
       "    <tr>\n",
       "      <th>7</th>\n",
       "      <td>2022-12</td>\n",
       "      <td>PJ - Agricultura, pecuária, produção florestal...</td>\n",
       "      <td>PJ - Atividades de apoio à produção florestal</td>\n",
       "      <td>697861043.68</td>\n",
       "      <td>702187560.89</td>\n",
       "      <td>1.75</td>\n",
       "      <td>78.58</td>\n",
       "    </tr>\n",
       "    <tr>\n",
       "      <th>59</th>\n",
       "      <td>2022-12</td>\n",
       "      <td>PJ - Agricultura, pecuária, produção florestal...</td>\n",
       "      <td>PJ - Cultivo de manga</td>\n",
       "      <td>677346561.51</td>\n",
       "      <td>681545895.43</td>\n",
       "      <td>1.70</td>\n",
       "      <td>80.28</td>\n",
       "    </tr>\n",
       "    <tr>\n",
       "      <th>5</th>\n",
       "      <td>2022-12</td>\n",
       "      <td>PJ - Agricultura, pecuária, produção florestal...</td>\n",
       "      <td>PJ - Atividades de apoio à pecuária não especi...</td>\n",
       "      <td>605659327.67</td>\n",
       "      <td>609414223.47</td>\n",
       "      <td>1.52</td>\n",
       "      <td>81.80</td>\n",
       "    </tr>\n",
       "  </tbody>\n",
       "</table>\n",
       "</div>"
      ],
      "text/plain": [
       "   data_base                                         cnae_secao  \\\n",
       "73   2022-12  PJ - Agricultura, pecuária, produção florestal...   \n",
       "16   2022-12  PJ - Agricultura, pecuária, produção florestal...   \n",
       "44   2022-12  PJ - Agricultura, pecuária, produção florestal...   \n",
       "2    2022-12  PJ - Agricultura, pecuária, produção florestal...   \n",
       "0    2022-12  PJ - Agricultura, pecuária, produção florestal...   \n",
       "90   2022-12  PJ - Agricultura, pecuária, produção florestal...   \n",
       "8    2022-12  PJ - Agricultura, pecuária, produção florestal...   \n",
       "86   2022-12  PJ - Agricultura, pecuária, produção florestal...   \n",
       "95   2022-12  PJ - Agricultura, pecuária, produção florestal...   \n",
       "56   2022-12  PJ - Agricultura, pecuária, produção florestal...   \n",
       "7    2022-12  PJ - Agricultura, pecuária, produção florestal...   \n",
       "59   2022-12  PJ - Agricultura, pecuária, produção florestal...   \n",
       "5    2022-12  PJ - Agricultura, pecuária, produção florestal...   \n",
       "\n",
       "                                       cnae_subclasse  carteira_ativa  \\\n",
       "73                               PJ - Cultivo de soja  13473296116.68   \n",
       "16                 PJ - Criação de bovinos para corte   3625061593.29   \n",
       "44                     PJ - Cultivo de cana-de-açúcar   3020758833.99   \n",
       "2   PJ - Atividades de apoio à agricultura não esp...   2695161261.95   \n",
       "0                                                   -   1982559149.06   \n",
       "90  PJ - Produção de sementes certificadas, exceto...   1380740915.28   \n",
       "8                     PJ - Atividades de pós-colheita   1341524271.74   \n",
       "86                              PJ - Produção de ovos   1177071670.65   \n",
       "95  PJ - Serviço de preparação de terreno, cultivo...   1163981355.72   \n",
       "56                            PJ - Cultivo de laranja    767043428.33   \n",
       "7       PJ - Atividades de apoio à produção florestal    697861043.68   \n",
       "59                              PJ - Cultivo de manga    677346561.51   \n",
       "5   PJ - Atividades de apoio à pecuária não especi...    605659327.67   \n",
       "\n",
       "    valor_deflacionado  perc  cumperc  \n",
       "73      13556826280.82 33.80    33.80  \n",
       "16       3647535825.82  9.09    42.89  \n",
       "44       3039486581.01  7.58    50.47  \n",
       "2        2711870407.26  6.76    57.23  \n",
       "0        1994850387.20  4.97    62.21  \n",
       "90       1389301071.18  3.46    65.67  \n",
       "8        1349841296.89  3.37    69.04  \n",
       "86       1184369141.81  2.95    71.99  \n",
       "95       1171197671.08  2.92    74.91  \n",
       "56        771798854.39  1.92    76.83  \n",
       "7         702187560.89  1.75    78.58  \n",
       "59        681545895.43  1.70    80.28  \n",
       "5         609414223.47  1.52    81.80  "
      ]
     },
     "execution_count": 50,
     "metadata": {},
     "output_type": "execute_result"
    }
   ],
   "source": [
    "df_total_2022.head(13)"
   ]
  },
  {
   "cell_type": "code",
   "execution_count": 100,
   "id": "5f5aa146-ac69-4941-a1f8-e4c0193e26ec",
   "metadata": {
    "tags": []
   },
   "outputs": [],
   "source": [
    "df_acumulado_corte = df_total_2022[df_total_2022['cumperc'] < 81]"
   ]
  },
  {
   "cell_type": "code",
   "execution_count": 71,
   "id": "ac7e9ff0-9f99-4bc0-b56f-0e2442f172f0",
   "metadata": {
    "tags": []
   },
   "outputs": [
    {
     "name": "stderr",
     "output_type": "stream",
     "text": [
      "/var/folders/cj/_95ntbkj60b_pjvf32tvsh2h0000gn/T/ipykernel_71656/653510863.py:1: SettingWithCopyWarning:\n",
      "\n",
      "\n",
      "A value is trying to be set on a copy of a slice from a DataFrame.\n",
      "Try using .loc[row_indexer,col_indexer] = value instead\n",
      "\n",
      "See the caveats in the documentation: https://pandas.pydata.org/pandas-docs/stable/user_guide/indexing.html#returning-a-view-versus-a-copy\n",
      "\n",
      "/var/folders/cj/_95ntbkj60b_pjvf32tvsh2h0000gn/T/ipykernel_71656/653510863.py:2: SettingWithCopyWarning:\n",
      "\n",
      "\n",
      "A value is trying to be set on a copy of a slice from a DataFrame.\n",
      "Try using .loc[row_indexer,col_indexer] = value instead\n",
      "\n",
      "See the caveats in the documentation: https://pandas.pydata.org/pandas-docs/stable/user_guide/indexing.html#returning-a-view-versus-a-copy\n",
      "\n",
      "/var/folders/cj/_95ntbkj60b_pjvf32tvsh2h0000gn/T/ipykernel_71656/653510863.py:3: SettingWithCopyWarning:\n",
      "\n",
      "\n",
      "A value is trying to be set on a copy of a slice from a DataFrame.\n",
      "Try using .loc[row_indexer,col_indexer] = value instead\n",
      "\n",
      "See the caveats in the documentation: https://pandas.pydata.org/pandas-docs/stable/user_guide/indexing.html#returning-a-view-versus-a-copy\n",
      "\n"
     ]
    }
   ],
   "source": [
    "df_acumulado_corte['cnae_secao'] = df_acumulado_corte['cnae_secao'].str.replace(\"PJ - \", \"\")\n",
    "df_acumulado_corte['cnae_subclasse'] = df_acumulado_corte['cnae_subclasse'].str.replace(\"PJ - \", \"\")\n",
    "df_acumulado_corte['cnae_subclasse'] = df_acumulado_corte['cnae_subclasse'].str.replace(\"-\", \"Indisponível\")"
   ]
  },
  {
   "cell_type": "code",
   "execution_count": 78,
   "id": "383d4de9-1a73-40c6-9164-f11d91c73d79",
   "metadata": {
    "tags": []
   },
   "outputs": [],
   "source": [
    "pd.set_option('display.float_format', '{:.2f}'.format)\n",
    "df_acumulado_corte.to_csv(\"pj_cnaesecao_cnaesubclasse_endividamento.csv\")"
   ]
  },
  {
   "cell_type": "code",
   "execution_count": 73,
   "id": "fecaf7b2-e23d-4c52-9684-978f561e190d",
   "metadata": {
    "tags": []
   },
   "outputs": [
    {
     "data": {
      "text/html": [
       "<div>\n",
       "<style scoped>\n",
       "    .dataframe tbody tr th:only-of-type {\n",
       "        vertical-align: middle;\n",
       "    }\n",
       "\n",
       "    .dataframe tbody tr th {\n",
       "        vertical-align: top;\n",
       "    }\n",
       "\n",
       "    .dataframe thead th {\n",
       "        text-align: right;\n",
       "    }\n",
       "</style>\n",
       "<table border=\"1\" class=\"dataframe\">\n",
       "  <thead>\n",
       "    <tr style=\"text-align: right;\">\n",
       "      <th></th>\n",
       "      <th>data_base</th>\n",
       "      <th>cnae_secao</th>\n",
       "      <th>cnae_subclasse</th>\n",
       "      <th>carteira_ativa</th>\n",
       "      <th>valor_deflacionado</th>\n",
       "      <th>perc</th>\n",
       "      <th>cumperc</th>\n",
       "    </tr>\n",
       "  </thead>\n",
       "  <tbody>\n",
       "    <tr>\n",
       "      <th>73</th>\n",
       "      <td>2022-12</td>\n",
       "      <td>Agricultura, pecuária, produção florestal, pes...</td>\n",
       "      <td>Cultivo de soja</td>\n",
       "      <td>13473296116.68</td>\n",
       "      <td>13556826280.82</td>\n",
       "      <td>33.80</td>\n",
       "      <td>33.80</td>\n",
       "    </tr>\n",
       "    <tr>\n",
       "      <th>16</th>\n",
       "      <td>2022-12</td>\n",
       "      <td>Agricultura, pecuária, produção florestal, pes...</td>\n",
       "      <td>Criação de bovinos para corte</td>\n",
       "      <td>3625061593.29</td>\n",
       "      <td>3647535825.82</td>\n",
       "      <td>9.09</td>\n",
       "      <td>42.89</td>\n",
       "    </tr>\n",
       "    <tr>\n",
       "      <th>44</th>\n",
       "      <td>2022-12</td>\n",
       "      <td>Agricultura, pecuária, produção florestal, pes...</td>\n",
       "      <td>Cultivo de canaIndisponíveldeIndisponívelaçúcar</td>\n",
       "      <td>3020758833.99</td>\n",
       "      <td>3039486581.01</td>\n",
       "      <td>7.58</td>\n",
       "      <td>50.47</td>\n",
       "    </tr>\n",
       "    <tr>\n",
       "      <th>2</th>\n",
       "      <td>2022-12</td>\n",
       "      <td>Agricultura, pecuária, produção florestal, pes...</td>\n",
       "      <td>Atividades de apoio à agricultura não especifi...</td>\n",
       "      <td>2695161261.95</td>\n",
       "      <td>2711870407.26</td>\n",
       "      <td>6.76</td>\n",
       "      <td>57.23</td>\n",
       "    </tr>\n",
       "    <tr>\n",
       "      <th>0</th>\n",
       "      <td>2022-12</td>\n",
       "      <td>Agricultura, pecuária, produção florestal, pes...</td>\n",
       "      <td>Indisponível</td>\n",
       "      <td>1982559149.06</td>\n",
       "      <td>1994850387.20</td>\n",
       "      <td>4.97</td>\n",
       "      <td>62.21</td>\n",
       "    </tr>\n",
       "  </tbody>\n",
       "</table>\n",
       "</div>"
      ],
      "text/plain": [
       "   data_base                                         cnae_secao  \\\n",
       "73   2022-12  Agricultura, pecuária, produção florestal, pes...   \n",
       "16   2022-12  Agricultura, pecuária, produção florestal, pes...   \n",
       "44   2022-12  Agricultura, pecuária, produção florestal, pes...   \n",
       "2    2022-12  Agricultura, pecuária, produção florestal, pes...   \n",
       "0    2022-12  Agricultura, pecuária, produção florestal, pes...   \n",
       "\n",
       "                                       cnae_subclasse  carteira_ativa  \\\n",
       "73                                    Cultivo de soja  13473296116.68   \n",
       "16                      Criação de bovinos para corte   3625061593.29   \n",
       "44    Cultivo de canaIndisponíveldeIndisponívelaçúcar   3020758833.99   \n",
       "2   Atividades de apoio à agricultura não especifi...   2695161261.95   \n",
       "0                                        Indisponível   1982559149.06   \n",
       "\n",
       "    valor_deflacionado  perc  cumperc  \n",
       "73      13556826280.82 33.80    33.80  \n",
       "16       3647535825.82  9.09    42.89  \n",
       "44       3039486581.01  7.58    50.47  \n",
       "2        2711870407.26  6.76    57.23  \n",
       "0        1994850387.20  4.97    62.21  "
      ]
     },
     "execution_count": 73,
     "metadata": {},
     "output_type": "execute_result"
    }
   ],
   "source": [
    "df_acumulado_corte.head(5)"
   ]
  },
  {
   "cell_type": "code",
   "execution_count": 35,
   "id": "51ccbcf1-cd09-4ab3-a23d-5ba8ac49e123",
   "metadata": {
    "tags": []
   },
   "outputs": [],
   "source": [
    "import plotly.express as px\n",
    "import numpy as np"
   ]
  },
  {
   "cell_type": "code",
   "execution_count": 106,
   "id": "c978bc1e-6bfc-480c-be52-5970b91f2176",
   "metadata": {
    "tags": []
   },
   "outputs": [
    {
     "data": {
      "application/vnd.plotly.v1+json": {
       "config": {
        "plotlyServerURL": "https://plot.ly"
       },
       "data": [
        {
         "branchvalues": "total",
         "domain": {
          "x": [
           0,
           1
          ],
          "y": [
           0,
           1
          ]
         },
         "hovertemplate": "%{label} <br> $%{value:,.2f} <br> %{percentRoot}",
         "ids": [
          "Agricultura, pecuária, produção florestal, pesca e aqüicultura/Atividades de apoio à agricultura não especificadas anteriormente",
          "Agricultura, pecuária, produção florestal, pesca e aqüicultura/Atividades de apoio à produção florestal",
          "Agricultura, pecuária, produção florestal, pesca e aqüicultura/Atividades de pós-colheita",
          "Agricultura, pecuária, produção florestal, pesca e aqüicultura/Criação de bovinos para corte",
          "Agricultura, pecuária, produção florestal, pesca e aqüicultura/Cultivo de cana-de-açúcar",
          "Agricultura, pecuária, produção florestal, pesca e aqüicultura/Cultivo de laranja",
          "Agricultura, pecuária, produção florestal, pesca e aqüicultura/Cultivo de manga",
          "Agricultura, pecuária, produção florestal, pesca e aqüicultura/Cultivo de soja",
          "Agricultura, pecuária, produção florestal, pesca e aqüicultura/Indisponível",
          "Agricultura, pecuária, produção florestal, pesca e aqüicultura/Produção de ovos",
          "Agricultura, pecuária, produção florestal, pesca e aqüicultura/Produção de sementes certificadas, exceto de forrageiras para pasto",
          "Agricultura, pecuária, produção florestal, pesca e aqüicultura/Serviço de preparação de terreno, cultivo e colheita",
          "Agricultura, pecuária, produção florestal, pesca e aqüicultura"
         ],
         "labels": [
          "Atividades de apoio à agricultura não especificadas anteriormente",
          "Atividades de apoio à produção florestal",
          "Atividades de pós-colheita",
          "Criação de bovinos para corte",
          "Cultivo de cana-de-açúcar",
          "Cultivo de laranja",
          "Cultivo de manga",
          "Cultivo de soja",
          "Indisponível",
          "Produção de ovos",
          "Produção de sementes certificadas, exceto de forrageiras para pasto",
          "Serviço de preparação de terreno, cultivo e colheita",
          "Agricultura, pecuária, produção florestal, pesca e aqüicultura"
         ],
         "marker": {
          "line": {
           "width": 1
          }
         },
         "name": "",
         "parents": [
          "Agricultura, pecuária, produção florestal, pesca e aqüicultura",
          "Agricultura, pecuária, produção florestal, pesca e aqüicultura",
          "Agricultura, pecuária, produção florestal, pesca e aqüicultura",
          "Agricultura, pecuária, produção florestal, pesca e aqüicultura",
          "Agricultura, pecuária, produção florestal, pesca e aqüicultura",
          "Agricultura, pecuária, produção florestal, pesca e aqüicultura",
          "Agricultura, pecuária, produção florestal, pesca e aqüicultura",
          "Agricultura, pecuária, produção florestal, pesca e aqüicultura",
          "Agricultura, pecuária, produção florestal, pesca e aqüicultura",
          "Agricultura, pecuária, produção florestal, pesca e aqüicultura",
          "Agricultura, pecuária, produção florestal, pesca e aqüicultura",
          "Agricultura, pecuária, produção florestal, pesca e aqüicultura",
          ""
         ],
         "textfont": {
          "color": "white",
          "size": 12
         },
         "textinfo": "label+percent entry",
         "textposition": "top left",
         "type": "treemap",
         "values": [
          2711870407.257759,
          702187560.8899709,
          1349841296.886826,
          3647535825.8218355,
          3039486581.01183,
          771798854.3901293,
          681545895.4347512,
          13556826280.817635,
          1994850387.202427,
          1184369141.8107083,
          1389301071.1829123,
          1171197671.0785015,
          32200810973.785286
         ]
        }
       ],
       "layout": {
        "autosize": true,
        "legend": {
         "tracegroupgap": 0
        },
        "margin": {
         "b": 25,
         "l": 25,
         "r": 25,
         "t": 50
        },
        "template": {
         "data": {
          "bar": [
           {
            "error_x": {
             "color": "rgb(36,36,36)"
            },
            "error_y": {
             "color": "rgb(36,36,36)"
            },
            "marker": {
             "line": {
              "color": "rgb(234,234,242)",
              "width": 0.5
             },
             "pattern": {
              "fillmode": "overlay",
              "size": 10,
              "solidity": 0.2
             }
            },
            "type": "bar"
           }
          ],
          "barpolar": [
           {
            "marker": {
             "line": {
              "color": "rgb(234,234,242)",
              "width": 0.5
             },
             "pattern": {
              "fillmode": "overlay",
              "size": 10,
              "solidity": 0.2
             }
            },
            "type": "barpolar"
           }
          ],
          "carpet": [
           {
            "aaxis": {
             "endlinecolor": "rgb(36,36,36)",
             "gridcolor": "white",
             "linecolor": "white",
             "minorgridcolor": "white",
             "startlinecolor": "rgb(36,36,36)"
            },
            "baxis": {
             "endlinecolor": "rgb(36,36,36)",
             "gridcolor": "white",
             "linecolor": "white",
             "minorgridcolor": "white",
             "startlinecolor": "rgb(36,36,36)"
            },
            "type": "carpet"
           }
          ],
          "choropleth": [
           {
            "colorbar": {
             "outlinewidth": 0,
             "tickcolor": "rgb(36,36,36)",
             "ticklen": 8,
             "ticks": "outside",
             "tickwidth": 2
            },
            "type": "choropleth"
           }
          ],
          "contour": [
           {
            "colorbar": {
             "outlinewidth": 0,
             "tickcolor": "rgb(36,36,36)",
             "ticklen": 8,
             "ticks": "outside",
             "tickwidth": 2
            },
            "colorscale": [
             [
              0,
              "rgb(2,4,25)"
             ],
             [
              0.06274509803921569,
              "rgb(24,15,41)"
             ],
             [
              0.12549019607843137,
              "rgb(47,23,57)"
             ],
             [
              0.18823529411764706,
              "rgb(71,28,72)"
             ],
             [
              0.25098039215686274,
              "rgb(97,30,82)"
             ],
             [
              0.3137254901960784,
              "rgb(123,30,89)"
             ],
             [
              0.3764705882352941,
              "rgb(150,27,91)"
             ],
             [
              0.4392156862745098,
              "rgb(177,22,88)"
             ],
             [
              0.5019607843137255,
              "rgb(203,26,79)"
             ],
             [
              0.5647058823529412,
              "rgb(223,47,67)"
             ],
             [
              0.6274509803921569,
              "rgb(236,76,61)"
             ],
             [
              0.6901960784313725,
              "rgb(242,107,73)"
             ],
             [
              0.7529411764705882,
              "rgb(244,135,95)"
             ],
             [
              0.8156862745098039,
              "rgb(245,162,122)"
             ],
             [
              0.8784313725490196,
              "rgb(246,188,153)"
             ],
             [
              0.9411764705882353,
              "rgb(247,212,187)"
             ],
             [
              1,
              "rgb(250,234,220)"
             ]
            ],
            "type": "contour"
           }
          ],
          "contourcarpet": [
           {
            "colorbar": {
             "outlinewidth": 0,
             "tickcolor": "rgb(36,36,36)",
             "ticklen": 8,
             "ticks": "outside",
             "tickwidth": 2
            },
            "type": "contourcarpet"
           }
          ],
          "heatmap": [
           {
            "colorbar": {
             "outlinewidth": 0,
             "tickcolor": "rgb(36,36,36)",
             "ticklen": 8,
             "ticks": "outside",
             "tickwidth": 2
            },
            "colorscale": [
             [
              0,
              "rgb(2,4,25)"
             ],
             [
              0.06274509803921569,
              "rgb(24,15,41)"
             ],
             [
              0.12549019607843137,
              "rgb(47,23,57)"
             ],
             [
              0.18823529411764706,
              "rgb(71,28,72)"
             ],
             [
              0.25098039215686274,
              "rgb(97,30,82)"
             ],
             [
              0.3137254901960784,
              "rgb(123,30,89)"
             ],
             [
              0.3764705882352941,
              "rgb(150,27,91)"
             ],
             [
              0.4392156862745098,
              "rgb(177,22,88)"
             ],
             [
              0.5019607843137255,
              "rgb(203,26,79)"
             ],
             [
              0.5647058823529412,
              "rgb(223,47,67)"
             ],
             [
              0.6274509803921569,
              "rgb(236,76,61)"
             ],
             [
              0.6901960784313725,
              "rgb(242,107,73)"
             ],
             [
              0.7529411764705882,
              "rgb(244,135,95)"
             ],
             [
              0.8156862745098039,
              "rgb(245,162,122)"
             ],
             [
              0.8784313725490196,
              "rgb(246,188,153)"
             ],
             [
              0.9411764705882353,
              "rgb(247,212,187)"
             ],
             [
              1,
              "rgb(250,234,220)"
             ]
            ],
            "type": "heatmap"
           }
          ],
          "heatmapgl": [
           {
            "colorbar": {
             "outlinewidth": 0,
             "tickcolor": "rgb(36,36,36)",
             "ticklen": 8,
             "ticks": "outside",
             "tickwidth": 2
            },
            "colorscale": [
             [
              0,
              "rgb(2,4,25)"
             ],
             [
              0.06274509803921569,
              "rgb(24,15,41)"
             ],
             [
              0.12549019607843137,
              "rgb(47,23,57)"
             ],
             [
              0.18823529411764706,
              "rgb(71,28,72)"
             ],
             [
              0.25098039215686274,
              "rgb(97,30,82)"
             ],
             [
              0.3137254901960784,
              "rgb(123,30,89)"
             ],
             [
              0.3764705882352941,
              "rgb(150,27,91)"
             ],
             [
              0.4392156862745098,
              "rgb(177,22,88)"
             ],
             [
              0.5019607843137255,
              "rgb(203,26,79)"
             ],
             [
              0.5647058823529412,
              "rgb(223,47,67)"
             ],
             [
              0.6274509803921569,
              "rgb(236,76,61)"
             ],
             [
              0.6901960784313725,
              "rgb(242,107,73)"
             ],
             [
              0.7529411764705882,
              "rgb(244,135,95)"
             ],
             [
              0.8156862745098039,
              "rgb(245,162,122)"
             ],
             [
              0.8784313725490196,
              "rgb(246,188,153)"
             ],
             [
              0.9411764705882353,
              "rgb(247,212,187)"
             ],
             [
              1,
              "rgb(250,234,220)"
             ]
            ],
            "type": "heatmapgl"
           }
          ],
          "histogram": [
           {
            "marker": {
             "pattern": {
              "fillmode": "overlay",
              "size": 10,
              "solidity": 0.2
             }
            },
            "type": "histogram"
           }
          ],
          "histogram2d": [
           {
            "colorbar": {
             "outlinewidth": 0,
             "tickcolor": "rgb(36,36,36)",
             "ticklen": 8,
             "ticks": "outside",
             "tickwidth": 2
            },
            "colorscale": [
             [
              0,
              "rgb(2,4,25)"
             ],
             [
              0.06274509803921569,
              "rgb(24,15,41)"
             ],
             [
              0.12549019607843137,
              "rgb(47,23,57)"
             ],
             [
              0.18823529411764706,
              "rgb(71,28,72)"
             ],
             [
              0.25098039215686274,
              "rgb(97,30,82)"
             ],
             [
              0.3137254901960784,
              "rgb(123,30,89)"
             ],
             [
              0.3764705882352941,
              "rgb(150,27,91)"
             ],
             [
              0.4392156862745098,
              "rgb(177,22,88)"
             ],
             [
              0.5019607843137255,
              "rgb(203,26,79)"
             ],
             [
              0.5647058823529412,
              "rgb(223,47,67)"
             ],
             [
              0.6274509803921569,
              "rgb(236,76,61)"
             ],
             [
              0.6901960784313725,
              "rgb(242,107,73)"
             ],
             [
              0.7529411764705882,
              "rgb(244,135,95)"
             ],
             [
              0.8156862745098039,
              "rgb(245,162,122)"
             ],
             [
              0.8784313725490196,
              "rgb(246,188,153)"
             ],
             [
              0.9411764705882353,
              "rgb(247,212,187)"
             ],
             [
              1,
              "rgb(250,234,220)"
             ]
            ],
            "type": "histogram2d"
           }
          ],
          "histogram2dcontour": [
           {
            "colorbar": {
             "outlinewidth": 0,
             "tickcolor": "rgb(36,36,36)",
             "ticklen": 8,
             "ticks": "outside",
             "tickwidth": 2
            },
            "colorscale": [
             [
              0,
              "rgb(2,4,25)"
             ],
             [
              0.06274509803921569,
              "rgb(24,15,41)"
             ],
             [
              0.12549019607843137,
              "rgb(47,23,57)"
             ],
             [
              0.18823529411764706,
              "rgb(71,28,72)"
             ],
             [
              0.25098039215686274,
              "rgb(97,30,82)"
             ],
             [
              0.3137254901960784,
              "rgb(123,30,89)"
             ],
             [
              0.3764705882352941,
              "rgb(150,27,91)"
             ],
             [
              0.4392156862745098,
              "rgb(177,22,88)"
             ],
             [
              0.5019607843137255,
              "rgb(203,26,79)"
             ],
             [
              0.5647058823529412,
              "rgb(223,47,67)"
             ],
             [
              0.6274509803921569,
              "rgb(236,76,61)"
             ],
             [
              0.6901960784313725,
              "rgb(242,107,73)"
             ],
             [
              0.7529411764705882,
              "rgb(244,135,95)"
             ],
             [
              0.8156862745098039,
              "rgb(245,162,122)"
             ],
             [
              0.8784313725490196,
              "rgb(246,188,153)"
             ],
             [
              0.9411764705882353,
              "rgb(247,212,187)"
             ],
             [
              1,
              "rgb(250,234,220)"
             ]
            ],
            "type": "histogram2dcontour"
           }
          ],
          "mesh3d": [
           {
            "colorbar": {
             "outlinewidth": 0,
             "tickcolor": "rgb(36,36,36)",
             "ticklen": 8,
             "ticks": "outside",
             "tickwidth": 2
            },
            "type": "mesh3d"
           }
          ],
          "parcoords": [
           {
            "line": {
             "colorbar": {
              "outlinewidth": 0,
              "tickcolor": "rgb(36,36,36)",
              "ticklen": 8,
              "ticks": "outside",
              "tickwidth": 2
             }
            },
            "type": "parcoords"
           }
          ],
          "pie": [
           {
            "automargin": true,
            "type": "pie"
           }
          ],
          "scatter": [
           {
            "fillpattern": {
             "fillmode": "overlay",
             "size": 10,
             "solidity": 0.2
            },
            "type": "scatter"
           }
          ],
          "scatter3d": [
           {
            "line": {
             "colorbar": {
              "outlinewidth": 0,
              "tickcolor": "rgb(36,36,36)",
              "ticklen": 8,
              "ticks": "outside",
              "tickwidth": 2
             }
            },
            "marker": {
             "colorbar": {
              "outlinewidth": 0,
              "tickcolor": "rgb(36,36,36)",
              "ticklen": 8,
              "ticks": "outside",
              "tickwidth": 2
             }
            },
            "type": "scatter3d"
           }
          ],
          "scattercarpet": [
           {
            "marker": {
             "colorbar": {
              "outlinewidth": 0,
              "tickcolor": "rgb(36,36,36)",
              "ticklen": 8,
              "ticks": "outside",
              "tickwidth": 2
             }
            },
            "type": "scattercarpet"
           }
          ],
          "scattergeo": [
           {
            "marker": {
             "colorbar": {
              "outlinewidth": 0,
              "tickcolor": "rgb(36,36,36)",
              "ticklen": 8,
              "ticks": "outside",
              "tickwidth": 2
             }
            },
            "type": "scattergeo"
           }
          ],
          "scattergl": [
           {
            "marker": {
             "colorbar": {
              "outlinewidth": 0,
              "tickcolor": "rgb(36,36,36)",
              "ticklen": 8,
              "ticks": "outside",
              "tickwidth": 2
             }
            },
            "type": "scattergl"
           }
          ],
          "scattermapbox": [
           {
            "marker": {
             "colorbar": {
              "outlinewidth": 0,
              "tickcolor": "rgb(36,36,36)",
              "ticklen": 8,
              "ticks": "outside",
              "tickwidth": 2
             }
            },
            "type": "scattermapbox"
           }
          ],
          "scatterpolar": [
           {
            "marker": {
             "colorbar": {
              "outlinewidth": 0,
              "tickcolor": "rgb(36,36,36)",
              "ticklen": 8,
              "ticks": "outside",
              "tickwidth": 2
             }
            },
            "type": "scatterpolar"
           }
          ],
          "scatterpolargl": [
           {
            "marker": {
             "colorbar": {
              "outlinewidth": 0,
              "tickcolor": "rgb(36,36,36)",
              "ticklen": 8,
              "ticks": "outside",
              "tickwidth": 2
             }
            },
            "type": "scatterpolargl"
           }
          ],
          "scatterternary": [
           {
            "marker": {
             "colorbar": {
              "outlinewidth": 0,
              "tickcolor": "rgb(36,36,36)",
              "ticklen": 8,
              "ticks": "outside",
              "tickwidth": 2
             }
            },
            "type": "scatterternary"
           }
          ],
          "surface": [
           {
            "colorbar": {
             "outlinewidth": 0,
             "tickcolor": "rgb(36,36,36)",
             "ticklen": 8,
             "ticks": "outside",
             "tickwidth": 2
            },
            "colorscale": [
             [
              0,
              "rgb(2,4,25)"
             ],
             [
              0.06274509803921569,
              "rgb(24,15,41)"
             ],
             [
              0.12549019607843137,
              "rgb(47,23,57)"
             ],
             [
              0.18823529411764706,
              "rgb(71,28,72)"
             ],
             [
              0.25098039215686274,
              "rgb(97,30,82)"
             ],
             [
              0.3137254901960784,
              "rgb(123,30,89)"
             ],
             [
              0.3764705882352941,
              "rgb(150,27,91)"
             ],
             [
              0.4392156862745098,
              "rgb(177,22,88)"
             ],
             [
              0.5019607843137255,
              "rgb(203,26,79)"
             ],
             [
              0.5647058823529412,
              "rgb(223,47,67)"
             ],
             [
              0.6274509803921569,
              "rgb(236,76,61)"
             ],
             [
              0.6901960784313725,
              "rgb(242,107,73)"
             ],
             [
              0.7529411764705882,
              "rgb(244,135,95)"
             ],
             [
              0.8156862745098039,
              "rgb(245,162,122)"
             ],
             [
              0.8784313725490196,
              "rgb(246,188,153)"
             ],
             [
              0.9411764705882353,
              "rgb(247,212,187)"
             ],
             [
              1,
              "rgb(250,234,220)"
             ]
            ],
            "type": "surface"
           }
          ],
          "table": [
           {
            "cells": {
             "fill": {
              "color": "rgb(231,231,240)"
             },
             "line": {
              "color": "white"
             }
            },
            "header": {
             "fill": {
              "color": "rgb(183,183,191)"
             },
             "line": {
              "color": "white"
             }
            },
            "type": "table"
           }
          ]
         },
         "layout": {
          "annotationdefaults": {
           "arrowcolor": "rgb(67,103,167)"
          },
          "autotypenumbers": "strict",
          "coloraxis": {
           "colorbar": {
            "outlinewidth": 0,
            "tickcolor": "rgb(36,36,36)",
            "ticklen": 8,
            "ticks": "outside",
            "tickwidth": 2
           }
          },
          "colorscale": {
           "sequential": [
            [
             0,
             "rgb(2,4,25)"
            ],
            [
             0.06274509803921569,
             "rgb(24,15,41)"
            ],
            [
             0.12549019607843137,
             "rgb(47,23,57)"
            ],
            [
             0.18823529411764706,
             "rgb(71,28,72)"
            ],
            [
             0.25098039215686274,
             "rgb(97,30,82)"
            ],
            [
             0.3137254901960784,
             "rgb(123,30,89)"
            ],
            [
             0.3764705882352941,
             "rgb(150,27,91)"
            ],
            [
             0.4392156862745098,
             "rgb(177,22,88)"
            ],
            [
             0.5019607843137255,
             "rgb(203,26,79)"
            ],
            [
             0.5647058823529412,
             "rgb(223,47,67)"
            ],
            [
             0.6274509803921569,
             "rgb(236,76,61)"
            ],
            [
             0.6901960784313725,
             "rgb(242,107,73)"
            ],
            [
             0.7529411764705882,
             "rgb(244,135,95)"
            ],
            [
             0.8156862745098039,
             "rgb(245,162,122)"
            ],
            [
             0.8784313725490196,
             "rgb(246,188,153)"
            ],
            [
             0.9411764705882353,
             "rgb(247,212,187)"
            ],
            [
             1,
             "rgb(250,234,220)"
            ]
           ],
           "sequentialminus": [
            [
             0,
             "rgb(2,4,25)"
            ],
            [
             0.06274509803921569,
             "rgb(24,15,41)"
            ],
            [
             0.12549019607843137,
             "rgb(47,23,57)"
            ],
            [
             0.18823529411764706,
             "rgb(71,28,72)"
            ],
            [
             0.25098039215686274,
             "rgb(97,30,82)"
            ],
            [
             0.3137254901960784,
             "rgb(123,30,89)"
            ],
            [
             0.3764705882352941,
             "rgb(150,27,91)"
            ],
            [
             0.4392156862745098,
             "rgb(177,22,88)"
            ],
            [
             0.5019607843137255,
             "rgb(203,26,79)"
            ],
            [
             0.5647058823529412,
             "rgb(223,47,67)"
            ],
            [
             0.6274509803921569,
             "rgb(236,76,61)"
            ],
            [
             0.6901960784313725,
             "rgb(242,107,73)"
            ],
            [
             0.7529411764705882,
             "rgb(244,135,95)"
            ],
            [
             0.8156862745098039,
             "rgb(245,162,122)"
            ],
            [
             0.8784313725490196,
             "rgb(246,188,153)"
            ],
            [
             0.9411764705882353,
             "rgb(247,212,187)"
            ],
            [
             1,
             "rgb(250,234,220)"
            ]
           ]
          },
          "colorway": [
           "rgb(76,114,176)",
           "rgb(221,132,82)",
           "rgb(85,168,104)",
           "rgb(196,78,82)",
           "rgb(129,114,179)",
           "rgb(147,120,96)",
           "rgb(218,139,195)",
           "rgb(140,140,140)",
           "rgb(204,185,116)",
           "rgb(100,181,205)"
          ],
          "font": {
           "color": "rgb(36,36,36)"
          },
          "geo": {
           "bgcolor": "white",
           "lakecolor": "white",
           "landcolor": "rgb(234,234,242)",
           "showlakes": true,
           "showland": true,
           "subunitcolor": "white"
          },
          "hoverlabel": {
           "align": "left"
          },
          "hovermode": "closest",
          "paper_bgcolor": "white",
          "plot_bgcolor": "rgb(234,234,242)",
          "polar": {
           "angularaxis": {
            "gridcolor": "white",
            "linecolor": "white",
            "showgrid": true,
            "ticks": ""
           },
           "bgcolor": "rgb(234,234,242)",
           "radialaxis": {
            "gridcolor": "white",
            "linecolor": "white",
            "showgrid": true,
            "ticks": ""
           }
          },
          "scene": {
           "xaxis": {
            "backgroundcolor": "rgb(234,234,242)",
            "gridcolor": "white",
            "gridwidth": 2,
            "linecolor": "white",
            "showbackground": true,
            "showgrid": true,
            "ticks": "",
            "zerolinecolor": "white"
           },
           "yaxis": {
            "backgroundcolor": "rgb(234,234,242)",
            "gridcolor": "white",
            "gridwidth": 2,
            "linecolor": "white",
            "showbackground": true,
            "showgrid": true,
            "ticks": "",
            "zerolinecolor": "white"
           },
           "zaxis": {
            "backgroundcolor": "rgb(234,234,242)",
            "gridcolor": "white",
            "gridwidth": 2,
            "linecolor": "white",
            "showbackground": true,
            "showgrid": true,
            "ticks": "",
            "zerolinecolor": "white"
           }
          },
          "shapedefaults": {
           "fillcolor": "rgb(67,103,167)",
           "line": {
            "width": 0
           },
           "opacity": 0.5
          },
          "ternary": {
           "aaxis": {
            "gridcolor": "white",
            "linecolor": "white",
            "showgrid": true,
            "ticks": ""
           },
           "baxis": {
            "gridcolor": "white",
            "linecolor": "white",
            "showgrid": true,
            "ticks": ""
           },
           "bgcolor": "rgb(234,234,242)",
           "caxis": {
            "gridcolor": "white",
            "linecolor": "white",
            "showgrid": true,
            "ticks": ""
           }
          },
          "xaxis": {
           "automargin": true,
           "gridcolor": "white",
           "linecolor": "white",
           "showgrid": true,
           "ticks": "",
           "title": {
            "standoff": 15
           },
           "zerolinecolor": "white"
          },
          "yaxis": {
           "automargin": true,
           "gridcolor": "white",
           "linecolor": "white",
           "showgrid": true,
           "ticks": "",
           "title": {
            "standoff": 15
           },
           "zerolinecolor": "white"
          }
         }
        },
        "title": {
         "text": "Endividamento do Agro por subsetor - Ano 2022"
        }
       }
      },
      "image/png": "[encoded data removed]",
      "text/html": [
       "<div>                            <div id=\"f74c4879-f954-40c0-84ce-c3cd21910502\" class=\"plotly-graph-div\" style=\"height:525px; width:100%;\"></div>            <script type=\"text/javascript\">                require([\"plotly\"], function(Plotly) {                    window.PLOTLYENV=window.PLOTLYENV || {};                                    if (document.getElementById(\"f74c4879-f954-40c0-84ce-c3cd21910502\")) {                    Plotly.newPlot(                        \"f74c4879-f954-40c0-84ce-c3cd21910502\",                        [{\"branchvalues\":\"total\",\"domain\":{\"x\":[0.0,1.0],\"y\":[0.0,1.0]},\"hovertemplate\":\"%{label} <br> $%{value:,.2f} <br> %{percentRoot}\",\"ids\":[\"Agricultura, pecu\\u00e1ria, produ\\u00e7\\u00e3o florestal, pesca e aq\\u00fcicultura/Atividades de apoio \\u00e0 agricultura n\\u00e3o especificadas anteriormente\",\"Agricultura, pecu\\u00e1ria, produ\\u00e7\\u00e3o florestal, pesca e aq\\u00fcicultura/Atividades de apoio \\u00e0 produ\\u00e7\\u00e3o florestal\",\"Agricultura, pecu\\u00e1ria, produ\\u00e7\\u00e3o florestal, pesca e aq\\u00fcicultura/Atividades de p\\u00f3s-colheita\",\"Agricultura, pecu\\u00e1ria, produ\\u00e7\\u00e3o florestal, pesca e aq\\u00fcicultura/Cria\\u00e7\\u00e3o de bovinos para corte\",\"Agricultura, pecu\\u00e1ria, produ\\u00e7\\u00e3o florestal, pesca e aq\\u00fcicultura/Cultivo de cana-de-a\\u00e7\\u00facar\",\"Agricultura, pecu\\u00e1ria, produ\\u00e7\\u00e3o florestal, pesca e aq\\u00fcicultura/Cultivo de laranja\",\"Agricultura, pecu\\u00e1ria, produ\\u00e7\\u00e3o florestal, pesca e aq\\u00fcicultura/Cultivo de manga\",\"Agricultura, pecu\\u00e1ria, produ\\u00e7\\u00e3o florestal, pesca e aq\\u00fcicultura/Cultivo de soja\",\"Agricultura, pecu\\u00e1ria, produ\\u00e7\\u00e3o florestal, pesca e aq\\u00fcicultura/Indispon\\u00edvel\",\"Agricultura, pecu\\u00e1ria, produ\\u00e7\\u00e3o florestal, pesca e aq\\u00fcicultura/Produ\\u00e7\\u00e3o de ovos\",\"Agricultura, pecu\\u00e1ria, produ\\u00e7\\u00e3o florestal, pesca e aq\\u00fcicultura/Produ\\u00e7\\u00e3o de sementes certificadas, exceto de forrageiras para pasto\",\"Agricultura, pecu\\u00e1ria, produ\\u00e7\\u00e3o florestal, pesca e aq\\u00fcicultura/Servi\\u00e7o de prepara\\u00e7\\u00e3o de terreno, cultivo e colheita\",\"Agricultura, pecu\\u00e1ria, produ\\u00e7\\u00e3o florestal, pesca e aq\\u00fcicultura\"],\"labels\":[\"Atividades de apoio \\u00e0 agricultura n\\u00e3o especificadas anteriormente\",\"Atividades de apoio \\u00e0 produ\\u00e7\\u00e3o florestal\",\"Atividades de p\\u00f3s-colheita\",\"Cria\\u00e7\\u00e3o de bovinos para corte\",\"Cultivo de cana-de-a\\u00e7\\u00facar\",\"Cultivo de laranja\",\"Cultivo de manga\",\"Cultivo de soja\",\"Indispon\\u00edvel\",\"Produ\\u00e7\\u00e3o de ovos\",\"Produ\\u00e7\\u00e3o de sementes certificadas, exceto de forrageiras para pasto\",\"Servi\\u00e7o de prepara\\u00e7\\u00e3o de terreno, cultivo e colheita\",\"Agricultura, pecu\\u00e1ria, produ\\u00e7\\u00e3o florestal, pesca e aq\\u00fcicultura\"],\"name\":\"\",\"parents\":[\"Agricultura, pecu\\u00e1ria, produ\\u00e7\\u00e3o florestal, pesca e aq\\u00fcicultura\",\"Agricultura, pecu\\u00e1ria, produ\\u00e7\\u00e3o florestal, pesca e aq\\u00fcicultura\",\"Agricultura, pecu\\u00e1ria, produ\\u00e7\\u00e3o florestal, pesca e aq\\u00fcicultura\",\"Agricultura, pecu\\u00e1ria, produ\\u00e7\\u00e3o florestal, pesca e aq\\u00fcicultura\",\"Agricultura, pecu\\u00e1ria, produ\\u00e7\\u00e3o florestal, pesca e aq\\u00fcicultura\",\"Agricultura, pecu\\u00e1ria, produ\\u00e7\\u00e3o florestal, pesca e aq\\u00fcicultura\",\"Agricultura, pecu\\u00e1ria, produ\\u00e7\\u00e3o florestal, pesca e aq\\u00fcicultura\",\"Agricultura, pecu\\u00e1ria, produ\\u00e7\\u00e3o florestal, pesca e aq\\u00fcicultura\",\"Agricultura, pecu\\u00e1ria, produ\\u00e7\\u00e3o florestal, pesca e aq\\u00fcicultura\",\"Agricultura, pecu\\u00e1ria, produ\\u00e7\\u00e3o florestal, pesca e aq\\u00fcicultura\",\"Agricultura, pecu\\u00e1ria, produ\\u00e7\\u00e3o florestal, pesca e aq\\u00fcicultura\",\"Agricultura, pecu\\u00e1ria, produ\\u00e7\\u00e3o florestal, pesca e aq\\u00fcicultura\",\"\"],\"values\":[2711870407.257759,702187560.8899709,1349841296.886826,3647535825.8218355,3039486581.01183,771798854.3901293,681545895.4347512,13556826280.817635,1994850387.202427,1184369141.8107083,1389301071.1829123,1171197671.0785015,32200810973.785286],\"type\":\"treemap\",\"marker\":{\"line\":{\"width\":1}},\"textfont\":{\"color\":\"white\",\"size\":12},\"textinfo\":\"label+percent entry\",\"textposition\":\"top left\"}],                        {\"template\":{\"data\":{\"barpolar\":[{\"marker\":{\"line\":{\"color\":\"rgb(234,234,242)\",\"width\":0.5},\"pattern\":{\"fillmode\":\"overlay\",\"size\":10,\"solidity\":0.2}},\"type\":\"barpolar\"}],\"bar\":[{\"error_x\":{\"color\":\"rgb(36,36,36)\"},\"error_y\":{\"color\":\"rgb(36,36,36)\"},\"marker\":{\"line\":{\"color\":\"rgb(234,234,242)\",\"width\":0.5},\"pattern\":{\"fillmode\":\"overlay\",\"size\":10,\"solidity\":0.2}},\"type\":\"bar\"}],\"carpet\":[{\"aaxis\":{\"endlinecolor\":\"rgb(36,36,36)\",\"gridcolor\":\"white\",\"linecolor\":\"white\",\"minorgridcolor\":\"white\",\"startlinecolor\":\"rgb(36,36,36)\"},\"baxis\":{\"endlinecolor\":\"rgb(36,36,36)\",\"gridcolor\":\"white\",\"linecolor\":\"white\",\"minorgridcolor\":\"white\",\"startlinecolor\":\"rgb(36,36,36)\"},\"type\":\"carpet\"}],\"choropleth\":[{\"colorbar\":{\"outlinewidth\":0,\"tickcolor\":\"rgb(36,36,36)\",\"ticklen\":8,\"ticks\":\"outside\",\"tickwidth\":2},\"type\":\"choropleth\"}],\"contourcarpet\":[{\"colorbar\":{\"outlinewidth\":0,\"tickcolor\":\"rgb(36,36,36)\",\"ticklen\":8,\"ticks\":\"outside\",\"tickwidth\":2},\"type\":\"contourcarpet\"}],\"contour\":[{\"colorbar\":{\"outlinewidth\":0,\"tickcolor\":\"rgb(36,36,36)\",\"ticklen\":8,\"ticks\":\"outside\",\"tickwidth\":2},\"colorscale\":[[0.0,\"rgb(2,4,25)\"],[0.06274509803921569,\"rgb(24,15,41)\"],[0.12549019607843137,\"rgb(47,23,57)\"],[0.18823529411764706,\"rgb(71,28,72)\"],[0.25098039215686274,\"rgb(97,30,82)\"],[0.3137254901960784,\"rgb(123,30,89)\"],[0.3764705882352941,\"rgb(150,27,91)\"],[0.4392156862745098,\"rgb(177,22,88)\"],[0.5019607843137255,\"rgb(203,26,79)\"],[0.5647058823529412,\"rgb(223,47,67)\"],[0.6274509803921569,\"rgb(236,76,61)\"],[0.6901960784313725,\"rgb(242,107,73)\"],[0.7529411764705882,\"rgb(244,135,95)\"],[0.8156862745098039,\"rgb(245,162,122)\"],[0.8784313725490196,\"rgb(246,188,153)\"],[0.9411764705882353,\"rgb(247,212,187)\"],[1.0,\"rgb(250,234,220)\"]],\"type\":\"contour\"}],\"heatmapgl\":[{\"colorbar\":{\"outlinewidth\":0,\"tickcolor\":\"rgb(36,36,36)\",\"ticklen\":8,\"ticks\":\"outside\",\"tickwidth\":2},\"colorscale\":[[0.0,\"rgb(2,4,25)\"],[0.06274509803921569,\"rgb(24,15,41)\"],[0.12549019607843137,\"rgb(47,23,57)\"],[0.18823529411764706,\"rgb(71,28,72)\"],[0.25098039215686274,\"rgb(97,30,82)\"],[0.3137254901960784,\"rgb(123,30,89)\"],[0.3764705882352941,\"rgb(150,27,91)\"],[0.4392156862745098,\"rgb(177,22,88)\"],[0.5019607843137255,\"rgb(203,26,79)\"],[0.5647058823529412,\"rgb(223,47,67)\"],[0.6274509803921569,\"rgb(236,76,61)\"],[0.6901960784313725,\"rgb(242,107,73)\"],[0.7529411764705882,\"rgb(244,135,95)\"],[0.8156862745098039,\"rgb(245,162,122)\"],[0.8784313725490196,\"rgb(246,188,153)\"],[0.9411764705882353,\"rgb(247,212,187)\"],[1.0,\"rgb(250,234,220)\"]],\"type\":\"heatmapgl\"}],\"heatmap\":[{\"colorbar\":{\"outlinewidth\":0,\"tickcolor\":\"rgb(36,36,36)\",\"ticklen\":8,\"ticks\":\"outside\",\"tickwidth\":2},\"colorscale\":[[0.0,\"rgb(2,4,25)\"],[0.06274509803921569,\"rgb(24,15,41)\"],[0.12549019607843137,\"rgb(47,23,57)\"],[0.18823529411764706,\"rgb(71,28,72)\"],[0.25098039215686274,\"rgb(97,30,82)\"],[0.3137254901960784,\"rgb(123,30,89)\"],[0.3764705882352941,\"rgb(150,27,91)\"],[0.4392156862745098,\"rgb(177,22,88)\"],[0.5019607843137255,\"rgb(203,26,79)\"],[0.5647058823529412,\"rgb(223,47,67)\"],[0.6274509803921569,\"rgb(236,76,61)\"],[0.6901960784313725,\"rgb(242,107,73)\"],[0.7529411764705882,\"rgb(244,135,95)\"],[0.8156862745098039,\"rgb(245,162,122)\"],[0.8784313725490196,\"rgb(246,188,153)\"],[0.9411764705882353,\"rgb(247,212,187)\"],[1.0,\"rgb(250,234,220)\"]],\"type\":\"heatmap\"}],\"histogram2dcontour\":[{\"colorbar\":{\"outlinewidth\":0,\"tickcolor\":\"rgb(36,36,36)\",\"ticklen\":8,\"ticks\":\"outside\",\"tickwidth\":2},\"colorscale\":[[0.0,\"rgb(2,4,25)\"],[0.06274509803921569,\"rgb(24,15,41)\"],[0.12549019607843137,\"rgb(47,23,57)\"],[0.18823529411764706,\"rgb(71,28,72)\"],[0.25098039215686274,\"rgb(97,30,82)\"],[0.3137254901960784,\"rgb(123,30,89)\"],[0.3764705882352941,\"rgb(150,27,91)\"],[0.4392156862745098,\"rgb(177,22,88)\"],[0.5019607843137255,\"rgb(203,26,79)\"],[0.5647058823529412,\"rgb(223,47,67)\"],[0.6274509803921569,\"rgb(236,76,61)\"],[0.6901960784313725,\"rgb(242,107,73)\"],[0.7529411764705882,\"rgb(244,135,95)\"],[0.8156862745098039,\"rgb(245,162,122)\"],[0.8784313725490196,\"rgb(246,188,153)\"],[0.9411764705882353,\"rgb(247,212,187)\"],[1.0,\"rgb(250,234,220)\"]],\"type\":\"histogram2dcontour\"}],\"histogram2d\":[{\"colorbar\":{\"outlinewidth\":0,\"tickcolor\":\"rgb(36,36,36)\",\"ticklen\":8,\"ticks\":\"outside\",\"tickwidth\":2},\"colorscale\":[[0.0,\"rgb(2,4,25)\"],[0.06274509803921569,\"rgb(24,15,41)\"],[0.12549019607843137,\"rgb(47,23,57)\"],[0.18823529411764706,\"rgb(71,28,72)\"],[0.25098039215686274,\"rgb(97,30,82)\"],[0.3137254901960784,\"rgb(123,30,89)\"],[0.3764705882352941,\"rgb(150,27,91)\"],[0.4392156862745098,\"rgb(177,22,88)\"],[0.5019607843137255,\"rgb(203,26,79)\"],[0.5647058823529412,\"rgb(223,47,67)\"],[0.6274509803921569,\"rgb(236,76,61)\"],[0.6901960784313725,\"rgb(242,107,73)\"],[0.7529411764705882,\"rgb(244,135,95)\"],[0.8156862745098039,\"rgb(245,162,122)\"],[0.8784313725490196,\"rgb(246,188,153)\"],[0.9411764705882353,\"rgb(247,212,187)\"],[1.0,\"rgb(250,234,220)\"]],\"type\":\"histogram2d\"}],\"histogram\":[{\"marker\":{\"pattern\":{\"fillmode\":\"overlay\",\"size\":10,\"solidity\":0.2}},\"type\":\"histogram\"}],\"mesh3d\":[{\"colorbar\":{\"outlinewidth\":0,\"tickcolor\":\"rgb(36,36,36)\",\"ticklen\":8,\"ticks\":\"outside\",\"tickwidth\":2},\"type\":\"mesh3d\"}],\"parcoords\":[{\"line\":{\"colorbar\":{\"outlinewidth\":0,\"tickcolor\":\"rgb(36,36,36)\",\"ticklen\":8,\"ticks\":\"outside\",\"tickwidth\":2}},\"type\":\"parcoords\"}],\"pie\":[{\"automargin\":true,\"type\":\"pie\"}],\"scatter3d\":[{\"line\":{\"colorbar\":{\"outlinewidth\":0,\"tickcolor\":\"rgb(36,36,36)\",\"ticklen\":8,\"ticks\":\"outside\",\"tickwidth\":2}},\"marker\":{\"colorbar\":{\"outlinewidth\":0,\"tickcolor\":\"rgb(36,36,36)\",\"ticklen\":8,\"ticks\":\"outside\",\"tickwidth\":2}},\"type\":\"scatter3d\"}],\"scattercarpet\":[{\"marker\":{\"colorbar\":{\"outlinewidth\":0,\"tickcolor\":\"rgb(36,36,36)\",\"ticklen\":8,\"ticks\":\"outside\",\"tickwidth\":2}},\"type\":\"scattercarpet\"}],\"scattergeo\":[{\"marker\":{\"colorbar\":{\"outlinewidth\":0,\"tickcolor\":\"rgb(36,36,36)\",\"ticklen\":8,\"ticks\":\"outside\",\"tickwidth\":2}},\"type\":\"scattergeo\"}],\"scattergl\":[{\"marker\":{\"colorbar\":{\"outlinewidth\":0,\"tickcolor\":\"rgb(36,36,36)\",\"ticklen\":8,\"ticks\":\"outside\",\"tickwidth\":2}},\"type\":\"scattergl\"}],\"scattermapbox\":[{\"marker\":{\"colorbar\":{\"outlinewidth\":0,\"tickcolor\":\"rgb(36,36,36)\",\"ticklen\":8,\"ticks\":\"outside\",\"tickwidth\":2}},\"type\":\"scattermapbox\"}],\"scatterpolargl\":[{\"marker\":{\"colorbar\":{\"outlinewidth\":0,\"tickcolor\":\"rgb(36,36,36)\",\"ticklen\":8,\"ticks\":\"outside\",\"tickwidth\":2}},\"type\":\"scatterpolargl\"}],\"scatterpolar\":[{\"marker\":{\"colorbar\":{\"outlinewidth\":0,\"tickcolor\":\"rgb(36,36,36)\",\"ticklen\":8,\"ticks\":\"outside\",\"tickwidth\":2}},\"type\":\"scatterpolar\"}],\"scatter\":[{\"fillpattern\":{\"fillmode\":\"overlay\",\"size\":10,\"solidity\":0.2},\"type\":\"scatter\"}],\"scatterternary\":[{\"marker\":{\"colorbar\":{\"outlinewidth\":0,\"tickcolor\":\"rgb(36,36,36)\",\"ticklen\":8,\"ticks\":\"outside\",\"tickwidth\":2}},\"type\":\"scatterternary\"}],\"surface\":[{\"colorbar\":{\"outlinewidth\":0,\"tickcolor\":\"rgb(36,36,36)\",\"ticklen\":8,\"ticks\":\"outside\",\"tickwidth\":2},\"colorscale\":[[0.0,\"rgb(2,4,25)\"],[0.06274509803921569,\"rgb(24,15,41)\"],[0.12549019607843137,\"rgb(47,23,57)\"],[0.18823529411764706,\"rgb(71,28,72)\"],[0.25098039215686274,\"rgb(97,30,82)\"],[0.3137254901960784,\"rgb(123,30,89)\"],[0.3764705882352941,\"rgb(150,27,91)\"],[0.4392156862745098,\"rgb(177,22,88)\"],[0.5019607843137255,\"rgb(203,26,79)\"],[0.5647058823529412,\"rgb(223,47,67)\"],[0.6274509803921569,\"rgb(236,76,61)\"],[0.6901960784313725,\"rgb(242,107,73)\"],[0.7529411764705882,\"rgb(244,135,95)\"],[0.8156862745098039,\"rgb(245,162,122)\"],[0.8784313725490196,\"rgb(246,188,153)\"],[0.9411764705882353,\"rgb(247,212,187)\"],[1.0,\"rgb(250,234,220)\"]],\"type\":\"surface\"}],\"table\":[{\"cells\":{\"fill\":{\"color\":\"rgb(231,231,240)\"},\"line\":{\"color\":\"white\"}},\"header\":{\"fill\":{\"color\":\"rgb(183,183,191)\"},\"line\":{\"color\":\"white\"}},\"type\":\"table\"}]},\"layout\":{\"annotationdefaults\":{\"arrowcolor\":\"rgb(67,103,167)\"},\"autotypenumbers\":\"strict\",\"coloraxis\":{\"colorbar\":{\"outlinewidth\":0,\"tickcolor\":\"rgb(36,36,36)\",\"ticklen\":8,\"ticks\":\"outside\",\"tickwidth\":2}},\"colorscale\":{\"sequential\":[[0.0,\"rgb(2,4,25)\"],[0.06274509803921569,\"rgb(24,15,41)\"],[0.12549019607843137,\"rgb(47,23,57)\"],[0.18823529411764706,\"rgb(71,28,72)\"],[0.25098039215686274,\"rgb(97,30,82)\"],[0.3137254901960784,\"rgb(123,30,89)\"],[0.3764705882352941,\"rgb(150,27,91)\"],[0.4392156862745098,\"rgb(177,22,88)\"],[0.5019607843137255,\"rgb(203,26,79)\"],[0.5647058823529412,\"rgb(223,47,67)\"],[0.6274509803921569,\"rgb(236,76,61)\"],[0.6901960784313725,\"rgb(242,107,73)\"],[0.7529411764705882,\"rgb(244,135,95)\"],[0.8156862745098039,\"rgb(245,162,122)\"],[0.8784313725490196,\"rgb(246,188,153)\"],[0.9411764705882353,\"rgb(247,212,187)\"],[1.0,\"rgb(250,234,220)\"]],\"sequentialminus\":[[0.0,\"rgb(2,4,25)\"],[0.06274509803921569,\"rgb(24,15,41)\"],[0.12549019607843137,\"rgb(47,23,57)\"],[0.18823529411764706,\"rgb(71,28,72)\"],[0.25098039215686274,\"rgb(97,30,82)\"],[0.3137254901960784,\"rgb(123,30,89)\"],[0.3764705882352941,\"rgb(150,27,91)\"],[0.4392156862745098,\"rgb(177,22,88)\"],[0.5019607843137255,\"rgb(203,26,79)\"],[0.5647058823529412,\"rgb(223,47,67)\"],[0.6274509803921569,\"rgb(236,76,61)\"],[0.6901960784313725,\"rgb(242,107,73)\"],[0.7529411764705882,\"rgb(244,135,95)\"],[0.8156862745098039,\"rgb(245,162,122)\"],[0.8784313725490196,\"rgb(246,188,153)\"],[0.9411764705882353,\"rgb(247,212,187)\"],[1.0,\"rgb(250,234,220)\"]]},\"colorway\":[\"rgb(76,114,176)\",\"rgb(221,132,82)\",\"rgb(85,168,104)\",\"rgb(196,78,82)\",\"rgb(129,114,179)\",\"rgb(147,120,96)\",\"rgb(218,139,195)\",\"rgb(140,140,140)\",\"rgb(204,185,116)\",\"rgb(100,181,205)\"],\"font\":{\"color\":\"rgb(36,36,36)\"},\"geo\":{\"bgcolor\":\"white\",\"lakecolor\":\"white\",\"landcolor\":\"rgb(234,234,242)\",\"showlakes\":true,\"showland\":true,\"subunitcolor\":\"white\"},\"hoverlabel\":{\"align\":\"left\"},\"hovermode\":\"closest\",\"paper_bgcolor\":\"white\",\"plot_bgcolor\":\"rgb(234,234,242)\",\"polar\":{\"angularaxis\":{\"gridcolor\":\"white\",\"linecolor\":\"white\",\"showgrid\":true,\"ticks\":\"\"},\"bgcolor\":\"rgb(234,234,242)\",\"radialaxis\":{\"gridcolor\":\"white\",\"linecolor\":\"white\",\"showgrid\":true,\"ticks\":\"\"}},\"scene\":{\"xaxis\":{\"backgroundcolor\":\"rgb(234,234,242)\",\"gridcolor\":\"white\",\"gridwidth\":2,\"linecolor\":\"white\",\"showbackground\":true,\"showgrid\":true,\"ticks\":\"\",\"zerolinecolor\":\"white\"},\"yaxis\":{\"backgroundcolor\":\"rgb(234,234,242)\",\"gridcolor\":\"white\",\"gridwidth\":2,\"linecolor\":\"white\",\"showbackground\":true,\"showgrid\":true,\"ticks\":\"\",\"zerolinecolor\":\"white\"},\"zaxis\":{\"backgroundcolor\":\"rgb(234,234,242)\",\"gridcolor\":\"white\",\"gridwidth\":2,\"linecolor\":\"white\",\"showbackground\":true,\"showgrid\":true,\"ticks\":\"\",\"zerolinecolor\":\"white\"}},\"shapedefaults\":{\"fillcolor\":\"rgb(67,103,167)\",\"line\":{\"width\":0},\"opacity\":0.5},\"ternary\":{\"aaxis\":{\"gridcolor\":\"white\",\"linecolor\":\"white\",\"showgrid\":true,\"ticks\":\"\"},\"baxis\":{\"gridcolor\":\"white\",\"linecolor\":\"white\",\"showgrid\":true,\"ticks\":\"\"},\"bgcolor\":\"rgb(234,234,242)\",\"caxis\":{\"gridcolor\":\"white\",\"linecolor\":\"white\",\"showgrid\":true,\"ticks\":\"\"}},\"xaxis\":{\"automargin\":true,\"gridcolor\":\"white\",\"linecolor\":\"white\",\"showgrid\":true,\"ticks\":\"\",\"title\":{\"standoff\":15},\"zerolinecolor\":\"white\"},\"yaxis\":{\"automargin\":true,\"gridcolor\":\"white\",\"linecolor\":\"white\",\"showgrid\":true,\"ticks\":\"\",\"title\":{\"standoff\":15},\"zerolinecolor\":\"white\"}}},\"legend\":{\"tracegroupgap\":0},\"margin\":{\"t\":50,\"l\":25,\"r\":25,\"b\":25},\"title\":{\"text\":\"Endividamento do Agro por subsetor - Ano 2022\"}},                        {\"responsive\": true}                    ).then(function(){\n",
       "                            \n",
       "var gd = document.getElementById('f74c4879-f954-40c0-84ce-c3cd21910502');\n",
       "var x = new MutationObserver(function (mutations, observer) {{\n",
       "        var display = window.getComputedStyle(gd).display;\n",
       "        if (!display || display === 'none') {{\n",
       "            console.log([gd, 'removed!']);\n",
       "            Plotly.purge(gd);\n",
       "            observer.disconnect();\n",
       "        }}\n",
       "}});\n",
       "\n",
       "// Listen for the removal of the full notebook cells\n",
       "var notebookContainer = gd.closest('#notebook-container');\n",
       "if (notebookContainer) {{\n",
       "    x.observe(notebookContainer, {childList: true});\n",
       "}}\n",
       "\n",
       "// Listen for the clearing of the current output cell\n",
       "var outputEl = gd.closest('.output');\n",
       "if (outputEl) {{\n",
       "    x.observe(outputEl, {childList: true});\n",
       "}}\n",
       "\n",
       "                        })                };                });            </script>        </div>"
      ]
     },
     "metadata": {},
     "output_type": "display_data"
    }
   ],
   "source": [
    "fig = px.treemap(df_acumulado_corte, \n",
    "                 path=['cnae_secao', 'cnae_subclasse'],\n",
    "                 values='valor_deflacionado')\n",
    "\n",
    "fig.update_layout(title='Endividamento do Agro por subsetor - Ano 2022',\n",
    "                  margin=dict(t=50, l=25, r=25, b=25),\n",
    "                 template = \"seaborn\")\n",
    "\n",
    "fig.update_traces(textinfo='label+percent entry',\n",
    "                 marker_line_width = 1,\n",
    "                  hovertemplate='%{label} <br> $%{value:,.2f} <br> %{percentRoot}',\n",
    "                 textposition=\"top left\",\n",
    "                 textfont_size = 12,\n",
    "                 textfont_color = 'white')\n",
    "\n",
    "fig.show()"
   ]
  },
  {
   "cell_type": "code",
   "execution_count": null,
   "id": "6bba31ba-c7ca-456d-a44b-e0161046b80d",
   "metadata": {},
   "outputs": [],
   "source": []
  }
 ],
 "metadata": {
  "kernelspec": {
   "display_name": "Python 3 (ipykernel)",
   "language": "python",
   "name": "python3"
  },
  "language_info": {
   "codemirror_mode": {
    "name": "ipython",
    "version": 3
   },
   "file_extension": ".py",
   "mimetype": "text/x-python",
   "name": "python",
   "nbconvert_exporter": "python",
   "pygments_lexer": "ipython3",
   "version": "3.11.5"
  }
 },
 "nbformat": 4,
 "nbformat_minor": 5
}
